{
    "cells": [
        {
            "cell_type": "markdown",
            "metadata": {},
            "source": "<a href=\"http://cocl.us/pytorch_link_top\">\n    <img src=\"https://s3-api.us-geo.objectstorage.softlayer.net/cf-courses-data/CognitiveClass/DL0110EN/notebook_images%20/Pytochtop.png\" width=\"750\" alt=\"IBM Product \" />\n</a> \n"
        },
        {
            "cell_type": "markdown",
            "metadata": {},
            "source": "<img src=\"https://s3-api.us-geo.objectstorage.softlayer.net/cf-courses-data/CognitiveClass/DL0110EN/notebook_images%20/cc-logo-square.png\" width=\"200\" alt=\"cognitiveclass.ai logo\" />\n"
        },
        {
            "cell_type": "markdown",
            "metadata": {},
            "source": "<h1>Softmax Classifier</h1>\n"
        },
        {
            "cell_type": "markdown",
            "metadata": {},
            "source": "<h2>Objective</h2><ul><li> How to classify handwritten digits from the MNIST database by using Softmax classifier.</li></ul> \n"
        },
        {
            "cell_type": "markdown",
            "metadata": {},
            "source": "<h2>Table of Contents</h2>\n<p>In this lab, you will use a single layer Softmax to classify handwritten digits from the MNIST database.</p>\n\n<ul>\n    <li><a href=\"#Makeup_Data\">Make some Data</a></li>\n    <li><a href=\"#Classifier\">Softmax Classifier</a></li>\n    <li><a href=\"#Model\">Define Softmax, Criterion Function, Optimizer, and Train the Model</a></li>\n    <li><a href=\"#Result\">Analyze Results</a></li>\n</ul>\n<p>Estimated Time Needed: <strong>25 min</strong></p>\n\n<hr>\n"
        },
        {
            "cell_type": "markdown",
            "metadata": {},
            "source": "<h2>Preparation</h2>\n"
        },
        {
            "cell_type": "markdown",
            "metadata": {},
            "source": "We'll need the following libraries\n"
        },
        {
            "cell_type": "code",
            "execution_count": 1,
            "metadata": {},
            "outputs": [],
            "source": "# Import the libraries we need for this lab\n\n# Using the following line code to install the torchvision library\n# !conda install -y torchvision\n\nimport torch \nimport torch.nn as nn\nimport torchvision.transforms as transforms\nimport torchvision.datasets as dsets\nimport matplotlib.pylab as plt\nimport numpy as np"
        },
        {
            "cell_type": "markdown",
            "metadata": {},
            "source": "Use the following function to plot out the parameters of the Softmax function:\n"
        },
        {
            "cell_type": "code",
            "execution_count": 2,
            "metadata": {},
            "outputs": [],
            "source": "# The function to plot parameters\n\ndef PlotParameters(model): \n    W = model.state_dict()['linear.weight'].data\n    w_min = W.min().item()\n    w_max = W.max().item()\n    fig, axes = plt.subplots(2, 5)\n    fig.subplots_adjust(hspace=0.01, wspace=0.1)\n    for i, ax in enumerate(axes.flat):\n        if i < 10:\n            \n            # Set the label for the sub-plot.\n            ax.set_xlabel(\"class: {0}\".format(i))\n\n            # Plot the image.\n            ax.imshow(W[i, :].view(28, 28), vmin=w_min, vmax=w_max, cmap='seismic')\n\n            ax.set_xticks([])\n            ax.set_yticks([])\n\n        # Ensure the plot is shown correctly with multiple plots\n        # in a single Notebook cell.\n    plt.show()"
        },
        {
            "cell_type": "markdown",
            "metadata": {},
            "source": "Use the following function to visualize the data: \n"
        },
        {
            "cell_type": "code",
            "execution_count": 3,
            "metadata": {},
            "outputs": [],
            "source": "# Plot the data\n\ndef show_data(data_sample):\n    plt.imshow(data_sample[0].numpy().reshape(28, 28), cmap='gray')\n    plt.title('y = ' + str(data_sample[1].item()))"
        },
        {
            "cell_type": "markdown",
            "metadata": {},
            "source": "<!--Empty Space for separating topics-->\n"
        },
        {
            "cell_type": "markdown",
            "metadata": {},
            "source": "<h2 id=\"Makeup_Data\">Make Some Data</h2> \n"
        },
        {
            "cell_type": "markdown",
            "metadata": {},
            "source": "Load the training dataset by setting the parameters <code>train</code> to <code>True</code> and convert it to a tensor by placing a transform object in the argument <code>transform</code>.\n"
        },
        {
            "cell_type": "code",
            "execution_count": 4,
            "metadata": {},
            "outputs": [
                {
                    "name": "stderr",
                    "output_type": "stream",
                    "text": "  0%|          | 0/9912422 [00:00<?, ?it/s]"
                },
                {
                    "name": "stdout",
                    "output_type": "stream",
                    "text": "Downloading http://yann.lecun.com/exdb/mnist/train-images-idx3-ubyte.gz to ./data/MNIST/raw/train-images-idx3-ubyte.gz\n"
                },
                {
                    "name": "stderr",
                    "output_type": "stream",
                    "text": "9920512it [00:00, 27270991.94it/s]                            \n"
                },
                {
                    "name": "stdout",
                    "output_type": "stream",
                    "text": "Extracting ./data/MNIST/raw/train-images-idx3-ubyte.gz to ./data/MNIST/raw\n"
                },
                {
                    "name": "stderr",
                    "output_type": "stream",
                    "text": "32768it [00:00, 244877.91it/s]           \n0it [00:00, ?it/s]"
                },
                {
                    "name": "stdout",
                    "output_type": "stream",
                    "text": "Downloading http://yann.lecun.com/exdb/mnist/train-labels-idx1-ubyte.gz to ./data/MNIST/raw/train-labels-idx1-ubyte.gz\nExtracting ./data/MNIST/raw/train-labels-idx1-ubyte.gz to ./data/MNIST/raw\nDownloading http://yann.lecun.com/exdb/mnist/t10k-images-idx3-ubyte.gz to ./data/MNIST/raw/t10k-images-idx3-ubyte.gz\n"
                },
                {
                    "name": "stderr",
                    "output_type": "stream",
                    "text": "1654784it [00:00, 4565882.94it/s]                             \n8192it [00:00, 67141.12it/s]            \n"
                },
                {
                    "name": "stdout",
                    "output_type": "stream",
                    "text": "Extracting ./data/MNIST/raw/t10k-images-idx3-ubyte.gz to ./data/MNIST/raw\nDownloading http://yann.lecun.com/exdb/mnist/t10k-labels-idx1-ubyte.gz to ./data/MNIST/raw/t10k-labels-idx1-ubyte.gz\nExtracting ./data/MNIST/raw/t10k-labels-idx1-ubyte.gz to ./data/MNIST/raw\nProcessing...\nDone!\nPrint the training dataset:\n  Dataset MNIST\n    Number of datapoints: 60000\n    Root location: ./data\n    Split: Train\n    StandardTransform\nTransform: ToTensor()\n"
                }
            ],
            "source": "# Create and print the training dataset\n\ntrain_dataset = dsets.MNIST(root='./data', train=True, download=True, transform=transforms.ToTensor())\nprint(\"Print the training dataset:\\n \", train_dataset)"
        },
        {
            "cell_type": "markdown",
            "metadata": {},
            "source": "Load the testing dataset by setting the parameters <code>train</code> to <code>False</code> and convert it to a tensor by placing a transform object in the argument <code>transform</code>.\n"
        },
        {
            "cell_type": "code",
            "execution_count": 5,
            "metadata": {},
            "outputs": [
                {
                    "name": "stdout",
                    "output_type": "stream",
                    "text": "Print the validating dataset:\n  Dataset MNIST\n    Number of datapoints: 10000\n    Root location: ./data\n    Split: Test\n    StandardTransform\nTransform: ToTensor()\n"
                }
            ],
            "source": "# Create and print the validating dataset\n\nvalidation_dataset = dsets.MNIST(root='./data', train=False, download=True, transform=transforms.ToTensor())\nprint(\"Print the validating dataset:\\n \", validation_dataset)"
        },
        {
            "cell_type": "markdown",
            "metadata": {},
            "source": "You can see that the data type is long:\n"
        },
        {
            "cell_type": "code",
            "execution_count": 8,
            "metadata": {},
            "outputs": [
                {
                    "name": "stdout",
                    "output_type": "stream",
                    "text": "Type of data element:  <class 'int'>\n"
                }
            ],
            "source": "# Print the type of the element\n\nprint(\"Type of data element: \", type(train_dataset[0][1]))"
        },
        {
            "cell_type": "markdown",
            "metadata": {},
            "source": "Each element in the rectangular tensor corresponds to a number that represents a pixel intensity as demonstrated by the following image:\n"
        },
        {
            "cell_type": "markdown",
            "metadata": {},
            "source": "<img src=\"https://s3-api.us-geo.objectstorage.softlayer.net/cf-courses-data/CognitiveClass/DL0110EN/notebook_images%20/chapter3/3.32_image_values.png\" width=\"550\" alt=\"MNIST elements\" />\n"
        },
        {
            "cell_type": "markdown",
            "metadata": {},
            "source": "In this image, the values are inverted i.e back represents wight.\n"
        },
        {
            "cell_type": "markdown",
            "metadata": {},
            "source": "Print out the label of the fourth element:\n"
        },
        {
            "cell_type": "code",
            "execution_count": 9,
            "metadata": {},
            "outputs": [
                {
                    "name": "stdout",
                    "output_type": "stream",
                    "text": "The label:  1\n"
                }
            ],
            "source": "# Print the label\n\nprint(\"The label: \", train_dataset[3][1])"
        },
        {
            "cell_type": "markdown",
            "metadata": {},
            "source": "The result shows the number in the image is 1\n"
        },
        {
            "cell_type": "markdown",
            "metadata": {},
            "source": "Plot  the fourth sample:\n"
        },
        {
            "cell_type": "code",
            "execution_count": 10,
            "metadata": {},
            "outputs": [
                {
                    "ename": "AttributeError",
                    "evalue": "'int' object has no attribute 'item'",
                    "output_type": "error",
                    "traceback": [
                        "\u001b[0;31m---------------------------------------------------------------------------\u001b[0m",
                        "\u001b[0;31mAttributeError\u001b[0m                            Traceback (most recent call last)",
                        "\u001b[0;32m<ipython-input-10-275890d729d6>\u001b[0m in \u001b[0;36m<module>\u001b[0;34m\u001b[0m\n\u001b[1;32m      1\u001b[0m \u001b[0;31m# Plot the image\u001b[0m\u001b[0;34m\u001b[0m\u001b[0;34m\u001b[0m\u001b[0;34m\u001b[0m\u001b[0m\n\u001b[1;32m      2\u001b[0m \u001b[0;34m\u001b[0m\u001b[0m\n\u001b[0;32m----> 3\u001b[0;31m \u001b[0mprint\u001b[0m\u001b[0;34m(\u001b[0m\u001b[0;34m\"The image: \"\u001b[0m\u001b[0;34m,\u001b[0m \u001b[0mshow_data\u001b[0m\u001b[0;34m(\u001b[0m\u001b[0mtrain_dataset\u001b[0m\u001b[0;34m[\u001b[0m\u001b[0;36m3\u001b[0m\u001b[0;34m]\u001b[0m\u001b[0;34m)\u001b[0m\u001b[0;34m)\u001b[0m\u001b[0;34m\u001b[0m\u001b[0;34m\u001b[0m\u001b[0m\n\u001b[0m",
                        "\u001b[0;32m<ipython-input-3-4ecc64a3c490>\u001b[0m in \u001b[0;36mshow_data\u001b[0;34m(data_sample)\u001b[0m\n\u001b[1;32m      3\u001b[0m \u001b[0;32mdef\u001b[0m \u001b[0mshow_data\u001b[0m\u001b[0;34m(\u001b[0m\u001b[0mdata_sample\u001b[0m\u001b[0;34m)\u001b[0m\u001b[0;34m:\u001b[0m\u001b[0;34m\u001b[0m\u001b[0;34m\u001b[0m\u001b[0m\n\u001b[1;32m      4\u001b[0m     \u001b[0mplt\u001b[0m\u001b[0;34m.\u001b[0m\u001b[0mimshow\u001b[0m\u001b[0;34m(\u001b[0m\u001b[0mdata_sample\u001b[0m\u001b[0;34m[\u001b[0m\u001b[0;36m0\u001b[0m\u001b[0;34m]\u001b[0m\u001b[0;34m.\u001b[0m\u001b[0mnumpy\u001b[0m\u001b[0;34m(\u001b[0m\u001b[0;34m)\u001b[0m\u001b[0;34m.\u001b[0m\u001b[0mreshape\u001b[0m\u001b[0;34m(\u001b[0m\u001b[0;36m28\u001b[0m\u001b[0;34m,\u001b[0m \u001b[0;36m28\u001b[0m\u001b[0;34m)\u001b[0m\u001b[0;34m,\u001b[0m \u001b[0mcmap\u001b[0m\u001b[0;34m=\u001b[0m\u001b[0;34m'gray'\u001b[0m\u001b[0;34m)\u001b[0m\u001b[0;34m\u001b[0m\u001b[0;34m\u001b[0m\u001b[0m\n\u001b[0;32m----> 5\u001b[0;31m     \u001b[0mplt\u001b[0m\u001b[0;34m.\u001b[0m\u001b[0mtitle\u001b[0m\u001b[0;34m(\u001b[0m\u001b[0;34m'y = '\u001b[0m \u001b[0;34m+\u001b[0m \u001b[0mstr\u001b[0m\u001b[0;34m(\u001b[0m\u001b[0mdata_sample\u001b[0m\u001b[0;34m[\u001b[0m\u001b[0;36m1\u001b[0m\u001b[0;34m]\u001b[0m\u001b[0;34m.\u001b[0m\u001b[0mitem\u001b[0m\u001b[0;34m(\u001b[0m\u001b[0;34m)\u001b[0m\u001b[0;34m)\u001b[0m\u001b[0;34m)\u001b[0m\u001b[0;34m\u001b[0m\u001b[0;34m\u001b[0m\u001b[0m\n\u001b[0m",
                        "\u001b[0;31mAttributeError\u001b[0m: 'int' object has no attribute 'item'"
                    ]
                },
                {
                    "data": {
                        "image/png": "[encoded data removed]",
                        "text/plain": "<Figure size 432x288 with 1 Axes>"
                    },
                    "metadata": {
                        "needs_background": "light"
                    },
                    "output_type": "display_data"
                }
            ],
            "source": "# Plot the image\n\nprint(\"The image: \", show_data(train_dataset[3]))"
        },
        {
            "cell_type": "markdown",
            "metadata": {},
            "source": "You see that it is a 1. Now, plot the third sample:\n"
        },
        {
            "cell_type": "code",
            "execution_count": 11,
            "metadata": {},
            "outputs": [
                {
                    "ename": "AttributeError",
                    "evalue": "'int' object has no attribute 'item'",
                    "output_type": "error",
                    "traceback": [
                        "\u001b[0;31m---------------------------------------------------------------------------\u001b[0m",
                        "\u001b[0;31mAttributeError\u001b[0m                            Traceback (most recent call last)",
                        "\u001b[0;32m<ipython-input-11-c8d893359268>\u001b[0m in \u001b[0;36m<module>\u001b[0;34m\u001b[0m\n\u001b[1;32m      1\u001b[0m \u001b[0;31m# Plot the image\u001b[0m\u001b[0;34m\u001b[0m\u001b[0;34m\u001b[0m\u001b[0;34m\u001b[0m\u001b[0m\n\u001b[1;32m      2\u001b[0m \u001b[0;34m\u001b[0m\u001b[0m\n\u001b[0;32m----> 3\u001b[0;31m \u001b[0mshow_data\u001b[0m\u001b[0;34m(\u001b[0m\u001b[0mtrain_dataset\u001b[0m\u001b[0;34m[\u001b[0m\u001b[0;36m2\u001b[0m\u001b[0;34m]\u001b[0m\u001b[0;34m)\u001b[0m\u001b[0;34m\u001b[0m\u001b[0;34m\u001b[0m\u001b[0m\n\u001b[0m",
                        "\u001b[0;32m<ipython-input-3-4ecc64a3c490>\u001b[0m in \u001b[0;36mshow_data\u001b[0;34m(data_sample)\u001b[0m\n\u001b[1;32m      3\u001b[0m \u001b[0;32mdef\u001b[0m \u001b[0mshow_data\u001b[0m\u001b[0;34m(\u001b[0m\u001b[0mdata_sample\u001b[0m\u001b[0;34m)\u001b[0m\u001b[0;34m:\u001b[0m\u001b[0;34m\u001b[0m\u001b[0;34m\u001b[0m\u001b[0m\n\u001b[1;32m      4\u001b[0m     \u001b[0mplt\u001b[0m\u001b[0;34m.\u001b[0m\u001b[0mimshow\u001b[0m\u001b[0;34m(\u001b[0m\u001b[0mdata_sample\u001b[0m\u001b[0;34m[\u001b[0m\u001b[0;36m0\u001b[0m\u001b[0;34m]\u001b[0m\u001b[0;34m.\u001b[0m\u001b[0mnumpy\u001b[0m\u001b[0;34m(\u001b[0m\u001b[0;34m)\u001b[0m\u001b[0;34m.\u001b[0m\u001b[0mreshape\u001b[0m\u001b[0;34m(\u001b[0m\u001b[0;36m28\u001b[0m\u001b[0;34m,\u001b[0m \u001b[0;36m28\u001b[0m\u001b[0;34m)\u001b[0m\u001b[0;34m,\u001b[0m \u001b[0mcmap\u001b[0m\u001b[0;34m=\u001b[0m\u001b[0;34m'gray'\u001b[0m\u001b[0;34m)\u001b[0m\u001b[0;34m\u001b[0m\u001b[0;34m\u001b[0m\u001b[0m\n\u001b[0;32m----> 5\u001b[0;31m     \u001b[0mplt\u001b[0m\u001b[0;34m.\u001b[0m\u001b[0mtitle\u001b[0m\u001b[0;34m(\u001b[0m\u001b[0;34m'y = '\u001b[0m \u001b[0;34m+\u001b[0m \u001b[0mstr\u001b[0m\u001b[0;34m(\u001b[0m\u001b[0mdata_sample\u001b[0m\u001b[0;34m[\u001b[0m\u001b[0;36m1\u001b[0m\u001b[0;34m]\u001b[0m\u001b[0;34m.\u001b[0m\u001b[0mitem\u001b[0m\u001b[0;34m(\u001b[0m\u001b[0;34m)\u001b[0m\u001b[0;34m)\u001b[0m\u001b[0;34m)\u001b[0m\u001b[0;34m\u001b[0m\u001b[0;34m\u001b[0m\u001b[0m\n\u001b[0m",
                        "\u001b[0;31mAttributeError\u001b[0m: 'int' object has no attribute 'item'"
                    ]
                },
                {
                    "data": {
                        "image/png": "[encoded data removed]",
                        "text/plain": "<Figure size 432x288 with 1 Axes>"
                    },
                    "metadata": {
                        "needs_background": "light"
                    },
                    "output_type": "display_data"
                }
            ],
            "source": "# Plot the image\n\nshow_data(train_dataset[2])"
        },
        {
            "cell_type": "markdown",
            "metadata": {},
            "source": "<!--Empty Space for separating topics-->\n"
        },
        {
            "cell_type": "markdown",
            "metadata": {},
            "source": "<h2 id=\"#Classifier\">Build a Softmax Classifer</h2>\n"
        },
        {
            "cell_type": "markdown",
            "metadata": {},
            "source": "Build a Softmax classifier class: \n"
        },
        {
            "cell_type": "code",
            "execution_count": 12,
            "metadata": {},
            "outputs": [],
            "source": "# Define softmax classifier class\n\nclass SoftMax(nn.Module):\n    \n    # Constructor\n    def __init__(self, input_size, output_size):\n        super(SoftMax, self).__init__()\n        self.linear = nn.Linear(input_size, output_size)\n        \n    # Prediction\n    def forward(self, x):\n        z = self.linear(x)\n        return z"
        },
        {
            "cell_type": "markdown",
            "metadata": {},
            "source": "The Softmax function requires vector inputs. Note that the vector shape is 28x28.\n"
        },
        {
            "cell_type": "code",
            "execution_count": 13,
            "metadata": {},
            "outputs": [
                {
                    "data": {
                        "text/plain": "torch.Size([1, 28, 28])"
                    },
                    "execution_count": 13,
                    "metadata": {},
                    "output_type": "execute_result"
                }
            ],
            "source": "# Print the shape of train dataset\n\ntrain_dataset[0][0].shape"
        },
        {
            "cell_type": "markdown",
            "metadata": {},
            "source": "Flatten the tensor as shown in this image: \n"
        },
        {
            "cell_type": "markdown",
            "metadata": {},
            "source": "<img src=\"https://s3-api.us-geo.objectstorage.softlayer.net/cf-courses-data/CognitiveClass/DL0110EN/notebook_images%20/chapter3/3.3.2image_to_vector.gif\" width=\"550\" alt=\"Flattern Image\" />\n"
        },
        {
            "cell_type": "markdown",
            "metadata": {},
            "source": "The size of the tensor is now 784.\n"
        },
        {
            "cell_type": "markdown",
            "metadata": {},
            "source": "<img src = \"https://s3-api.us-geo.objectstorage.softlayer.net/cf-courses-data/CognitiveClass/DL0110EN/notebook_images%20/chapter3/3.3.2Imagetovector2.png\" width=\"550\" alt=\"Flattern Image\" />\n"
        },
        {
            "cell_type": "markdown",
            "metadata": {},
            "source": "Set the input size and output size: \n"
        },
        {
            "cell_type": "code",
            "execution_count": 14,
            "metadata": {},
            "outputs": [],
            "source": "# Set input size and output size\n\ninput_dim = 28 * 28\noutput_dim = 10"
        },
        {
            "cell_type": "markdown",
            "metadata": {},
            "source": "<!--Empty Space for separating topics-->\n"
        },
        {
            "cell_type": "markdown",
            "metadata": {},
            "source": "<h2 id=\"Model\">Define the Softmax Classifier, Criterion Function, Optimizer, and Train the Model</h2> \n"
        },
        {
            "cell_type": "code",
            "execution_count": 15,
            "metadata": {},
            "outputs": [
                {
                    "name": "stdout",
                    "output_type": "stream",
                    "text": "Print the model:\n  SoftMax(\n  (linear): Linear(in_features=784, out_features=10, bias=True)\n)\n"
                }
            ],
            "source": "# Create the model\n\nmodel = SoftMax(input_dim, output_dim)\nprint(\"Print the model:\\n \", model)"
        },
        {
            "cell_type": "markdown",
            "metadata": {},
            "source": "View the size of the model parameters: \n"
        },
        {
            "cell_type": "code",
            "execution_count": 16,
            "metadata": {},
            "outputs": [
                {
                    "name": "stdout",
                    "output_type": "stream",
                    "text": "W:  torch.Size([10, 784])\nb:  torch.Size([10])\n"
                }
            ],
            "source": "# Print the parameters\n\nprint('W: ',list(model.parameters())[0].size())\nprint('b: ',list(model.parameters())[1].size())"
        },
        {
            "cell_type": "markdown",
            "metadata": {},
            "source": "You can cover the model parameters for each class to a rectangular grid:  \n"
        },
        {
            "cell_type": "markdown",
            "metadata": {},
            "source": "<a>     <img src = \"https://s3-api.us-geo.objectstorage.softlayer.net/cf-courses-data/CognitiveClass/DL0110EN/notebook_images%20/chapter3/3.3.2paramaters_to_image.gif\" width = 550, align = \"center\"></a> \n"
        },
        {
            "cell_type": "markdown",
            "metadata": {},
            "source": "Plot the model parameters for each class as a square image: \n"
        },
        {
            "cell_type": "code",
            "execution_count": 17,
            "metadata": {},
            "outputs": [
                {
                    "data": {
                        "image/png": "[encoded data removed]",
                        "text/plain": "<Figure size 432x288 with 10 Axes>"
                    },
                    "metadata": {},
                    "output_type": "display_data"
                }
            ],
            "source": "# Plot the model parameters for each class\n\nPlotParameters(model)"
        },
        {
            "cell_type": "markdown",
            "metadata": {},
            "source": "Define the learning rate, optimizer, criterion, data loader:\n"
        },
        {
            "cell_type": "code",
            "execution_count": 18,
            "metadata": {},
            "outputs": [],
            "source": "# Define the learning rate, optimizer, criterion and data loader\n\nlearning_rate = 0.1\noptimizer = torch.optim.SGD(model.parameters(), lr=learning_rate)\ncriterion = nn.CrossEntropyLoss()\ntrain_loader = torch.utils.data.DataLoader(dataset=train_dataset, batch_size=100)\nvalidation_loader = torch.utils.data.DataLoader(dataset=validation_dataset, batch_size=5000)"
        },
        {
            "cell_type": "markdown",
            "metadata": {},
            "source": "Train the model and determine validation accuracy **(should take a few minutes)**: \n"
        },
        {
            "cell_type": "code",
            "execution_count": null,
            "metadata": {},
            "outputs": [],
            "source": "# Train the model\n\nn_epochs = 10\nloss_list = []\naccuracy_list = []\nN_test = len(validation_dataset)\n\ndef train_model(n_epochs):\n    for epoch in range(n_epochs):\n        for x, y in train_loader:\n            optimizer.zero_grad()\n            z = model(x.view(-1, 28 * 28))\n            loss = criterion(z, y)\n            loss.backward()\n            optimizer.step()\n            \n        correct = 0\n        # perform a prediction on the validationdata  \n        for x_test, y_test in validation_loader:\n            z = model(x_test.view(-1, 28 * 28))\n            _, yhat = torch.max(z.data, 1)\n            correct += (yhat == y_test).sum().item()\n        accuracy = correct / N_test\n        loss_list.append(loss.data)\n        accuracy_list.append(accuracy)\n\ntrain_model(n_epochs)"
        },
        {
            "cell_type": "markdown",
            "metadata": {},
            "source": "<!--Empty Space for separating topics-->\n"
        },
        {
            "cell_type": "markdown",
            "metadata": {},
            "source": "<h2 id=\"Result\">Analyze Results</h2> \n"
        },
        {
            "cell_type": "markdown",
            "metadata": {},
            "source": "Plot the loss and accuracy on the validation data:\n"
        },
        {
            "cell_type": "code",
            "execution_count": null,
            "metadata": {},
            "outputs": [],
            "source": "# Plot the loss and accuracy\n\nfig, ax1 = plt.subplots()\ncolor = 'tab:red'\nax1.plot(loss_list,color=color)\nax1.set_xlabel('epoch',color=color)\nax1.set_ylabel('total loss',color=color)\nax1.tick_params(axis='y', color=color)\n    \nax2 = ax1.twinx()  \ncolor = 'tab:blue'\nax2.set_ylabel('accuracy', color=color)  \nax2.plot( accuracy_list, color=color)\nax2.tick_params(axis='y', color=color)\nfig.tight_layout()"
        },
        {
            "cell_type": "markdown",
            "metadata": {},
            "source": "View the results of the parameters for each class after the training. You can see that they look like the corresponding numbers. \n"
        },
        {
            "cell_type": "code",
            "execution_count": null,
            "metadata": {},
            "outputs": [],
            "source": "# Plot the parameters\n\nPlotParameters(model)"
        },
        {
            "cell_type": "markdown",
            "metadata": {},
            "source": "We Plot the first five misclassified  samples and the probability of that class.\n"
        },
        {
            "cell_type": "code",
            "execution_count": null,
            "metadata": {},
            "outputs": [],
            "source": "# Plot the misclassified samples\nSoftmax_fn=nn.Softmax(dim=-1)\ncount = 0\nfor x, y in validation_dataset:\n    z = model(x.reshape(-1, 28 * 28))\n    _, yhat = torch.max(z, 1)\n    if yhat != y:\n        show_data((x, y))\n        plt.show()\n        print(\"yhat:\", yhat)\n        print(\"probability of class \", torch.max(Softmax_fn(z)).item())\n        count += 1\n    if count >= 5:\n        break       "
        },
        {
            "cell_type": "markdown",
            "metadata": {},
            "source": "<!--Empty Space for separating topics-->\n"
        },
        {
            "cell_type": "markdown",
            "metadata": {},
            "source": "We Plot the first five correctly classified samples and the probability of that class, we see the probability is much larger.\n"
        },
        {
            "cell_type": "code",
            "execution_count": null,
            "metadata": {},
            "outputs": [],
            "source": "# Plot the classified samples\nSoftmax_fn=nn.Softmax(dim=-1)\ncount = 0\nfor x, y in validation_dataset:\n    z = model(x.reshape(-1, 28 * 28))\n    _, yhat = torch.max(z, 1)\n    if yhat == y:\n        show_data((x, y))\n        plt.show()\n        print(\"yhat:\", yhat)\n        print(\"probability of class \", torch.max(Softmax_fn(z)).item())\n        count += 1\n    if count >= 5:\n        break  "
        },
        {
            "cell_type": "markdown",
            "metadata": {},
            "source": "<a href=\"http://cocl.us/pytorch_link_bottom\">\n    <img src=\"https://s3-api.us-geo.objectstorage.softlayer.net/cf-courses-data/CognitiveClass/DL0110EN/notebook_images%20/notebook_bottom%20.png\" width=\"750\" alt=\"PyTorch Bottom\" />\n</a>\n"
        },
        {
            "cell_type": "markdown",
            "metadata": {},
            "source": "<h2>About the Authors:</h2> \n\n<a href=\"https://www.linkedin.com/in/joseph-s-50398b136/\">Joseph Santarcangelo</a> has a PhD in Electrical Engineering, his research focused on using machine learning, signal processing, and computer vision to determine how videos impact human cognition. Joseph has been working for IBM since he completed his PhD. \n"
        },
        {
            "cell_type": "markdown",
            "metadata": {},
            "source": "Other contributors: <a href=\"https://www.linkedin.com/in/michelleccarey/\">Michelle Carey</a>, <a href=\"www.linkedin.com/in/jiahui-mavis-zhou-a4537814a\">Mavis Zhou</a>\n"
        },
        {
            "cell_type": "markdown",
            "metadata": {},
            "source": "## Change Log\n\n| Date (YYYY-MM-DD) | Version | Changed By | Change Description                                          |\n| ----------------- | ------- | ---------- | ----------------------------------------------------------- |\n| 2020-09-23        | 2.0     | Shubham    | Migrated Lab to Markdown and added to course repo in GitLab |\n"
        },
        {
            "cell_type": "markdown",
            "metadata": {},
            "source": "<hr>\n"
        },
        {
            "cell_type": "markdown",
            "metadata": {},
            "source": "Copyright \u00a9 2018 <a href=\"cognitiveclass.ai?utm_source=bducopyrightlink&utm_medium=dswb&utm_campaign=bdu\">cognitiveclass.ai</a>. This notebook and its source code are released under the terms of the <a href=\"https://bigdatauniversity.com/mit-license/\">MIT License</a>.\n"
        }
    ],
    "metadata": {
        "kernelspec": {
            "display_name": "Python 3.6",
            "language": "python",
            "name": "python3"
        },
        "language_info": {
            "codemirror_mode": {
                "name": "ipython",
                "version": 3
            },
            "file_extension": ".py",
            "mimetype": "text/x-python",
            "name": "python",
            "nbconvert_exporter": "python",
            "pygments_lexer": "ipython3",
            "version": "3.6.9"
        }
    },
    "nbformat": 4,
    "nbformat_minor": 2
}