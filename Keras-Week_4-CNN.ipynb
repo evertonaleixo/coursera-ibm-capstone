{
    "cells": [
        {
            "cell_type": "markdown",
            "metadata": {},
            "source": "<a href=\"https://cognitiveclass.ai\"><img src = \"https://s3-api.us-geo.objectstorage.softlayer.net/cf-courses-data/CognitiveClass/Logos/organization_logo/organization_logo.png\" width = 400> </a>\n\n<h1 align=center><font size = 5>Convolutional Neural Networks with Keras</font></h1>\n"
        },
        {
            "cell_type": "markdown",
            "metadata": {},
            "source": "In this lab, we will learn how to use the Keras library to build convolutional neural networks. We will also use the popular MNIST dataset and we will compare our results to using a conventional neural network.\n"
        },
        {
            "cell_type": "markdown",
            "metadata": {},
            "source": "<h2>Convolutional Neural Networks with Keras</h2>\n\n<h3>Objective for this Notebook<h3>    \n<h5> 1. How to use the Keras library to build convolutional neural networks.</h5>\n<h5> 2. Convolutional Neural Network with One Convolutional and Pooling Layers.</h5>\n<h5> 3. Convolutional Neural Network with Two Convolutional and Pooling Layers.</h5>\n"
        },
        {
            "cell_type": "markdown",
            "metadata": {},
            "source": "## Table of Contents\n\n<div class=\"alert alert-block alert-info\" style=\"margin-top: 20px\">\n\n<font size = 3>\n      \n1. <a href=\"#item41\">Import Keras and Packages</a>   \n2. <a href=\"#item42\">Convolutional Neural Network with One Convolutional and Pooling Layers</a>  \n3. <a href=\"#item43\">Convolutional Neural Network with Two Convolutional and Pooling Layers</a>  \n\n</font>\n</div>\n"
        },
        {
            "cell_type": "markdown",
            "metadata": {},
            "source": "<a id='item41'></a>\n"
        },
        {
            "cell_type": "markdown",
            "metadata": {},
            "source": "## Import Keras and Packages\n"
        },
        {
            "cell_type": "markdown",
            "metadata": {},
            "source": "Let's start by importing the keras libraries and the packages that we would need to build a neural network.\n"
        },
        {
            "cell_type": "code",
            "execution_count": 1,
            "metadata": {},
            "outputs": [
                {
                    "name": "stderr",
                    "output_type": "stream",
                    "text": "Using TensorFlow backend.\n"
                }
            ],
            "source": "import keras\nfrom keras.models import Sequential\nfrom keras.layers import Dense\nfrom keras.utils import to_categorical"
        },
        {
            "cell_type": "markdown",
            "metadata": {},
            "source": "When working with convolutional neural networks in particular, we will need additional packages.\n"
        },
        {
            "cell_type": "code",
            "execution_count": 2,
            "metadata": {},
            "outputs": [],
            "source": "from keras.layers.convolutional import Conv2D # to add convolutional layers\nfrom keras.layers.convolutional import MaxPooling2D # to add pooling layers\nfrom keras.layers import Flatten # to flatten data for fully connected layers"
        },
        {
            "cell_type": "markdown",
            "metadata": {},
            "source": "<a id='item42'></a>\n"
        },
        {
            "cell_type": "markdown",
            "metadata": {},
            "source": "## Convolutional Layer with One set of convolutional and pooling layers\n"
        },
        {
            "cell_type": "code",
            "execution_count": 3,
            "metadata": {},
            "outputs": [
                {
                    "name": "stdout",
                    "output_type": "stream",
                    "text": "Downloading data from https://s3.amazonaws.com/img-datasets/mnist.npz\n11493376/11490434 [==============================] - 0s 0us/step\n"
                }
            ],
            "source": "# import data\nfrom keras.datasets import mnist\n\n# load data\n(X_train, y_train), (X_test, y_test) = mnist.load_data()\n\n# reshape to be [samples][pixels][width][height]\nX_train = X_train.reshape(X_train.shape[0], 28, 28, 1).astype('float32')\nX_test = X_test.reshape(X_test.shape[0], 28, 28, 1).astype('float32')"
        },
        {
            "cell_type": "markdown",
            "metadata": {},
            "source": "Let's normalize the pixel values to be between 0 and 1\n"
        },
        {
            "cell_type": "code",
            "execution_count": 4,
            "metadata": {},
            "outputs": [],
            "source": "X_train = X_train / 255 # normalize training data\nX_test = X_test / 255 # normalize test data"
        },
        {
            "cell_type": "markdown",
            "metadata": {},
            "source": "Next, let's convert the target variable into binary categories\n"
        },
        {
            "cell_type": "code",
            "execution_count": 5,
            "metadata": {},
            "outputs": [],
            "source": "y_train = to_categorical(y_train)\ny_test = to_categorical(y_test)\n\nnum_classes = y_test.shape[1] # number of categories"
        },
        {
            "cell_type": "markdown",
            "metadata": {},
            "source": "Next, let's define a function that creates our model. Let's start with one set of convolutional and pooling layers.\n"
        },
        {
            "cell_type": "code",
            "execution_count": 6,
            "metadata": {},
            "outputs": [],
            "source": "def convolutional_model():\n    \n    # create model\n    model = Sequential()\n    model.add(Conv2D(16, (5, 5), strides=(1, 1), activation='relu', input_shape=(28, 28, 1)))\n    model.add(MaxPooling2D(pool_size=(2, 2), strides=(2, 2)))\n    \n    model.add(Flatten())\n    model.add(Dense(100, activation='relu'))\n    model.add(Dense(num_classes, activation='softmax'))\n    \n    # compile model\n    model.compile(optimizer='adam', loss='categorical_crossentropy',  metrics=['accuracy'])\n    return model"
        },
        {
            "cell_type": "markdown",
            "metadata": {},
            "source": "Finally, let's call the function to create the model, and then let's train it and evaluate it.\n"
        },
        {
            "cell_type": "code",
            "execution_count": 7,
            "metadata": {},
            "outputs": [
                {
                    "name": "stdout",
                    "output_type": "stream",
                    "text": "WARNING:tensorflow:From /opt/conda/envs/Python36/lib/python3.6/site-packages/tensorflow/python/framework/op_def_library.py:263: colocate_with (from tensorflow.python.framework.ops) is deprecated and will be removed in a future version.\nInstructions for updating:\nColocations handled automatically by placer.\nWARNING:tensorflow:From /opt/conda/envs/Python36/lib/python3.6/site-packages/tensorflow/python/ops/math_ops.py:3066: to_int32 (from tensorflow.python.ops.math_ops) is deprecated and will be removed in a future version.\nInstructions for updating:\nUse tf.cast instead.\nTrain on 60000 samples, validate on 10000 samples\nEpoch 1/10\n - 89s - loss: 0.3024 - acc: 0.9146 - val_loss: 0.1128 - val_acc: 0.9659\nEpoch 2/10\n - 81s - loss: 0.0919 - acc: 0.9731 - val_loss: 0.0718 - val_acc: 0.9759\nEpoch 3/10\n - 81s - loss: 0.0611 - acc: 0.9817 - val_loss: 0.0496 - val_acc: 0.9825\nEpoch 4/10\n - 81s - loss: 0.0472 - acc: 0.9861 - val_loss: 0.0490 - val_acc: 0.9836\nEpoch 5/10\n - 88s - loss: 0.0384 - acc: 0.9882 - val_loss: 0.0433 - val_acc: 0.9857\nEpoch 6/10\n - 92s - loss: 0.0317 - acc: 0.9902 - val_loss: 0.0379 - val_acc: 0.9876\nEpoch 7/10\n - 87s - loss: 0.0259 - acc: 0.9922 - val_loss: 0.0357 - val_acc: 0.9875\nEpoch 8/10\n - 84s - loss: 0.0222 - acc: 0.9931 - val_loss: 0.0394 - val_acc: 0.9875\nEpoch 9/10\n - 79s - loss: 0.0177 - acc: 0.9948 - val_loss: 0.0406 - val_acc: 0.9878\nEpoch 10/10\n - 85s - loss: 0.0157 - acc: 0.9953 - val_loss: 0.0344 - val_acc: 0.9894\nAccuracy: 0.9894 \n Error: 1.0600000000000023\n"
                }
            ],
            "source": "# build the model\nmodel = convolutional_model()\n\n# fit the model\nmodel.fit(X_train, y_train, validation_data=(X_test, y_test), epochs=10, batch_size=200, verbose=2)\n\n# evaluate the model\nscores = model.evaluate(X_test, y_test, verbose=0)\nprint(\"Accuracy: {} \\n Error: {}\".format(scores[1], 100-scores[1]*100))"
        },
        {
            "cell_type": "markdown",
            "metadata": {},
            "source": "* * *\n"
        },
        {
            "cell_type": "markdown",
            "metadata": {},
            "source": "<a id='item43'></a>\n"
        },
        {
            "cell_type": "markdown",
            "metadata": {},
            "source": "## Convolutional Layer with two sets of convolutional and pooling layers\n"
        },
        {
            "cell_type": "markdown",
            "metadata": {},
            "source": "Let's redefine our convolutional model so that it has two convolutional and pooling layers instead of just one layer of each.\n"
        },
        {
            "cell_type": "code",
            "execution_count": 8,
            "metadata": {},
            "outputs": [],
            "source": "def convolutional_model():\n    \n    # create model\n    model = Sequential()\n    model.add(Conv2D(16, (5, 5), activation='relu', input_shape=(28, 28, 1)))\n    model.add(MaxPooling2D(pool_size=(2, 2), strides=(2, 2)))\n    \n    model.add(Conv2D(8, (2, 2), activation='relu'))\n    model.add(MaxPooling2D(pool_size=(2, 2), strides=(2, 2)))\n    \n    model.add(Flatten())\n    model.add(Dense(100, activation='relu'))\n    model.add(Dense(num_classes, activation='softmax'))\n    \n    # Compile model\n    model.compile(optimizer='adam', loss='categorical_crossentropy',  metrics=['accuracy'])\n    return model"
        },
        {
            "cell_type": "markdown",
            "metadata": {},
            "source": "Now, let's call the function to create our new convolutional neural network, and then let's train it and evaluate it.\n"
        },
        {
            "cell_type": "code",
            "execution_count": 9,
            "metadata": {},
            "outputs": [
                {
                    "name": "stdout",
                    "output_type": "stream",
                    "text": "Train on 60000 samples, validate on 10000 samples\nEpoch 1/10\n - 164s - loss: 0.4755 - acc: 0.8641 - val_loss: 0.1470 - val_acc: 0.9553\nEpoch 2/10\n - 169s - loss: 0.1244 - acc: 0.9633 - val_loss: 0.0824 - val_acc: 0.9736\nEpoch 3/10\n - 168s - loss: 0.0866 - acc: 0.9738 - val_loss: 0.0659 - val_acc: 0.9789\nEpoch 4/10\n - 202s - loss: 0.0717 - acc: 0.9788 - val_loss: 0.0581 - val_acc: 0.9812\nEpoch 5/10\n - 125s - loss: 0.0590 - acc: 0.9818 - val_loss: 0.0497 - val_acc: 0.9832\nEpoch 6/10\n - 122s - loss: 0.0536 - acc: 0.9833 - val_loss: 0.0521 - val_acc: 0.9831\nEpoch 7/10\n - 128s - loss: 0.0474 - acc: 0.9856 - val_loss: 0.0469 - val_acc: 0.9850\nEpoch 8/10\n - 121s - loss: 0.0417 - acc: 0.9869 - val_loss: 0.0398 - val_acc: 0.9867\nEpoch 9/10\n - 135s - loss: 0.0391 - acc: 0.9878 - val_loss: 0.0415 - val_acc: 0.9863\nEpoch 10/10\n - 122s - loss: 0.0359 - acc: 0.9889 - val_loss: 0.0366 - val_acc: 0.9885\nAccuracy: 0.9885 \n Error: 1.1499999999999915\n"
                }
            ],
            "source": "# build the model\nmodel = convolutional_model()\n\n# fit the model\nmodel.fit(X_train, y_train, validation_data=(X_test, y_test), epochs=10, batch_size=200, verbose=2)\n\n# evaluate the model\nscores = model.evaluate(X_test, y_test, verbose=0)\nprint(\"Accuracy: {} \\n Error: {}\".format(scores[1], 100-scores[1]*100))"
        },
        {
            "cell_type": "markdown",
            "metadata": {},
            "source": "### Thank you for completing this lab!\n\nThis notebook was created by [Alex Aklson](https://www.linkedin.com/in/aklson?cm_mmc=Email_Newsletter-_-Developer_Ed%2BTech-_-WW_WW-_-SkillsNetwork-Courses-IBMDeveloperSkillsNetwork-DL0101EN-SkillsNetwork-20718188&cm_mmca1=000026UJ&cm_mmca2=10006555&cm_mmca3=M12345678&cvosrc=email.Newsletter.M12345678&cvo_campaign=000026UJ&cm_mmc=Email_Newsletter-_-Developer_Ed%2BTech-_-WW_WW-_-SkillsNetwork-Courses-IBMDeveloperSkillsNetwork-DL0101EN-SkillsNetwork-20718188&cm_mmca1=000026UJ&cm_mmca2=10006555&cm_mmca3=M12345678&cvosrc=email.Newsletter.M12345678&cvo_campaign=000026UJ). I hope you found this lab interesting and educational. Feel free to contact me if you have any questions!\n"
        },
        {
            "cell_type": "markdown",
            "metadata": {},
            "source": "## Change Log\n\n| Date (YYYY-MM-DD) | Version | Changed By | Change Description                                          |\n| ----------------- | ------- | ---------- | ----------------------------------------------------------- |\n| 2020-09-21        | 2.0     | Srishti    | Migrated Lab to Markdown and added to course repo in GitLab |\n\n<hr>\n\n## <h3 align=\"center\"> \u00a9 IBM Corporation 2020. All rights reserved. <h3/>\n"
        },
        {
            "cell_type": "markdown",
            "metadata": {},
            "source": "This notebook is part of a course on **Coursera** called _Introduction to Deep Learning & Neural Networks with Keras_. If you accessed this notebook outside the course, you can take this course online by clicking [here](https://cocl.us/DL0101EN_Coursera_Week4_LAB1).\n"
        },
        {
            "cell_type": "markdown",
            "metadata": {},
            "source": "<hr>\n\nCopyright \u00a9 2019 [IBM Developer Skills Network](https://cognitiveclass.ai?utm_source=bducopyrightlink&utm_medium=dswb&utm_campaign=bdu&cm_mmc=Email_Newsletter-_-Developer_Ed%2BTech-_-WW_WW-_-SkillsNetwork-Courses-IBMDeveloperSkillsNetwork-DL0101EN-SkillsNetwork-20718188&cm_mmca1=000026UJ&cm_mmca2=10006555&cm_mmca3=M12345678&cvosrc=email.Newsletter.M12345678&cvo_campaign=000026UJ&cm_mmc=Email_Newsletter-_-Developer_Ed%2BTech-_-WW_WW-_-SkillsNetwork-Courses-IBMDeveloperSkillsNetwork-DL0101EN-SkillsNetwork-20718188&cm_mmca1=000026UJ&cm_mmca2=10006555&cm_mmca3=M12345678&cvosrc=email.Newsletter.M12345678&cvo_campaign=000026UJ&cm_mmc=Email_Newsletter-_-Developer_Ed%2BTech-_-WW_WW-_-SkillsNetwork-Courses-IBMDeveloperSkillsNetwork-DL0101EN-SkillsNetwork-20718188&cm_mmca1=000026UJ&cm_mmca2=10006555&cm_mmca3=M12345678&cvosrc=email.Newsletter.M12345678&cvo_campaign=000026UJ&cm_mmc=Email_Newsletter-_-Developer_Ed%2BTech-_-WW_WW-_-SkillsNetwork-Courses-IBMDeveloperSkillsNetwork-DL0101EN-SkillsNetwork-20718188&cm_mmca1=000026UJ&cm_mmca2=10006555&cm_mmca3=M12345678&cvosrc=email.Newsletter.M12345678&cvo_campaign=000026UJ). This notebook and its source code are released under the terms of the [MIT License](https://bigdatauniversity.com/mit-license?cm_mmc=Email_Newsletter-_-Developer_Ed%2BTech-_-WW_WW-_-SkillsNetwork-Courses-IBMDeveloperSkillsNetwork-DL0101EN-SkillsNetwork-20718188&cm_mmca1=000026UJ&cm_mmca2=10006555&cm_mmca3=M12345678&cvosrc=email.Newsletter.M12345678&cvo_campaign=000026UJ&cm_mmc=Email_Newsletter-_-Developer_Ed%2BTech-_-WW_WW-_-SkillsNetwork-Courses-IBMDeveloperSkillsNetwork-DL0101EN-SkillsNetwork-20718188&cm_mmca1=000026UJ&cm_mmca2=10006555&cm_mmca3=M12345678&cvosrc=email.Newsletter.M12345678&cvo_campaign=000026UJ).\n"
        }
    ],
    "metadata": {
        "kernelspec": {
            "display_name": "Python 3.6",
            "language": "python",
            "name": "python3"
        },
        "language_info": {
            "codemirror_mode": {
                "name": "ipython",
                "version": 3
            },
            "file_extension": ".py",
            "mimetype": "text/x-python",
            "name": "python",
            "nbconvert_exporter": "python",
            "pygments_lexer": "ipython3",
            "version": "3.6.9"
        }
    },
    "nbformat": 4,
    "nbformat_minor": 4
}