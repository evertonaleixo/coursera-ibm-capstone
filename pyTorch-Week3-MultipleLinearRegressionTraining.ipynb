{
    "cells": [
        {
            "cell_type": "markdown",
            "metadata": {},
            "source": "<a href=\"http://cocl.us/pytorch_link_top\">\n    <img src=\"https://s3-api.us-geo.objectstorage.softlayer.net/cf-courses-data/CognitiveClass/DL0110EN/notebook_images%20/Pytochtop.png\" width=\"750\" alt=\"IBM Product \" />\n</a> \n"
        },
        {
            "cell_type": "markdown",
            "metadata": {},
            "source": "<img src=\"https://s3-api.us-geo.objectstorage.softlayer.net/cf-courses-data/CognitiveClass/DL0110EN/notebook_images%20/cc-logo-square.png\" width=\"200\" alt=\"cognitiveclass.ai logo\" />\n"
        },
        {
            "cell_type": "markdown",
            "metadata": {},
            "source": "<h1>Linear Regression Multiple Outputs</h1> \n"
        },
        {
            "cell_type": "markdown",
            "metadata": {},
            "source": "<h2>Objective</h2><ul><li> How to create a complicated models using pytorch build in functions.</li></ul> \n"
        },
        {
            "cell_type": "markdown",
            "metadata": {},
            "source": "<h2>Table of Contents</h2>\nIn this lab, you will create a model the Pytroch way. This will help you as models get more complicated.\n\n<div class=\"alert alert-block alert-info\" style=\"margin-top: 20px\">\n<li><a href=\"#ref0\">Make Some Data</a></li>\n<li><a href=\"#ref1\">Create the Model and Cost Function the Pytorch way</a></li>\n<li><a href=\"#ref2\">Train the Model: Batch Gradient Descent</a></li>\n<li><a href=\"#ref3\">Practice Questions </a></li>\n<br>\n<p></p>\nEstimated Time Needed: <strong>20 min</strong>\n</div>\n\n<hr>\n"
        },
        {
            "cell_type": "markdown",
            "metadata": {},
            "source": "Import the following libraries:  \n"
        },
        {
            "cell_type": "code",
            "execution_count": null,
            "metadata": {},
            "outputs": [
                {
                    "name": "stdout",
                    "output_type": "stream",
                    "text": "Solving environment: done\n\n## Package Plan ##\n\n  environment location: /opt/conda/envs/Python36\n\n  added / updated specs: \n    - torchvision\n\n\nThe following packages will be downloaded:\n\n    package                    |            build\n    ---------------------------|-----------------\n    torchvision-0.4.2          |cuda100py36hecfc37a_0         6.8 MB\n    cudatoolkit-10.0.130       |                0       380.0 MB\n    cudnn-7.6.5                |       cuda10.0_0       226.4 MB\n    pytorch-1.3.1              |cuda100py36h53c1284_0       295.5 MB\n    ------------------------------------------------------------\n                                           Total:       908.7 MB\n\nThe following NEW packages will be INSTALLED:\n\n    torchvision: 0.4.2-cuda100py36hecfc37a_0\n\nThe following packages will be UPDATED:\n\n    cudnn:       7.6.5-cuda10.1_0            --> 7.6.5-cuda10.0_0           \n\nThe following packages will be DOWNGRADED:\n\n    cudatoolkit: 10.1.243-h6bb024c_0         --> 10.0.130-0                 \n    pytorch:     1.4.0-cuda101py36h02f0884_0 --> 1.3.1-cuda100py36h53c1284_0\n\n\nDownloading and Extracting Packages\ntorchvision-0.4.2    | 6.8 MB    | ##################################### | 100% \ncudatoolkit-10.0.130 | 380.0 MB  | ##################################### | 100% \ncudnn-7.6.5          | 226.4 MB  | ##################################### | 100% \npytorch-1.3.1        | 295.5 MB  | ##############################8       |  83% "
                }
            ],
            "source": "!conda install -y torchvision"
        },
        {
            "cell_type": "code",
            "execution_count": 1,
            "metadata": {},
            "outputs": [
                {
                    "ename": "ModuleNotFoundError",
                    "evalue": "No module named 'torchvision'",
                    "output_type": "error",
                    "traceback": [
                        "\u001b[0;31m---------------------------------------------------------------------------\u001b[0m",
                        "\u001b[0;31mModuleNotFoundError\u001b[0m                       Traceback (most recent call last)",
                        "\u001b[0;32m<ipython-input-1-631b873da3a1>\u001b[0m in \u001b[0;36m<module>\u001b[0;34m\u001b[0m\n\u001b[1;32m      5\u001b[0m \u001b[0;32mfrom\u001b[0m \u001b[0mmpl_toolkits\u001b[0m\u001b[0;34m.\u001b[0m\u001b[0mmplot3d\u001b[0m \u001b[0;32mimport\u001b[0m \u001b[0mAxes3D\u001b[0m\u001b[0;34m\u001b[0m\u001b[0;34m\u001b[0m\u001b[0m\n\u001b[1;32m      6\u001b[0m \u001b[0;32mfrom\u001b[0m \u001b[0mtorch\u001b[0m\u001b[0;34m.\u001b[0m\u001b[0mutils\u001b[0m\u001b[0;34m.\u001b[0m\u001b[0mdata\u001b[0m \u001b[0;32mimport\u001b[0m \u001b[0mDataset\u001b[0m\u001b[0;34m,\u001b[0m \u001b[0mDataLoader\u001b[0m\u001b[0;34m\u001b[0m\u001b[0;34m\u001b[0m\u001b[0m\n\u001b[0;32m----> 7\u001b[0;31m \u001b[0;32mimport\u001b[0m \u001b[0mtorchvision\u001b[0m\u001b[0;34m.\u001b[0m\u001b[0mtransforms\u001b[0m \u001b[0;32mas\u001b[0m \u001b[0mtransforms\u001b[0m\u001b[0;34m\u001b[0m\u001b[0;34m\u001b[0m\u001b[0m\n\u001b[0m",
                        "\u001b[0;31mModuleNotFoundError\u001b[0m: No module named 'torchvision'"
                    ]
                }
            ],
            "source": "import torch\nimport numpy as np\nimport matplotlib.pyplot as plt\nfrom torch import nn,optim\nfrom mpl_toolkits.mplot3d import Axes3D\nfrom torch.utils.data import Dataset, DataLoader\nimport torchvision.transforms as transforms"
        },
        {
            "cell_type": "markdown",
            "metadata": {},
            "source": "Set the random seed:\n"
        },
        {
            "cell_type": "code",
            "execution_count": null,
            "metadata": {},
            "outputs": [],
            "source": "torch.manual_seed(1)"
        },
        {
            "cell_type": "markdown",
            "metadata": {},
            "source": "<a id=\"ref0\"></a>\n\n<h2 align=center>Make Some Data </h2>\nCreate a dataset class with two-dimensional features and two targets: \n"
        },
        {
            "cell_type": "code",
            "execution_count": null,
            "metadata": {},
            "outputs": [],
            "source": "from torch.utils.data import Dataset, DataLoader\nclass Data(Dataset):\n    def __init__(self):\n            self.x=torch.zeros(20,2)\n            self.x[:,0]=torch.arange(-1,1,0.1)\n            self.x[:,1]=torch.arange(-1,1,0.1)\n            self.w=torch.tensor([ [1.0,-1.0],[1.0,3.0]])\n            self.b=torch.tensor([[1.0,-1.0]])\n            self.f=torch.mm(self.x,self.w)+self.b\n            \n            self.y=self.f+0.001*torch.randn((self.x.shape[0],1))\n            self.len=self.x.shape[0]\n\n    def __getitem__(self,index):\n\n        return self.x[index],self.y[index]\n    \n    def __len__(self):\n        return self.len"
        },
        {
            "cell_type": "markdown",
            "metadata": {},
            "source": "create a dataset object \n"
        },
        {
            "cell_type": "code",
            "execution_count": null,
            "metadata": {},
            "outputs": [],
            "source": "data_set=Data()"
        },
        {
            "cell_type": "markdown",
            "metadata": {},
            "source": "<a id=\"ref1\"></a>\n\n<h2 align=center>Create the Model, Optimizer, and Total Loss Function (cost)</h2>\n"
        },
        {
            "cell_type": "markdown",
            "metadata": {},
            "source": "Create a custom module:\n"
        },
        {
            "cell_type": "code",
            "execution_count": null,
            "metadata": {},
            "outputs": [],
            "source": "class linear_regression(nn.Module):\n    def __init__(self,input_size,output_size):\n        super(linear_regression,self).__init__()\n        self.linear=nn.Linear(input_size,output_size)\n    def forward(self,x):\n        yhat=self.linear(x)\n        return yhat"
        },
        {
            "cell_type": "markdown",
            "metadata": {},
            "source": "Create an optimizer object and set the learning rate to 0.1. **Don't forget to enter the model parameters in the constructor.**  \n"
        },
        {
            "cell_type": "code",
            "execution_count": null,
            "metadata": {},
            "outputs": [],
            "source": "model=linear_regression(2,2)"
        },
        {
            "cell_type": "markdown",
            "metadata": {},
            "source": "Create an optimizer object and set the learning rate to 0.1. **Don't forget to enter the model parameters in the constructor.**  \n"
        },
        {
            "cell_type": "markdown",
            "metadata": {},
            "source": "<img src = \"https://ibm.box.com/shared/static/f8hskuwrnctjg21agud69ddla0jkbef5.png\" width = 100, align = \"center\">\n"
        },
        {
            "cell_type": "code",
            "execution_count": null,
            "metadata": {},
            "outputs": [],
            "source": "optimizer = optim.SGD(model.parameters(), lr = 0.1)"
        },
        {
            "cell_type": "markdown",
            "metadata": {},
            "source": "Create the criterion function that calculates the total loss or cost:\n"
        },
        {
            "cell_type": "code",
            "execution_count": null,
            "metadata": {},
            "outputs": [],
            "source": "criterion = nn.MSELoss()"
        },
        {
            "cell_type": "markdown",
            "metadata": {},
            "source": "Create a data loader object and set the batch_size to 5:\n"
        },
        {
            "cell_type": "code",
            "execution_count": null,
            "metadata": {},
            "outputs": [],
            "source": "train_loader=DataLoader(dataset=data_set,batch_size=5)"
        },
        {
            "cell_type": "markdown",
            "metadata": {},
            "source": "<a id=\"ref2\"></a>\n\n<h2 align=center>Train the Model via Mini-Batch Gradient Descent </h2>\n"
        },
        {
            "cell_type": "markdown",
            "metadata": {},
            "source": "Run 100 epochs of Mini-Batch Gradient Descent and store the total loss or cost for every iteration. Remember that this is an approximation of the true total loss or cost.\n"
        },
        {
            "cell_type": "code",
            "execution_count": null,
            "metadata": {},
            "outputs": [],
            "source": "LOSS=[]\n \nepochs=100\n   \nfor epoch in range(epochs):\n    for x,y in train_loader:\n        #make a prediction \n        yhat=model(x)\n        #calculate the loss\n        loss=criterion(yhat,y)\n        #store loss/cost \n        LOSS.append(loss.item())\n        #clear gradient \n        optimizer.zero_grad()\n        #Backward pass: compute gradient of the loss with respect to all the learnable parameters\n        loss.backward()\n        #the step function on an Optimizer makes an update to its parameters\n        optimizer.step()\n     \n\n\n    "
        },
        {
            "cell_type": "markdown",
            "metadata": {},
            "source": "Plot the cost:\n"
        },
        {
            "cell_type": "code",
            "execution_count": null,
            "metadata": {},
            "outputs": [],
            "source": "plt.plot(LOSS)\nplt.xlabel(\"iterations \")\nplt.ylabel(\"Cost/total loss \")\nplt.show()"
        },
        {
            "cell_type": "markdown",
            "metadata": {},
            "source": "<a href=\"http://cocl.us/pytorch_link_bottom\">\n    <img src=\"https://s3-api.us-geo.objectstorage.softlayer.net/cf-courses-data/CognitiveClass/DL0110EN/notebook_images%20/notebook_bottom%20.png\" width=\"750\" alt=\"PyTorch Bottom\" />\n</a>\n"
        },
        {
            "cell_type": "markdown",
            "metadata": {},
            "source": "### About the Authors:\n\n [Joseph Santarcangelo](https://www.linkedin.com/in/joseph-s-50398b136?cm_mmc=Email_Newsletter-_-Developer_Ed%2BTech-_-WW_WW-_-SkillsNetwork-Courses-IBMDeveloperSkillsNetwork-DL0110EN-SkillsNetwork-20647811&cm_mmca1=000026UJ&cm_mmca2=10006555&cm_mmca3=M12345678&cvosrc=email.Newsletter.M12345678&cvo_campaign=000026UJ&cm_mmc=Email_Newsletter-_-Developer_Ed%2BTech-_-WW_WW-_-SkillsNetwork-Courses-IBMDeveloperSkillsNetwork-DL0110EN-SkillsNetwork-20647811&cm_mmca1=000026UJ&cm_mmca2=10006555&cm_mmca3=M12345678&cvosrc=email.Newsletter.M12345678&cvo_campaign=000026UJ) has a PhD in Electrical Engineering. His research focused on using machine learning, signal processing, and computer vision to determine how videos impact human cognition. \n\nOther contributors: [Michelle Carey](https://www.linkedin.com/in/michelleccarey?cm_mmc=Email_Newsletter-_-Developer_Ed%2BTech-_-WW_WW-_-SkillsNetwork-Courses-IBMDeveloperSkillsNetwork-DL0110EN-SkillsNetwork-20647811&cm_mmca1=000026UJ&cm_mmca2=10006555&cm_mmca3=M12345678&cvosrc=email.Newsletter.M12345678&cvo_campaign=000026UJ) \n"
        },
        {
            "cell_type": "markdown",
            "metadata": {},
            "source": "## Change Log\n\n| Date (YYYY-MM-DD) | Version | Changed By | Change Description                                          |\n| ----------------- | ------- | ---------- | ----------------------------------------------------------- |\n| 2020-09-23        | 2.0     | Shubham    | Migrated Lab to Markdown and added to course repo in GitLab |\n"
        },
        {
            "cell_type": "markdown",
            "metadata": {},
            "source": "Copyright \u00a9 2018 <a href=\"cognitiveclass.ai?utm_source=bducopyrightlink&utm_medium=dswb&utm_campaign=bdu\">cognitiveclass.ai</a>. This notebook and its source code are released under the terms of the <a href=\"https://bigdatauniversity.com/mit-license/\">MIT License</a>.\n"
        },
        {
            "cell_type": "markdown",
            "metadata": {},
            "source": "v\n"
        }
    ],
    "metadata": {
        "kernelspec": {
            "display_name": "Python 3.6",
            "language": "python",
            "name": "python3"
        },
        "language_info": {
            "codemirror_mode": {
                "name": "ipython",
                "version": 3
            },
            "file_extension": ".py",
            "mimetype": "text/x-python",
            "name": "python",
            "nbconvert_exporter": "python",
            "pygments_lexer": "ipython3",
            "version": "3.6.9"
        }
    },
    "nbformat": 4,
    "nbformat_minor": 2
}