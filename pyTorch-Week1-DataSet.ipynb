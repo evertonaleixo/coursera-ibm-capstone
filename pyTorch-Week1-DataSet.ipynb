{
    "cells": [
        {
            "cell_type": "markdown",
            "metadata": {},
            "source": "<a href=\"http://cocl.us/pytorch_link_top\">\n    <img src=\"https://s3-api.us-geo.objectstorage.softlayer.net/cf-courses-data/CognitiveClass/DL0110EN/notebook_images%20/Pytochtop.png\" width=\"750\" alt=\"IBM Product \" />\n</a> \n"
        },
        {
            "cell_type": "markdown",
            "metadata": {},
            "source": "<img src=\"https://s3-api.us-geo.objectstorage.softlayer.net/cf-courses-data/CognitiveClass/DL0110EN/notebook_images%20/cc-logo-square.png\" width=\"200\" alt=\"cognitiveclass.ai logo\" />\n"
        },
        {
            "cell_type": "markdown",
            "metadata": {},
            "source": "<h1>Image Datasets and Transforms</h1> \n"
        },
        {
            "cell_type": "markdown",
            "metadata": {},
            "source": "<h2>Objective</h2><ul><li> How to build a image dataset object.</li><li> How to perform pre-build transforms from Torchvision Transforms to the dataset. .</li></ul> \n"
        },
        {
            "cell_type": "markdown",
            "metadata": {},
            "source": "<h2>Table of Contents</h2>\n<p>In this lab, you will build a dataset objects for images; many of the processes can be applied to a larger dataset. Then you will apply pre-build transforms from Torchvision Transforms to that dataset.</p>\n<ul>\n    <li><a href=\"#auxiliary\"> Auxiliary Functions </a></li>\n    <li><a href=\"#Dataset\"> Datasets</a></li>\n    <li><a href=\"#Torchvision\">Torchvision Transforms</a></li>\n</ul>\n<p>Estimated Time Needed: <strong>25 min</strong></p>\n\n<hr>\n"
        },
        {
            "cell_type": "markdown",
            "metadata": {},
            "source": "<h2>Preparation</h2>\n"
        },
        {
            "cell_type": "markdown",
            "metadata": {},
            "source": "Download the dataset and unzip the files in your data directory, **to download faster this dataset has only 100 samples**:\n"
        },
        {
            "cell_type": "code",
            "execution_count": 6,
            "metadata": {},
            "outputs": [
                {
                    "name": "stdout",
                    "output_type": "stream",
                    "text": "--2020-10-02 01:40:30--  https://s3-api.us-geo.objectstorage.softlayer.net/cf-courses-data/CognitiveClass/DL0110EN/datasets/img.tar.gz\nResolving s3-api.us-geo.objectstorage.softlayer.net (s3-api.us-geo.objectstorage.softlayer.net)... 67.228.254.196\nConnecting to s3-api.us-geo.objectstorage.softlayer.net (s3-api.us-geo.objectstorage.softlayer.net)|67.228.254.196|:443... connected.\nHTTP request sent, awaiting response... 200 OK\nLength: 50460 (49K) [application/octet-stream]\nSaving to: \u2018./data/img.tar.gz\u2019\n\n100%[======================================>] 50,460      --.-K/s   in 0.002s  \n\n2020-10-02 01:40:30 (23.3 MB/s) - \u2018./data/img.tar.gz\u2019 saved [50460/50460]\n\n"
                }
            ],
            "source": "! wget https://s3-api.us-geo.objectstorage.softlayer.net/cf-courses-data/CognitiveClass/DL0110EN/datasets/img.tar.gz -P ./data\n"
        },
        {
            "cell_type": "code",
            "execution_count": 8,
            "metadata": {},
            "outputs": [],
            "source": "!tar -xf ./data/img.tar.gz "
        },
        {
            "cell_type": "code",
            "execution_count": 5,
            "metadata": {},
            "outputs": [
                {
                    "name": "stdout",
                    "output_type": "stream",
                    "text": "--2020-10-02 01:40:10--  https://s3-api.us-geo.objectstorage.softlayer.net/cf-courses-data/CognitiveClass/DL0110EN/datasets/index.csv\nResolving s3-api.us-geo.objectstorage.softlayer.net (s3-api.us-geo.objectstorage.softlayer.net)... 67.228.254.196\nConnecting to s3-api.us-geo.objectstorage.softlayer.net (s3-api.us-geo.objectstorage.softlayer.net)|67.228.254.196|:443... connected.\nHTTP request sent, awaiting response... 200 OK\nLength: 1680905 (1.6M) [text/csv]\nSaving to: \u2018index.csv.1\u2019\n\n100%[======================================>] 1,680,905   --.-K/s   in 0.04s   \n\n2020-10-02 01:40:10 (44.4 MB/s) - \u2018index.csv.1\u2019 saved [1680905/1680905]\n\n"
                }
            ],
            "source": "!wget https://s3-api.us-geo.objectstorage.softlayer.net/cf-courses-data/CognitiveClass/DL0110EN/datasets/index.csv "
        },
        {
            "cell_type": "markdown",
            "metadata": {},
            "source": "We will use this function in the lab:\n"
        },
        {
            "cell_type": "code",
            "execution_count": 9,
            "metadata": {},
            "outputs": [],
            "source": "def show_data(data_sample, shape = (28, 28)):\n    plt.imshow(data_sample[0].numpy().reshape(shape), cmap='gray')\n    plt.title('y = ' + data_sample[1])"
        },
        {
            "cell_type": "markdown",
            "metadata": {},
            "source": "The following are the libraries we are going to use for this lab. The <code>torch.manual_seed()</code> is for forcing the random function to give the same number every time we try to recompile it.\n"
        },
        {
            "cell_type": "code",
            "execution_count": 2,
            "metadata": {},
            "outputs": [
                {
                    "data": {
                        "text/plain": "<torch._C.Generator at 0x7f070d66d1f8>"
                    },
                    "execution_count": 2,
                    "metadata": {},
                    "output_type": "execute_result"
                }
            ],
            "source": "# These are the libraries will be used for this lab.\n\nimport torch \nimport matplotlib.pylab as plt\nimport numpy as np\nfrom torch.utils.data import Dataset, DataLoader\ntorch.manual_seed(0)"
        },
        {
            "cell_type": "code",
            "execution_count": 10,
            "metadata": {},
            "outputs": [],
            "source": "from matplotlib.pyplot import imshow\nimport matplotlib.pylab as plt\nfrom PIL import Image\nimport pandas as pd\nimport os"
        },
        {
            "cell_type": "markdown",
            "metadata": {},
            "source": "<!--Empty Space for separating topics-->\n"
        },
        {
            "cell_type": "markdown",
            "metadata": {},
            "source": "<h2 id=\"auxiliary\">Auxiliary Functions</h2>\n"
        },
        {
            "cell_type": "markdown",
            "metadata": {},
            "source": "You will use the following function as components of a dataset object, in this section, you will review each of the components independently.\n"
        },
        {
            "cell_type": "markdown",
            "metadata": {},
            "source": " The path to the csv file with the labels for each image.\n"
        },
        {
            "cell_type": "code",
            "execution_count": 11,
            "metadata": {},
            "outputs": [],
            "source": "# Read CSV file from the URL and print out the first five samples\ndirectory=\"\"\ncsv_file ='index.csv'\ncsv_path=os.path.join(directory,csv_file)"
        },
        {
            "cell_type": "markdown",
            "metadata": {},
            "source": "You can load the CSV file and convert it into a dataframe , using the Pandas function <code>read_csv()</code> . You can view the dataframe using the method head.\n"
        },
        {
            "cell_type": "code",
            "execution_count": 12,
            "metadata": {},
            "outputs": [
                {
                    "data": {
                        "text/html": "<div>\n<style scoped>\n    .dataframe tbody tr th:only-of-type {\n        vertical-align: middle;\n    }\n\n    .dataframe tbody tr th {\n        vertical-align: top;\n    }\n\n    .dataframe thead th {\n        text-align: right;\n    }\n</style>\n<table border=\"1\" class=\"dataframe\">\n  <thead>\n    <tr style=\"text-align: right;\">\n      <th></th>\n      <th>category</th>\n      <th>image</th>\n    </tr>\n  </thead>\n  <tbody>\n    <tr>\n      <th>0</th>\n      <td>Ankle boot</td>\n      <td>img/fashion0.png</td>\n    </tr>\n    <tr>\n      <th>1</th>\n      <td>T-shirt</td>\n      <td>img/fashion1.png</td>\n    </tr>\n    <tr>\n      <th>2</th>\n      <td>T-shirt</td>\n      <td>img/fashion2.png</td>\n    </tr>\n    <tr>\n      <th>3</th>\n      <td>Dress</td>\n      <td>img/fashion3.png</td>\n    </tr>\n    <tr>\n      <th>4</th>\n      <td>T-shirt</td>\n      <td>img/fashion4.png</td>\n    </tr>\n  </tbody>\n</table>\n</div>",
                        "text/plain": "     category             image\n0  Ankle boot  img/fashion0.png\n1     T-shirt  img/fashion1.png\n2     T-shirt  img/fashion2.png\n3       Dress  img/fashion3.png\n4     T-shirt  img/fashion4.png"
                    },
                    "execution_count": 12,
                    "metadata": {},
                    "output_type": "execute_result"
                }
            ],
            "source": "data_name = pd.read_csv(csv_path)\ndata_name.head()"
        },
        {
            "cell_type": "markdown",
            "metadata": {},
            "source": "The first column of the dataframe corresponds to the type of clothing. The second column is the name of the image file corresponding to the clothing. You can obtain the path of the first file by using the method  <code> <i>DATAFRAME</i>.iloc[0, 1]</code>. The first argument corresponds to the sample number, and the second input corresponds to the column index. \n"
        },
        {
            "cell_type": "code",
            "execution_count": 13,
            "metadata": {},
            "outputs": [
                {
                    "name": "stdout",
                    "output_type": "stream",
                    "text": "File name: img/fashion0.png\n"
                }
            ],
            "source": "# Get the value on location row 0, column 1 (Notice that index starts at 0)\n#rember this dataset has only 100 samples to make the download faster  \nprint('File name:', data_name.iloc[0, 1])"
        },
        {
            "cell_type": "markdown",
            "metadata": {},
            "source": "As the class of the sample is in the first column, you can also obtain the class value as follows.\n"
        },
        {
            "cell_type": "code",
            "execution_count": 14,
            "metadata": {},
            "outputs": [
                {
                    "name": "stdout",
                    "output_type": "stream",
                    "text": "y: Ankle boot\n"
                }
            ],
            "source": "# Get the value on location row 0, column 0 (Notice that index starts at 0.)\n\nprint('y:', data_name.iloc[0, 0])"
        },
        {
            "cell_type": "markdown",
            "metadata": {},
            "source": "Similarly, You can obtain the file name of the second image file and class type:\n"
        },
        {
            "cell_type": "code",
            "execution_count": 15,
            "metadata": {},
            "outputs": [
                {
                    "name": "stdout",
                    "output_type": "stream",
                    "text": "File name: img/fashion1.png\nclass or y: T-shirt\n"
                }
            ],
            "source": "# Print out the file name and the class number of the element on row 1 (the second row)\n\nprint('File name:', data_name.iloc[1, 1])\nprint('class or y:', data_name.iloc[1, 0])"
        },
        {
            "cell_type": "markdown",
            "metadata": {},
            "source": "The number of samples corresponds to the number of rows in a dataframe. You can obtain the number of rows using the following lines of code. This will correspond the data attribute <code>len</code>.\n"
        },
        {
            "cell_type": "code",
            "execution_count": 16,
            "metadata": {},
            "outputs": [
                {
                    "name": "stdout",
                    "output_type": "stream",
                    "text": "The number of rows:  60000\n"
                }
            ],
            "source": "# Print out the total number of rows in traing dataset\n\nprint('The number of rows: ', data_name.shape[0])"
        },
        {
            "cell_type": "markdown",
            "metadata": {},
            "source": "<h2 id=\"load_image\">Load Image</h2>\n"
        },
        {
            "cell_type": "markdown",
            "metadata": {},
            "source": "To load the image, you need the directory and the image name. You can concatenate the variable <code>train_data_dir</code> with the name of the image stored in a Dataframe. Finally, you will store the result in the variable <code>image_name</code>\n"
        },
        {
            "cell_type": "code",
            "execution_count": 17,
            "metadata": {},
            "outputs": [
                {
                    "data": {
                        "text/plain": "'img/fashion1.png'"
                    },
                    "execution_count": 17,
                    "metadata": {},
                    "output_type": "execute_result"
                }
            ],
            "source": "# Combine the directory path with file name\n\nimage_name =data_name.iloc[1, 1]\nimage_name"
        },
        {
            "cell_type": "markdown",
            "metadata": {},
            "source": "we can find the image path:\n"
        },
        {
            "cell_type": "code",
            "execution_count": 18,
            "metadata": {},
            "outputs": [
                {
                    "data": {
                        "text/plain": "'img/fashion1.png'"
                    },
                    "execution_count": 18,
                    "metadata": {},
                    "output_type": "execute_result"
                }
            ],
            "source": "image_path=os.path.join(directory,image_name)\nimage_path"
        },
        {
            "cell_type": "markdown",
            "metadata": {},
            "source": "You can then use the function <code>Image.open</code> to store the image to the variable <code>image</code> and display the image and class .\n"
        },
        {
            "cell_type": "code",
            "execution_count": 19,
            "metadata": {},
            "outputs": [
                {
                    "data": {
                        "image/png": "[encoded data removed]",
                        "text/plain": "<Figure size 432x288 with 1 Axes>"
                    },
                    "metadata": {
                        "needs_background": "light"
                    },
                    "output_type": "display_data"
                }
            ],
            "source": "# Plot the second training image\n\nimage = Image.open(image_path)\nplt.imshow(image,cmap='gray', vmin=0, vmax=255)\nplt.title(data_name.iloc[1, 0])\nplt.show()"
        },
        {
            "cell_type": "markdown",
            "metadata": {},
            "source": "You can repeat the process for the 20th image.\n"
        },
        {
            "cell_type": "code",
            "execution_count": 20,
            "metadata": {},
            "outputs": [
                {
                    "data": {
                        "image/png": "[encoded data removed]",
                        "text/plain": "<Figure size 432x288 with 1 Axes>"
                    },
                    "metadata": {
                        "needs_background": "light"
                    },
                    "output_type": "display_data"
                }
            ],
            "source": "# Plot the 20th image\n\nimage_name = data_name.iloc[19, 1]\nimage_path=os.path.join(directory,image_name)\nimage = Image.open(image_path)\nplt.imshow(image,cmap='gray', vmin=0, vmax=255)\nplt.title(data_name.iloc[19, 0])\nplt.show()"
        },
        {
            "cell_type": "markdown",
            "metadata": {},
            "source": "<hr>\n"
        },
        {
            "cell_type": "markdown",
            "metadata": {},
            "source": " Create the dataset object.\n"
        },
        {
            "cell_type": "markdown",
            "metadata": {},
            "source": "<h2 id=\"data_class\">Create a Dataset Class</h2>\n"
        },
        {
            "cell_type": "markdown",
            "metadata": {},
            "source": "In this section, we will use the components in the last section to build a dataset class and then create an object.\n"
        },
        {
            "cell_type": "code",
            "execution_count": null,
            "metadata": {},
            "outputs": [],
            "source": "# Create your own dataset object\n\nclass Dataset(Dataset):\n\n    # Constructor\n    def __init__(self, csv_file, data_dir, transform=None):\n        \n        # Image directory\n        self.data_dir=data_dir\n        \n        # The transform is goint to be used on image\n        self.transform = transform\n        data_dircsv_file=os.path.join(self.data_dir,csv_file)\n        # Load the CSV file contians image info\n        self.data_name= pd.read_csv(data_dircsv_file)\n        \n        # Number of images in dataset\n        self.len=self.data_name.shape[0] \n    \n    # Get the length\n    def __len__(self):\n        return self.len\n    \n    # Getter\n    def __getitem__(self, idx):\n        \n        # Image file path\n        img_name=os.path.join(self.data_dir,self.data_name.iloc[idx, 1])\n        # Open image file\n        image = Image.open(img_name)\n        \n        # The class label for the image\n        y = self.data_name.iloc[idx, 0]\n        \n        # If there is any transform method, apply it onto the image\n        if self.transform:\n            image = self.transform(image)\n\n        return image, y"
        },
        {
            "cell_type": "code",
            "execution_count": null,
            "metadata": {},
            "outputs": [],
            "source": "# Create the dataset objects\n\ndataset = Dataset(csv_file=csv_file, data_dir=directory)"
        },
        {
            "cell_type": "markdown",
            "metadata": {},
            "source": "Each sample of the image and the class y is stored in a tuple <code> dataset[sample]</code> . The image is the first element in the tuple <code> dataset[sample][0]</code> the label or class is the second element in the tuple <code> dataset[sample][1]</code>. For example you can plot the first image and class.\n"
        },
        {
            "cell_type": "code",
            "execution_count": null,
            "metadata": {},
            "outputs": [],
            "source": "image=dataset[0][0]\ny=dataset[0][1]\n\nplt.imshow(image,cmap='gray', vmin=0, vmax=255)\nplt.title(y)\nplt.show()"
        },
        {
            "cell_type": "code",
            "execution_count": null,
            "metadata": {},
            "outputs": [],
            "source": "y"
        },
        {
            "cell_type": "markdown",
            "metadata": {},
            "source": "Similarly, you can plot the second image: \n"
        },
        {
            "cell_type": "code",
            "execution_count": null,
            "metadata": {},
            "outputs": [],
            "source": "image=dataset[9][0]\ny=dataset[9][1]\n\nplt.imshow(image,cmap='gray', vmin=0, vmax=255)\nplt.title(y)\nplt.show()"
        },
        {
            "cell_type": "markdown",
            "metadata": {},
            "source": "<h2 id=\"Torchvision\"> Torchvision Transforms  </h2>\n"
        },
        {
            "cell_type": "markdown",
            "metadata": {},
            "source": "You will focus on the following libraries:\n"
        },
        {
            "cell_type": "code",
            "execution_count": null,
            "metadata": {},
            "outputs": [],
            "source": "import torchvision.transforms as transforms"
        },
        {
            "cell_type": "markdown",
            "metadata": {},
            "source": "We can apply some image transform functions on the dataset object. The iamge can be cropped and converted to a tensor. We can use <code>transform.Compose</code> we learned from the previous lab to combine the two transform functions.\n"
        },
        {
            "cell_type": "code",
            "execution_count": null,
            "metadata": {},
            "outputs": [],
            "source": "# Combine two transforms: crop and convert to tensor. Apply the compose to MNIST dataset\n\ncroptensor_data_transform = transforms.Compose([transforms.CenterCrop(20), transforms.ToTensor()])\ndataset = Dataset(csv_file=csv_file , data_dir=directory,transform=croptensor_data_transform )\nprint(\"The shape of the first element tensor: \", dataset[0][0].shape)\n"
        },
        {
            "cell_type": "markdown",
            "metadata": {},
            "source": "We can see the image is now 20 x 20\n"
        },
        {
            "cell_type": "markdown",
            "metadata": {},
            "source": "<!--Empty Space for separating topics-->\n"
        },
        {
            "cell_type": "markdown",
            "metadata": {},
            "source": "Let us plot the first image again. Notice we see less of the shoe.\n"
        },
        {
            "cell_type": "code",
            "execution_count": null,
            "metadata": {},
            "outputs": [],
            "source": "# Plot the first element in the dataset\n\nshow_data(dataset[0],shape = (20, 20))"
        },
        {
            "cell_type": "code",
            "execution_count": null,
            "metadata": {},
            "outputs": [],
            "source": "# Plot the second element in the dataset\n\nshow_data(dataset[1],shape = (20, 20))"
        },
        {
            "cell_type": "markdown",
            "metadata": {},
            "source": "In the below example, we Vertically flip the image, and then convert it to a tensor. Use <code>transforms.Compose()</code> to combine these two transform functions. Plot the flipped image.\n"
        },
        {
            "cell_type": "code",
            "execution_count": null,
            "metadata": {},
            "outputs": [],
            "source": "# Construct the compose. Apply it on MNIST dataset. Plot the image out.\n\nfliptensor_data_transform = transforms.Compose([transforms.RandomVerticalFlip(p=1),transforms.ToTensor()])\ndataset = Dataset(csv_file=csv_file , data_dir=directory,transform=fliptensor_data_transform )\nshow_data(dataset[1])"
        },
        {
            "cell_type": "markdown",
            "metadata": {},
            "source": "<!--Empty Space for separating topics-->\n"
        },
        {
            "cell_type": "markdown",
            "metadata": {},
            "source": "<h3>Practice</h3>\n"
        },
        {
            "cell_type": "markdown",
            "metadata": {},
            "source": "Try to use the <code>RandomVerticalFlip</code> (vertically flip the image) with horizontally flip and convert to tensor as a compose. Apply the compose on image. Use <code>show_data()</code> to plot the second image (the image as <b>2</b>).\n"
        },
        {
            "cell_type": "code",
            "execution_count": null,
            "metadata": {},
            "outputs": [],
            "source": "# Practice: Combine vertical flip, horizontal flip and convert to tensor as a compose. Apply the compose on image. Then plot the image\n\n# Type your code here\n\nmy_data_transform = transforms.Compose([transforms.RandomVerticalFlip(p = 1), transforms.RandomHorizontalFlip(p = 1), transforms.ToTensor()])\ndataset = Dataset(csv_file=csv_file , data_dir=directory,transform=fliptensor_data_transform )\nshow_data(dataset[1])"
        },
        {
            "cell_type": "markdown",
            "metadata": {},
            "source": "Double-click **here** for the solution.\n\n<!-- \nmy_data_transform = transforms.Compose([transforms.RandomVerticalFlip(p = 1), transforms.RandomHorizontalFlip(p = 1), transforms.ToTensor()])\ndataset = Dataset(csv_file=csv_file , data_dir=directory,transform=fliptensor_data_transform )\nshow_data(dataset[1])\n -->\n"
        },
        {
            "cell_type": "markdown",
            "metadata": {},
            "source": "<!--Empty Space for separating topics-->\n"
        },
        {
            "cell_type": "markdown",
            "metadata": {},
            "source": "<a href=\"http://cocl.us/pytorch_link_bottom\">\n    <img src=\"https://s3-api.us-geo.objectstorage.softlayer.net/cf-courses-data/CognitiveClass/DL0110EN/notebook_images%20/notebook_bottom%20.png\" width=\"750\" alt=\"PyTorch Bottom\" />\n</a>\n"
        },
        {
            "cell_type": "markdown",
            "metadata": {},
            "source": "<h2>About the Authors:</h2> \n\n<a href=\"https://www.linkedin.com/in/joseph-s-50398b136/\">Joseph Santarcangelo</a> has a PhD in Electrical Engineering, his research focused on using machine learning, signal processing, and computer vision to determine how videos impact human cognition. Joseph has been working for IBM since he completed his PhD.\n"
        },
        {
            "cell_type": "markdown",
            "metadata": {},
            "source": "Other contributors: <a href=\"https://www.linkedin.com/in/michelleccarey/\">Michelle Carey</a>, <a href=\"www.linkedin.com/in/jiahui-mavis-zhou-a4537814a\">Mavis Zhou</a> \n"
        },
        {
            "cell_type": "markdown",
            "metadata": {},
            "source": "## Change Log\n\n| Date (YYYY-MM-DD) | Version | Changed By | Change Description                                          |\n| ----------------- | ------- | ---------- | ----------------------------------------------------------- |\n| 2020-09-21        | 2.0     | Shubham    | Migrated Lab to Markdown and added to course repo in GitLab |\n"
        },
        {
            "cell_type": "markdown",
            "metadata": {},
            "source": "<hr>\n"
        },
        {
            "cell_type": "markdown",
            "metadata": {},
            "source": "Copyright \u00a9 2018 <a href=\"cognitiveclass.ai?utm_source=bducopyrightlink&utm_medium=dswb&utm_campaign=bdu\">cognitiveclass.ai</a>. This notebook and its source code are released under the terms of the <a href=\"https://bigdatauniversity.com/mit-license/\">MIT License</a>.\n"
        }
    ],
    "metadata": {
        "kernelspec": {
            "display_name": "Python 3.6",
            "language": "python",
            "name": "python3"
        },
        "language_info": {
            "codemirror_mode": {
                "name": "ipython",
                "version": 3
            },
            "file_extension": ".py",
            "mimetype": "text/x-python",
            "name": "python",
            "nbconvert_exporter": "python",
            "pygments_lexer": "ipython3",
            "version": "3.6.9"
        }
    },
    "nbformat": 4,
    "nbformat_minor": 4
}