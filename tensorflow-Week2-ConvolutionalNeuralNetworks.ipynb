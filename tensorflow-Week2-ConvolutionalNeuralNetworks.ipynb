{
    "cells": [
        {
            "cell_type": "markdown",
            "metadata": {},
            "source": "<a href=\"https://www.skills.network/\"><img src=\"https://cf-courses-data.s3.us.cloud-object-storage.appdomain.cloud/IBM-DL0120ENedX/labs/Template%20for%20Instructional%20Hands-on%20Labs/images/IDSNlogo.png\" width=\"400px\" align=\"center\"></a>\n\n<h1 align=\"center\"><font size=\"5\">CONVOLUTIONAL NEURAL NETWORK APPLICATION</font></h1>\n"
        },
        {
            "cell_type": "markdown",
            "metadata": {},
            "source": "<h2>Introduction</h2>\n"
        },
        {
            "cell_type": "markdown",
            "metadata": {},
            "source": "In this section, we will use the famous [MNIST Dataset](http://yann.lecun.com/exdb/mnist?cm_mmc=Email_Newsletter-_-Developer_Ed%2BTech-_-WW_WW-_-SkillsNetwork-Courses-IBMDeveloperSkillsNetwork-DL0120EN-SkillsNetwork-20629446&cm_mmca1=000026UJ&cm_mmca2=10006555&cm_mmca3=M12345678&cvosrc=email.Newsletter.M12345678&cvo_campaign=000026UJ&cm_mmc=Email_Newsletter-_-Developer_Ed%2BTech-_-WW_WW-_-SkillsNetwork-Courses-IBMDeveloperSkillsNetwork-DL0120EN-SkillsNetwork-20629446&cm_mmca1=000026UJ&cm_mmca2=10006555&cm_mmca3=M12345678&cvosrc=email.Newsletter.M12345678&cvo_campaign=000026UJ) to build two Neural Networks capable to perform handwritten digits classification. The first Network is a simple Multi-layer Perceptron (MLP) and the second one is a Convolutional Neural Network (CNN from now on). In other words, when given an input our algorithm will say, with some associated error, what type of digit this input represents.\n"
        },
        {
            "cell_type": "markdown",
            "metadata": {},
            "source": "* * *\n"
        },
        {
            "cell_type": "markdown",
            "metadata": {},
            "source": "<div class=\"alert alert-block alert-info\" style=\"margin-top: 20px\">\n<font size = 3><strong>Click on the links to go to the following sections:</strong></font>\n<br>\n<h2>Table of Contents</h2>\n<ol>\n    <li><a href=\"#ref1\">What is Deep Learning</a></li>\n    <li><a href=\"#ref2\">Simple test: Is TensorFlow working?</a></li>\n    <li><a href=\"#ref3\">1st part: classify MNIST using a simple model</a></li>\n    <li><a href=\"#ref4\">Evaluating the final result</a></li>\n    <li><a href=\"#ref5\">How to improve our model?</a></li>\n    <li><a href=\"#ref6\">2nd part: Deep Learning applied on MNIST</a></li>\n    <li><a href=\"#ref7\">Summary of the Deep Convolutional Neural Network</a></li>\n    <li><a href=\"#ref8\">Define functions and train the model</a></li>\n    <li><a href=\"#ref9\">Evaluate the model</a></li>\n</ol>    \n</div>\n"
        },
        {
            "cell_type": "markdown",
            "metadata": {},
            "source": "<hr>\n"
        },
        {
            "cell_type": "markdown",
            "metadata": {},
            "source": "<a id=\"ref1\"></a>\n\n<h2>What is Deep Learning?</h2>\n"
        },
        {
            "cell_type": "markdown",
            "metadata": {},
            "source": "<b>Brief Theory:</b> Deep learning (also known as deep structured learning, hierarchical learning or deep machine learning) is a branch of machine learning based on a set of algorithms that attempt to model high-level abstractions in data by using multiple processing layers, with complex structures or otherwise, composed of multiple non-linear transformations.\n"
        },
        {
            "cell_type": "markdown",
            "metadata": {},
            "source": "<img src=\"https://ibm.box.com/shared/static/gcbbrh440604cj2nksu3f44be87b8ank.png\" alt=\"HTML5 Icon\" style=\"width: 600px; height: 450px;\">\n<div style=\"text-align: center\">It's time for deep learning. Our brain doesn't work with only one or three layers. Why it would be different with machines?. </div>\n"
        },
        {
            "cell_type": "markdown",
            "metadata": {},
            "source": "<b>In Practice, defining the term \"Deep\":</b> in this context, deep means that we are studying a Neural Network which has several hidden layers (more than one), no matter what type (convolutional, pooling, normalization, fully-connected etc). The most interesting part is that some papers noticed that Deep Neural Networks with the right architectures/hyper-parameters achieve better results than shallow Neural Networks with the same computational power (e.g. number of neurons or connections). \n"
        },
        {
            "cell_type": "markdown",
            "metadata": {},
            "source": "<b>In Practice, defining \"Learning\":</b> In the context of supervised learning, digits recognition in our case, the learning part consists of a target/feature which is to be predicted using a given set of observations with the already known final prediction (label). In our case, the target will be the digit (0, 1, 2, 3, 4, 5, 6, 7, 8, 9) and the observations are the intensity and relative position of the pixels. After some training, it is possible to generate a \"function\" that map inputs (digit image) to desired outputs(type of digit). The only problem is how well this map operation occurs. While trying to generate this \"function\", the training process continues until the model achieves a desired level of accuracy on the training data.\n"
        },
        {
            "cell_type": "markdown",
            "metadata": {},
            "source": "<hr>\n"
        },
        {
            "cell_type": "markdown",
            "metadata": {},
            "source": "<h2>Installing TensorFlow </h2>\n\nWe begin by installing TensorFlow version 2.2.0 and its required prerequistes. \n"
        },
        {
            "cell_type": "code",
            "execution_count": 1,
            "metadata": {},
            "outputs": [
                {
                    "name": "stdout",
                    "output_type": "stream",
                    "text": "Collecting grpcio==1.24.3\n  Downloading grpcio-1.24.3-cp37-cp37m-manylinux2010_x86_64.whl (2.2 MB)\n\u001b[K     |\u2588\u2588\u2588\u2588\u2588\u2588\u2588\u2588\u2588\u2588\u2588\u2588\u2588\u2588\u2588\u2588\u2588\u2588\u2588\u2588\u2588\u2588\u2588\u2588\u2588\u2588\u2588\u2588\u2588\u2588\u2588\u2588| 2.2 MB 12.2 MB/s eta 0:00:01\n\u001b[?25hRequirement already satisfied: six>=1.5.2 in /opt/conda/envs/Python-3.7-main/lib/python3.7/site-packages (from grpcio==1.24.3) (1.15.0)\n\u001b[31mERROR: tensorflow 2.1.0 has requirement scipy==1.4.1; python_version >= \"3\", but you'll have scipy 1.5.0 which is incompatible.\u001b[0m\nInstalling collected packages: grpcio\n  Attempting uninstall: grpcio\n    Found existing installation: grpcio 1.27.2\n    Uninstalling grpcio-1.27.2:\n      Successfully uninstalled grpcio-1.27.2\nSuccessfully installed grpcio-1.24.3\nCollecting tensorflow==2.2.0\n  Downloading tensorflow-2.2.0-cp37-cp37m-manylinux2010_x86_64.whl (516.2 MB)\n\u001b[K     |\u2588\u2588\u2588\u2588\u2588\u2588\u2588\u2588\u2588\u2588\u2588\u2588\u2588\u2588\u2588\u2588\u2588\u2588\u2588\u2588\u2588\u2588\u2588\u2588\u2588\u2588\u2588\u2588\u2588\u2588\u2588\u2588| 516.2 MB 7.5 kB/s  eta 0:00:01\n\u001b[?25hRequirement already satisfied: h5py<2.11.0,>=2.10.0 in /opt/conda/envs/Python-3.7-main/lib/python3.7/site-packages (from tensorflow==2.2.0) (2.10.0)\nRequirement already satisfied: termcolor>=1.1.0 in /opt/conda/envs/Python-3.7-main/lib/python3.7/site-packages (from tensorflow==2.2.0) (1.1.0)\nRequirement already satisfied: wheel>=0.26; python_version >= \"3\" in /opt/conda/envs/Python-3.7-main/lib/python3.7/site-packages (from tensorflow==2.2.0) (0.34.2)\nRequirement already satisfied: keras-preprocessing>=1.1.0 in /opt/conda/envs/Python-3.7-main/lib/python3.7/site-packages (from tensorflow==2.2.0) (1.1.0)\nCollecting scipy==1.4.1; python_version >= \"3\"\n  Downloading scipy-1.4.1-cp37-cp37m-manylinux1_x86_64.whl (26.1 MB)\n\u001b[K     |\u2588\u2588\u2588\u2588\u2588\u2588\u2588\u2588\u2588\u2588\u2588\u2588\u2588\u2588\u2588\u2588\u2588\u2588\u2588\u2588\u2588\u2588\u2588\u2588\u2588\u2588\u2588\u2588\u2588\u2588\u2588\u2588| 26.1 MB 52.6 MB/s eta 0:00:01\n\u001b[?25hCollecting gast==0.3.3\n  Downloading gast-0.3.3-py2.py3-none-any.whl (9.7 kB)\nRequirement already satisfied: numpy<2.0,>=1.16.0 in /opt/conda/envs/Python-3.7-main/lib/python3.7/site-packages (from tensorflow==2.2.0) (1.18.5)\nCollecting tensorboard<2.3.0,>=2.2.0\n  Downloading tensorboard-2.2.2-py3-none-any.whl (3.0 MB)\n\u001b[K     |\u2588\u2588\u2588\u2588\u2588\u2588\u2588\u2588\u2588\u2588\u2588\u2588\u2588\u2588\u2588\u2588\u2588\u2588\u2588\u2588\u2588\u2588\u2588\u2588\u2588\u2588\u2588\u2588\u2588\u2588\u2588\u2588| 3.0 MB 52.7 MB/s eta 0:00:01\n\u001b[?25hRequirement already satisfied: protobuf>=3.8.0 in /opt/conda/envs/Python-3.7-main/lib/python3.7/site-packages (from tensorflow==2.2.0) (3.12.3)\nRequirement already satisfied: opt-einsum>=2.3.2 in /opt/conda/envs/Python-3.7-main/lib/python3.7/site-packages (from tensorflow==2.2.0) (3.1.0)\nRequirement already satisfied: wrapt>=1.11.1 in /opt/conda/envs/Python-3.7-main/lib/python3.7/site-packages (from tensorflow==2.2.0) (1.12.1)\nRequirement already satisfied: google-pasta>=0.1.8 in /opt/conda/envs/Python-3.7-main/lib/python3.7/site-packages (from tensorflow==2.2.0) (0.2.0)\nCollecting tensorflow-estimator<2.3.0,>=2.2.0\n  Downloading tensorflow_estimator-2.2.0-py2.py3-none-any.whl (454 kB)\n\u001b[K     |\u2588\u2588\u2588\u2588\u2588\u2588\u2588\u2588\u2588\u2588\u2588\u2588\u2588\u2588\u2588\u2588\u2588\u2588\u2588\u2588\u2588\u2588\u2588\u2588\u2588\u2588\u2588\u2588\u2588\u2588\u2588\u2588| 454 kB 61.3 MB/s eta 0:00:01\n\u001b[?25hRequirement already satisfied: six>=1.12.0 in /opt/conda/envs/Python-3.7-main/lib/python3.7/site-packages (from tensorflow==2.2.0) (1.15.0)\nCollecting astunparse==1.6.3\n  Downloading astunparse-1.6.3-py2.py3-none-any.whl (12 kB)\nRequirement already satisfied: grpcio>=1.8.6 in /opt/conda/envs/Python-3.7-main/lib/python3.7/site-packages (from tensorflow==2.2.0) (1.24.3)\nRequirement already satisfied: absl-py>=0.7.0 in /opt/conda/envs/Python-3.7-main/lib/python3.7/site-packages (from tensorflow==2.2.0) (0.9.0)\nRequirement already satisfied: google-auth-oauthlib<0.5,>=0.4.1 in /opt/conda/envs/Python-3.7-main/lib/python3.7/site-packages (from tensorboard<2.3.0,>=2.2.0->tensorflow==2.2.0) (0.4.1)\nRequirement already satisfied: requests<3,>=2.21.0 in /opt/conda/envs/Python-3.7-main/lib/python3.7/site-packages (from tensorboard<2.3.0,>=2.2.0->tensorflow==2.2.0) (2.24.0)\nRequirement already satisfied: setuptools>=41.0.0 in /opt/conda/envs/Python-3.7-main/lib/python3.7/site-packages (from tensorboard<2.3.0,>=2.2.0->tensorflow==2.2.0) (47.3.1.post20200622)\nRequirement already satisfied: werkzeug>=0.11.15 in /opt/conda/envs/Python-3.7-main/lib/python3.7/site-packages (from tensorboard<2.3.0,>=2.2.0->tensorflow==2.2.0) (1.0.1)\nCollecting tensorboard-plugin-wit>=1.6.0\n  Downloading tensorboard_plugin_wit-1.7.0-py3-none-any.whl (779 kB)\n\u001b[K     |\u2588\u2588\u2588\u2588\u2588\u2588\u2588\u2588\u2588\u2588\u2588\u2588\u2588\u2588\u2588\u2588\u2588\u2588\u2588\u2588\u2588\u2588\u2588\u2588\u2588\u2588\u2588\u2588\u2588\u2588\u2588\u2588| 779 kB 55.0 MB/s eta 0:00:01\n\u001b[?25hRequirement already satisfied: google-auth<2,>=1.6.3 in /opt/conda/envs/Python-3.7-main/lib/python3.7/site-packages (from tensorboard<2.3.0,>=2.2.0->tensorflow==2.2.0) (1.22.0)\nRequirement already satisfied: markdown>=2.6.8 in /opt/conda/envs/Python-3.7-main/lib/python3.7/site-packages (from tensorboard<2.3.0,>=2.2.0->tensorflow==2.2.0) (3.1.1)\nRequirement already satisfied: requests-oauthlib>=0.7.0 in /opt/conda/envs/Python-3.7-main/lib/python3.7/site-packages (from google-auth-oauthlib<0.5,>=0.4.1->tensorboard<2.3.0,>=2.2.0->tensorflow==2.2.0) (1.3.0)\nRequirement already satisfied: idna<3,>=2.5 in /opt/conda/envs/Python-3.7-main/lib/python3.7/site-packages (from requests<3,>=2.21.0->tensorboard<2.3.0,>=2.2.0->tensorflow==2.2.0) (2.9)\nRequirement already satisfied: urllib3!=1.25.0,!=1.25.1,<1.26,>=1.21.1 in /opt/conda/envs/Python-3.7-main/lib/python3.7/site-packages (from requests<3,>=2.21.0->tensorboard<2.3.0,>=2.2.0->tensorflow==2.2.0) (1.25.9)\nRequirement already satisfied: certifi>=2017.4.17 in /opt/conda/envs/Python-3.7-main/lib/python3.7/site-packages (from requests<3,>=2.21.0->tensorboard<2.3.0,>=2.2.0->tensorflow==2.2.0) (2020.6.20)\nRequirement already satisfied: chardet<4,>=3.0.2 in /opt/conda/envs/Python-3.7-main/lib/python3.7/site-packages (from requests<3,>=2.21.0->tensorboard<2.3.0,>=2.2.0->tensorflow==2.2.0) (3.0.4)\nRequirement already satisfied: aiohttp<4.0.0dev,>=3.6.2; python_version >= \"3.6\" in /opt/conda/envs/Python-3.7-main/lib/python3.7/site-packages (from google-auth<2,>=1.6.3->tensorboard<2.3.0,>=2.2.0->tensorflow==2.2.0) (3.6.2)\nRequirement already satisfied: cachetools<5.0,>=2.0.0 in /opt/conda/envs/Python-3.7-main/lib/python3.7/site-packages (from google-auth<2,>=1.6.3->tensorboard<2.3.0,>=2.2.0->tensorflow==2.2.0) (4.1.1)\nRequirement already satisfied: rsa<5,>=3.1.4; python_version >= \"3.5\" in /opt/conda/envs/Python-3.7-main/lib/python3.7/site-packages (from google-auth<2,>=1.6.3->tensorboard<2.3.0,>=2.2.0->tensorflow==2.2.0) (4.6)\nRequirement already satisfied: pyasn1-modules>=0.2.1 in /opt/conda/envs/Python-3.7-main/lib/python3.7/site-packages (from google-auth<2,>=1.6.3->tensorboard<2.3.0,>=2.2.0->tensorflow==2.2.0) (0.2.8)\nRequirement already satisfied: oauthlib>=3.0.0 in /opt/conda/envs/Python-3.7-main/lib/python3.7/site-packages (from requests-oauthlib>=0.7.0->google-auth-oauthlib<0.5,>=0.4.1->tensorboard<2.3.0,>=2.2.0->tensorflow==2.2.0) (3.1.0)\nRequirement already satisfied: multidict<5.0,>=4.5 in /opt/conda/envs/Python-3.7-main/lib/python3.7/site-packages (from aiohttp<4.0.0dev,>=3.6.2; python_version >= \"3.6\"->google-auth<2,>=1.6.3->tensorboard<2.3.0,>=2.2.0->tensorflow==2.2.0) (4.7.6)\nRequirement already satisfied: attrs>=17.3.0 in /opt/conda/envs/Python-3.7-main/lib/python3.7/site-packages (from aiohttp<4.0.0dev,>=3.6.2; python_version >= \"3.6\"->google-auth<2,>=1.6.3->tensorboard<2.3.0,>=2.2.0->tensorflow==2.2.0) (19.3.0)\nRequirement already satisfied: async-timeout<4.0,>=3.0 in /opt/conda/envs/Python-3.7-main/lib/python3.7/site-packages (from aiohttp<4.0.0dev,>=3.6.2; python_version >= \"3.6\"->google-auth<2,>=1.6.3->tensorboard<2.3.0,>=2.2.0->tensorflow==2.2.0) (3.0.1)\nRequirement already satisfied: yarl<2.0,>=1.0 in /opt/conda/envs/Python-3.7-main/lib/python3.7/site-packages (from aiohttp<4.0.0dev,>=3.6.2; python_version >= \"3.6\"->google-auth<2,>=1.6.3->tensorboard<2.3.0,>=2.2.0->tensorflow==2.2.0) (1.5.1)\nRequirement already satisfied: pyasn1>=0.1.3 in /opt/conda/envs/Python-3.7-main/lib/python3.7/site-packages (from rsa<5,>=3.1.4; python_version >= \"3.5\"->google-auth<2,>=1.6.3->tensorboard<2.3.0,>=2.2.0->tensorflow==2.2.0) (0.4.8)\nRequirement already satisfied: typing-extensions>=3.7.4; python_version < \"3.8\" in /opt/conda/envs/Python-3.7-main/lib/python3.7/site-packages (from yarl<2.0,>=1.0->aiohttp<4.0.0dev,>=3.6.2; python_version >= \"3.6\"->google-auth<2,>=1.6.3->tensorboard<2.3.0,>=2.2.0->tensorflow==2.2.0) (3.7.4.2)\nInstalling collected packages: scipy, gast, tensorboard-plugin-wit, tensorboard, tensorflow-estimator, astunparse, tensorflow\n  Attempting uninstall: scipy\n    Found existing installation: scipy 1.5.0\n    Uninstalling scipy-1.5.0:\n      Successfully uninstalled scipy-1.5.0\n  Attempting uninstall: gast\n    Found existing installation: gast 0.2.2\n    Uninstalling gast-0.2.2:\n      Successfully uninstalled gast-0.2.2\n  Attempting uninstall: tensorboard\n    Found existing installation: tensorboard 2.1.0\n    Uninstalling tensorboard-2.1.0:\n      Successfully uninstalled tensorboard-2.1.0\n  Attempting uninstall: tensorflow-estimator\n    Found existing installation: tensorflow-estimator 2.1.0\n    Uninstalling tensorflow-estimator-2.1.0:\n      Successfully uninstalled tensorflow-estimator-2.1.0\n  Attempting uninstall: tensorflow\n    Found existing installation: tensorflow 2.1.0\n    Uninstalling tensorflow-2.1.0:\n      Successfully uninstalled tensorflow-2.1.0\nSuccessfully installed astunparse-1.6.3 gast-0.3.3 scipy-1.4.1 tensorboard-2.2.2 tensorboard-plugin-wit-1.7.0 tensorflow-2.2.0 tensorflow-estimator-2.2.0\n"
                }
            ],
            "source": "!pip install grpcio==1.24.3\n!pip install tensorflow==2.2.0"
        },
        {
            "cell_type": "markdown",
            "metadata": {},
            "source": "<b>Notice:</b> This notebook has been created with TensorFlow version 2.2, and might not work with other versions. Therefore we check:\n"
        },
        {
            "cell_type": "code",
            "execution_count": 2,
            "metadata": {},
            "outputs": [],
            "source": "import tensorflow as tf\nfrom IPython.display import Markdown, display\n\ndef printmd(string):\n    display(Markdown('# <span style=\"color:red\">'+string+'</span>'))\n\n\nif not tf.__version__ == '2.2.0':\n    printmd('<<<<<!!!!! ERROR !!!! please upgrade to TensorFlow 2.2.0, or restart your Kernel (Kernel->Restart & Clear Output)>>>>>')"
        },
        {
            "cell_type": "markdown",
            "metadata": {},
            "source": "In this tutorial, we first classify MNIST using a simple Multi-layer perceptron and then, in the second part, we use deeplearning to improve the accuracy of our results.\n\n<a id=\"ref3\"></a>\n\n<h2>1st part: classify MNIST using a simple model.</h2>\n"
        },
        {
            "cell_type": "markdown",
            "metadata": {},
            "source": "We are going to create a simple Multi-layer perceptron, a simple type of Neural Network, to perform classification tasks on the MNIST digits dataset. If you are not familiar with the MNIST dataset, please consider to read more about it: <a href=\"http://yann.lecun.com/exdb/mnist/\">click here</a> \n"
        },
        {
            "cell_type": "markdown",
            "metadata": {},
            "source": "<h3>What is MNIST?</h3>\n"
        },
        {
            "cell_type": "markdown",
            "metadata": {},
            "source": "According to LeCun's website, the MNIST is a: \"database of handwritten digits that has a training set of 60,000 examples, and a test set of 10,000 examples. It is a subset of a larger set available from NIST. The digits have been size-normalized and centered in a fixed-size image\".\n"
        },
        {
            "cell_type": "markdown",
            "metadata": {},
            "source": "<h3>Import the MNIST dataset using TensorFlow built-in feature</h3>\n"
        },
        {
            "cell_type": "markdown",
            "metadata": {},
            "source": "It's very important to notice that MNIST is a high optimized data-set and it does not contain images. You will need to build your own code if you want to see the real digits. Another important side note is the effort that the authors invested on this data-set with normalization and centering operations.  \n"
        },
        {
            "cell_type": "code",
            "execution_count": 3,
            "metadata": {},
            "outputs": [
                {
                    "name": "stdout",
                    "output_type": "stream",
                    "text": "Downloading data from https://storage.googleapis.com/tensorflow/tf-keras-datasets/mnist.npz\n11493376/11490434 [==============================] - 0s 0us/step\n"
                }
            ],
            "source": "mnist = tf.keras.datasets.mnist\n(x_train, y_train), (x_test, y_test) = mnist.load_data()"
        },
        {
            "cell_type": "markdown",
            "metadata": {},
            "source": "The features data are between 0 and 255, and we will normalize this to improve optimization performance.\n"
        },
        {
            "cell_type": "code",
            "execution_count": 4,
            "metadata": {},
            "outputs": [],
            "source": "x_train, x_test = x_train / 255.0, x_test / 255.0"
        },
        {
            "cell_type": "markdown",
            "metadata": {},
            "source": "Let's take a look at the first few label values: \n"
        },
        {
            "cell_type": "code",
            "execution_count": 5,
            "metadata": {},
            "outputs": [
                {
                    "name": "stdout",
                    "output_type": "stream",
                    "text": "[5 0 4 1 9]\n"
                }
            ],
            "source": "print(y_train[0:5])"
        },
        {
            "cell_type": "markdown",
            "metadata": {},
            "source": "The current label scheme simply identifies the category to which each data point belongs (each handwritten digit is assigned a category equal to the number value).  We need to convert this into a one-hot encoded vector.  In contrast to Binary representation, the labels will be presented in a way that to represent a number N, the $N^{th}$ bit is 1 while the the other bits are 0. For example, five and zero in a binary code would be:\n"
        },
        {
            "cell_type": "markdown",
            "metadata": {},
            "source": "<pre>\nNumber representation:    0\nBinary encoding:        [2^5]  [2^4]   [2^3]   [2^2]   [2^1]   [2^0]  \nArray/vector:             0      0       0       0       0       0 \n\nNumber representation:    5\nBinary encoding:        [2^5]  [2^4]   [2^3]   [2^2]   [2^1]   [2^0]  \nArray/vector:             0      0       0       1       0       1  \n</pre>\n"
        },
        {
            "cell_type": "markdown",
            "metadata": {},
            "source": "Using a different notation, the same digits using one-hot vector representation can be show as: \n"
        },
        {
            "cell_type": "markdown",
            "metadata": {},
            "source": "<pre>\nNumber representation:    0\nOne-hot encoding:        [5]   [4]    [3]    [2]    [1]   [0]  \nArray/vector:             0     0      0      0      0     1   \n\nNumber representation:    5\nOne-hot encoding:        [5]   [4]    [3]    [2]    [1]    [0]  \nArray/vector:             1     0      0      0      0      0   \n</pre>\n"
        },
        {
            "cell_type": "markdown",
            "metadata": {},
            "source": "This is a standard operation, and is shown below.\n"
        },
        {
            "cell_type": "code",
            "execution_count": 6,
            "metadata": {},
            "outputs": [
                {
                    "name": "stdout",
                    "output_type": "stream",
                    "text": "categorical labels\n[5 0 4 1 9]\none hot encoded labels\ntf.Tensor(\n[[0. 0. 0. 0. 0. 1. 0. 0. 0. 0.]\n [1. 0. 0. 0. 0. 0. 0. 0. 0. 0.]\n [0. 0. 0. 0. 1. 0. 0. 0. 0. 0.]\n [0. 1. 0. 0. 0. 0. 0. 0. 0. 0.]\n [0. 0. 0. 0. 0. 0. 0. 0. 0. 1.]], shape=(5, 10), dtype=float32)\n"
                }
            ],
            "source": "print(\"categorical labels\")\nprint(y_train[0:5])\n\n# make labels one hot encoded\ny_train = tf.one_hot(y_train, 10)\ny_test = tf.one_hot(y_test, 10)\n\nprint(\"one hot encoded labels\")\nprint(y_train[0:5])"
        },
        {
            "cell_type": "markdown",
            "metadata": {},
            "source": "<h3>Understanding the imported data</h3>\n"
        },
        {
            "cell_type": "markdown",
            "metadata": {},
            "source": "The imported data can be divided as follows:\n\n-   Training >>  Use the given dataset with inputs and related outputs for training of NN. In our case, if you give an image that you know that represents a \"nine\", this set will tell the neural network that we expect a \"nine\" as the output.  \n    ```\n      - 60,000 data points\n      - x_train for inputs\n      - y_train for outputs/labels\n    ```\n-   Test >> The model does not have access to this information prior to the testing phase. It is used to evaluate the performance and accuracy of the model against \"real life situations\". No further optimization beyond this point.  \n    ```\n      - 10,000 data points\n      - x_test for inputs\n      - y_test for outputs/labels\n    ```\n-   Validation data is not used in this example.\n"
        },
        {
            "cell_type": "code",
            "execution_count": 7,
            "metadata": {},
            "outputs": [
                {
                    "name": "stdout",
                    "output_type": "stream",
                    "text": "number of training examples: 60000\nnumber of test examples: 10000\n"
                }
            ],
            "source": "print(\"number of training examples:\" , x_train.shape[0])\nprint(\"number of test examples:\" , x_test.shape[0])"
        },
        {
            "cell_type": "markdown",
            "metadata": {},
            "source": "The new Dataset API in TensorFlow 2.X allows you to define batch sizes as part of the dataset.  It also has improved I/O characteristics, and is the recommended way of loading data.  This allows you to iterate through  subsets (batches) of the data during training.  This is a common practice that improves performance by computing gradients over smaller batches.  We will see this in action during the training step.  \n\nAdditionally, you can shuffle the dataset if you believe that there is a skewed distribution of data in the original dataset that may result in batches with different distributions.  We aren't shuffling data here.\n"
        },
        {
            "cell_type": "code",
            "execution_count": 8,
            "metadata": {},
            "outputs": [],
            "source": "train_ds = tf.data.Dataset.from_tensor_slices((x_train, y_train)).batch(50)\ntest_ds = tf.data.Dataset.from_tensor_slices((x_test, y_test)).batch(50)"
        },
        {
            "cell_type": "markdown",
            "metadata": {},
            "source": "<h3>Converting a 2D Image into a 1D Vector</h3>\n"
        },
        {
            "cell_type": "markdown",
            "metadata": {},
            "source": "MNIST images are black and white thumbnail square images with 28x28 pixels.  Each pixel is assigned an intensity (originally on a scale of 0 to 255).  To make the input useful to us, we need these to be arranged in a 1D vector using a consistent strategy, as is shown in the figure below.  We can use `Flatten` to accomplish this task.\n"
        },
        {
            "cell_type": "code",
            "execution_count": 9,
            "metadata": {},
            "outputs": [
                {
                    "name": "stdout",
                    "output_type": "stream",
                    "text": "(60000, 28, 28)\n(60000, 784)\n"
                }
            ],
            "source": "# showing an example of the Flatten class and operation\nfrom tensorflow.keras.layers import Flatten\nflatten = Flatten(dtype='float32')\n\n\"original data shape\"\nprint(x_train.shape)\n\n\"flattened shape\"\nprint(flatten(x_train).shape)"
        },
        {
            "cell_type": "markdown",
            "metadata": {},
            "source": "<img src=\"https://cf-courses-data.s3.us.cloud-object-storage.appdomain.cloud/IBMDeveloperSkillsNetwork-DL0120EN-SkillsNetwork/labs/Week2/Flatten.png\" alt=\"HTML5 Icon\" style=\"width:350px\"> \n\n<div style=\"text-align:center\">Illustration of the Flatten operation </div>\n"
        },
        {
            "cell_type": "markdown",
            "metadata": {},
            "source": "<h3>Assigning bias and weights to null tensors</h3>\n"
        },
        {
            "cell_type": "markdown",
            "metadata": {},
            "source": "Now we are going to create the weights and biases, for this purpose they will be used as arrays filled with zeros. The values that we choose here can be critical, but we'll cover a better way on the second part, instead of this type of initialization.\nSince these values will be adjusted during the optimization process, we define them using  `tf.Variable`.\n\nNOTE:  `tf.Variable` creates adjustable variables that are in the global namespace, so any function that references these variables need not pass the varibles.  But they are globals, so exercise caution when naming!\n"
        },
        {
            "cell_type": "code",
            "execution_count": 10,
            "metadata": {},
            "outputs": [],
            "source": "# Weight tensor\nW = tf.Variable(tf.zeros([784, 10], tf.float32))\n# Bias tensor\nb = tf.Variable(tf.zeros([10], tf.float32))"
        },
        {
            "cell_type": "markdown",
            "metadata": {},
            "source": "<h3>Adding Weights and Biases to input</h3>\n"
        },
        {
            "cell_type": "markdown",
            "metadata": {},
            "source": "The only difference for our next operation to the picture below is that we are using the mathematical convention for what is being executed in the illustration. The tf.matmul operation performs a matrix multiplication between x (inputs) and W (weights) and after the code add biases.\n"
        },
        {
            "cell_type": "markdown",
            "metadata": {},
            "source": "<img src=\"https://ibm.box.com/shared/static/88ksiymk1xkb10rgk0jwr3jw814jbfxo.png\" alt=\"HTML5 Icon\" style=\"width:350px\"> \n<div style=\"text-align:center\">Illustration showing how weights and biases are added to neurons/nodes. </div>\n"
        },
        {
            "cell_type": "code",
            "execution_count": 11,
            "metadata": {},
            "outputs": [],
            "source": "def forward(x):\n    return tf.matmul(x,W) + b"
        },
        {
            "cell_type": "markdown",
            "metadata": {},
            "source": "<h3>Softmax Regression</h3>\n"
        },
        {
            "cell_type": "markdown",
            "metadata": {},
            "source": "Softmax is an activation function that is normally used in classification problems. It generates the probabilities for the output. For example, our model will not be 100% sure that one digit is the number nine, instead, the answer will be a distribution of probabilities where, if the model is right, the nine number will have a larger probability than the other other digits.\n\nFor comparison, below is the one-hot vector for a nine digit label:\n"
        },
        {
            "cell_type": "raw",
            "metadata": {},
            "source": "0 --> 0  \n1 --> 0 \n2 --> 0\n3 --> 0\n4 --> 0\n5 --> 0\n6 --> 0\n7 --> 0\n8 --> 0\n9 --> 1"
        },
        {
            "cell_type": "markdown",
            "metadata": {},
            "source": "A machine does not have all this certainty, so we want to know what is the best guess, but we also want to understand how sure it was and what was the second better option. Below is an example of a hypothetical distribution for a nine digit:\n"
        },
        {
            "cell_type": "raw",
            "metadata": {},
            "source": "0 -->0.01  \n1 -->0.02  \n2 -->0.03  \n3 -->0.02  \n4 -->0.12  \n5 -->0.01  \n6 -->0.03\n7 -->0.06\n8 -->0.1\n9 -->0.6  "
        },
        {
            "cell_type": "markdown",
            "metadata": {},
            "source": "Softmax is simply an exponential of each value of a vector that is also normalized.  The formula is:\n\n$$\\\\sigma(z_i) = \\\\frac{e^{z_i}}{\\\\sum{e^{z_i}}}$$\n"
        },
        {
            "cell_type": "code",
            "execution_count": 12,
            "metadata": {},
            "outputs": [
                {
                    "name": "stdout",
                    "output_type": "stream",
                    "text": "softmax calculation\n[8.8075405e-01 4.8839214e-05 1.1919710e-01]\nverifying normalization\ntf.Tensor(1.0, shape=(), dtype=float32)\nfinding vector with largest value (label assignment)\ncategory 0\n"
                }
            ],
            "source": "# a sample softmax calculation on an input vector\nvector = [10, 0.2, 8]\nsoftmax = tf.nn.softmax(vector)\nprint(\"softmax calculation\")\nprint(softmax.numpy())\nprint(\"verifying normalization\")\nprint(tf.reduce_sum(softmax))\nprint(\"finding vector with largest value (label assignment)\")\nprint(\"category\", tf.argmax(softmax).numpy())"
        },
        {
            "cell_type": "markdown",
            "metadata": {},
            "source": "Now we can define our output layer\n"
        },
        {
            "cell_type": "code",
            "execution_count": 13,
            "metadata": {},
            "outputs": [],
            "source": "def activate(x):\n    return tf.nn.softmax(forward(x))"
        },
        {
            "cell_type": "markdown",
            "metadata": {},
            "source": "Logistic function output is used for the classification between two target classes 0/1. Softmax function is generalized type of logistic function. That is, Softmax can output a multiclass categorical probability distribution. \n"
        },
        {
            "cell_type": "markdown",
            "metadata": {},
            "source": "Let's create a `model` function for convenience.\n"
        },
        {
            "cell_type": "code",
            "execution_count": 14,
            "metadata": {},
            "outputs": [],
            "source": "def model(x):\n    x = flatten(x)\n    return activate(x)"
        },
        {
            "cell_type": "markdown",
            "metadata": {},
            "source": "<h3>Cost function</h3>\n"
        },
        {
            "cell_type": "markdown",
            "metadata": {},
            "source": "It is a function that is used to minimize the difference between the right answers (labels) and estimated outputs by our Network. Here we use the cross entropy function, which is a popular cost function used for categorical models.  The function is defined in terms of probabilities, which is why we must used normalized vectors.  It is given as:\n\n$$ CrossEntropy = \\\\sum{y_{Label}\\\\cdot \\\\log(y_{Prediction})}$$\n"
        },
        {
            "cell_type": "code",
            "execution_count": 15,
            "metadata": {},
            "outputs": [
                {
                    "data": {
                        "text/plain": "138154.98"
                    },
                    "execution_count": 15,
                    "metadata": {},
                    "output_type": "execute_result"
                }
            ],
            "source": "def cross_entropy(y_label, y_pred):\n    return (-tf.reduce_sum(y_label * tf.math.log(y_pred + 1.e-10)))\n# addition of 1e-10 to prevent errors in zero calculations\n\n# current loss function for unoptimized model\ncross_entropy(y_train, model(x_train)).numpy()"
        },
        {
            "cell_type": "markdown",
            "metadata": {},
            "source": "<h3>Type of optimization: Gradient Descent</h3>\n"
        },
        {
            "cell_type": "markdown",
            "metadata": {},
            "source": "This is the part where you configure the optimizer for your Neural Network. There are several optimizers available, in our case we will use Gradient Descent because it is a well established optimizer.\n"
        },
        {
            "cell_type": "code",
            "execution_count": 16,
            "metadata": {},
            "outputs": [],
            "source": "optimizer = tf.keras.optimizers.SGD(learning_rate=0.25)"
        },
        {
            "cell_type": "markdown",
            "metadata": {},
            "source": "Now we define the training step.  This step uses `GradientTape` to automatically compute deriviatives of the functions we have manually created and applies them using the `SGD` optimizer. \n"
        },
        {
            "cell_type": "code",
            "execution_count": 17,
            "metadata": {},
            "outputs": [],
            "source": "def train_step(x, y ):\n    with tf.GradientTape() as tape:\n        #compute loss function\n        current_loss = cross_entropy( y, model(x))\n        # compute gradient of loss \n        #(This is automatic! Even with specialized funcctions!)\n        grads = tape.gradient( current_loss , [W,b] )\n        # Apply SGD step to our Variables W and b\n        optimizer.apply_gradients( zip( grads , [W,b] ) )     \n    return current_loss.numpy()"
        },
        {
            "cell_type": "markdown",
            "metadata": {},
            "source": "<h3>Training batches</h3>\n"
        },
        {
            "cell_type": "markdown",
            "metadata": {},
            "source": "Train using minibatch Gradient Descent.\n\nIn practice, Batch Gradient Descent is not often used because is too computationally expensive. The good part about this method is that you have the true gradient, but with the expensive computing task of using the whole dataset in one time. Due to this problem, Neural Networks usually use minibatch to train.\n\nWe have already divided our full dataset into batches of 50 each using the Datasets API.  Now we can iterate through each of those batches to compute a gradient.  Once we iterate through all of the batches in the dataset, we complete an **epoch**, or a full traversal of the dataset.\n"
        },
        {
            "cell_type": "code",
            "execution_count": 18,
            "metadata": {},
            "outputs": [
                {
                    "name": "stdout",
                    "output_type": "stream",
                    "text": "epoch  0 batch 500 loss: 177.26141\nepoch  0 batch 1000 loss: 174.39491\nend of epoch  0 loss 223471.0 accuracy 0.8147\nepoch  1 batch 500 loss: 153.2364\nepoch  1 batch 1000 loss: 178.1075\nend of epoch  1 loss 216641.61 accuracy 0.824\nepoch  2 batch 500 loss: 209.28334\nepoch  2 batch 1000 loss: 172.85431\nend of epoch  2 loss 207265.34 accuracy 0.83315\nepoch  3 batch 500 loss: 203.7942\nepoch  3 batch 1000 loss: 152.35666\nend of epoch  3 loss 210062.89 accuracy 0.8303\nepoch  4 batch 500 loss: 189.21526\nepoch  4 batch 1000 loss: 163.97006\nend of epoch  4 loss 211364.33 accuracy 0.82985\nepoch  5 batch 500 loss: 215.90894\nepoch  5 batch 1000 loss: 175.0403\nend of epoch  5 loss 202569.72 accuracy 0.83845\nepoch  6 batch 500 loss: 200.97389\nepoch  6 batch 1000 loss: 167.53844\nend of epoch  6 loss 207683.56 accuracy 0.83435\nepoch  7 batch 500 loss: 200.98653\nepoch  7 batch 1000 loss: 185.46494\nend of epoch  7 loss 200680.25 accuracy 0.8413333\nepoch  8 batch 500 loss: 213.95403\nepoch  8 batch 1000 loss: 172.93088\nend of epoch  8 loss 205809.38 accuracy 0.8361\nepoch  9 batch 500 loss: 208.41548\nepoch  9 batch 1000 loss: 165.63356\nend of epoch  9 loss 199166.2 accuracy 0.84305\n"
                }
            ],
            "source": "# zeroing out weights in case you want to run this cell multiple times\n# Weight tensor\nW = tf.Variable(tf.zeros([784, 10],tf.float32))\n# Bias tensor\nb = tf.Variable(tf.zeros([10],tf.float32))\n\nloss_values=[]\naccuracies = []\nepochs = 10\n\nfor i in range(epochs):\n    j=0\n    # each batch has 50 examples\n    for x_train_batch, y_train_batch in train_ds:\n        j+=1\n        current_loss = train_step(x_train_batch, y_train_batch)\n        if j%500==0: #reporting intermittent batch statistics\n            print(\"epoch \", str(i), \"batch\", str(j), \"loss:\", str(current_loss) ) \n    \n    # collecting statistics at each epoch...loss function and accuracy\n    #  loss function\n    current_loss = cross_entropy( y_train, model( x_train )).numpy()\n    loss_values.append(current_loss)\n    correct_prediction = tf.equal(tf.argmax(model(x_train), axis=1),\n                                  tf.argmax(y_train, axis=1))\n    #  accuracy\n    accuracy = tf.reduce_mean(tf.cast(correct_prediction, tf.float32)).numpy()\n    accuracies.append(accuracy)\n    print(\"end of epoch \", str(i), \"loss\", str(current_loss), \"accuracy\", str(accuracy) ) \n"
        },
        {
            "cell_type": "markdown",
            "metadata": {},
            "source": "<h3>Test and Plots</h3>\n"
        },
        {
            "cell_type": "markdown",
            "metadata": {},
            "source": "It is common to run intermittent diagnostics (such as accuracy and loss over entire dataset) during training.  Here we compute a summary statistic on the test dataset as well.  Fitness metrics for the training data should closely match those of the test data.  If the test metrics are distinctly less favorable, this can be a sign of overfitting.\n"
        },
        {
            "cell_type": "code",
            "execution_count": 19,
            "metadata": {},
            "outputs": [
                {
                    "name": "stdout",
                    "output_type": "stream",
                    "text": "training accuracy 0.84305\ntest accuracy 0.8355\n"
                }
            ],
            "source": "correct_prediction_train = tf.equal(tf.argmax(model(x_train), axis=1),tf.argmax(y_train,axis=1))\naccuracy_train = tf.reduce_mean(tf.cast(correct_prediction_train, tf.float32)).numpy()\n\ncorrect_prediction_test = tf.equal(tf.argmax(model(x_test), axis=1),tf.argmax(y_test, axis=1))\naccuracy_test = tf.reduce_mean(tf.cast(correct_prediction_test, tf.float32)).numpy()\n\nprint(\"training accuracy\", accuracy_train)\nprint(\"test accuracy\", accuracy_test)"
        },
        {
            "cell_type": "markdown",
            "metadata": {},
            "source": "<hr>\n"
        },
        {
            "cell_type": "markdown",
            "metadata": {},
            "source": "The next two plots show the performance of the optimization at each epoch.\n"
        },
        {
            "cell_type": "code",
            "execution_count": 20,
            "metadata": {},
            "outputs": [
                {
                    "data": {
                        "text/plain": "Text(0, 0.5, 'loss')"
                    },
                    "execution_count": 20,
                    "metadata": {},
                    "output_type": "execute_result"
                },
                {
                    "data": {
                        "image/png": "[encoded data removed]",
                        "text/plain": "<Figure size 720x432 with 1 Axes>"
                    },
                    "metadata": {
                        "needs_background": "light"
                    },
                    "output_type": "display_data"
                }
            ],
            "source": "import matplotlib.pyplot as plt\n%matplotlib inline\nplt.rcParams['figure.figsize'] = (10, 6)\n#print(loss_values)\nplt.plot(loss_values,'-ro')\nplt.title(\"loss per epoch\")\nplt.xlabel(\"epoch\")\nplt.ylabel(\"loss\")"
        },
        {
            "cell_type": "code",
            "execution_count": 21,
            "metadata": {},
            "outputs": [
                {
                    "data": {
                        "text/plain": "Text(0, 0.5, 'accuracy')"
                    },
                    "execution_count": 21,
                    "metadata": {},
                    "output_type": "execute_result"
                },
                {
                    "data": {
                        "image/png": "[encoded data removed]",
                        "text/plain": "<Figure size 720x432 with 1 Axes>"
                    },
                    "metadata": {
                        "needs_background": "light"
                    },
                    "output_type": "display_data"
                }
            ],
            "source": "plt.plot(accuracies,'-ro')\nplt.title(\"accuracy per epoch\")\nplt.xlabel(\"epoch\")\nplt.ylabel(\"accuracy\")"
        },
        {
            "cell_type": "markdown",
            "metadata": {},
            "source": "<a id=\"ref4\"></a>\n\n<h2>Evaluating the final result</h2>\n"
        },
        {
            "cell_type": "markdown",
            "metadata": {},
            "source": "84% accuracy is not bad considering the simplicity of the model, but >90% accuracy has been achieved in the past.  \n"
        },
        {
            "cell_type": "markdown",
            "metadata": {},
            "source": "<a id=\"ref5\"></a>\n\n<h2>How to improve our model?</h2>\n"
        },
        {
            "cell_type": "markdown",
            "metadata": {},
            "source": "<h4>Several options as follow:</h4>\n<ul>\n    <li>Regularization of Neural Networks using DropConnect</li>\n    <li>Multi-column Deep Neural Networks for Image Classification</li> \n    <li>APAC: Augmented Pattern Classification with Neural Networks</li>\n    <li>Simple Deep Neural Network with Dropout</li>\n</ul>\n<h4>In the next part we are going to explore the option:</h4>\n<ul>\n    <li>Simple Deep Neural Network with Dropout (more than 1 hidden layer)</li>\n</ul> \n"
        },
        {
            "cell_type": "markdown",
            "metadata": {},
            "source": "<hr>\n"
        },
        {
            "cell_type": "markdown",
            "metadata": {},
            "source": "<a id=\"ref6\"></a>\n\n<h2>2nd part: Deep Learning applied on MNIST</h2>\n"
        },
        {
            "cell_type": "markdown",
            "metadata": {},
            "source": "In the first part, we learned how to use a simple ANN to classify MNIST. Now we are going to expand our knowledge using a Deep Neural Network. \n\nArchitecture of our network is:\n\n-   (Input) -> [batch_size, 28, 28, 1]  >> Apply 32 filter of [5x5]\n-   (Convolutional layer 1)  -> [batch_size, 28, 28, 32]\n-   (ReLU 1)  -> [?, 28, 28, 32]\n-   (Max pooling 1) -> [?, 14, 14, 32]\n-   (Convolutional layer 2)  -> [?, 14, 14, 64] \n-   (ReLU 2)  -> [?, 14, 14, 64] \n-   (Max pooling 2)  -> [?, 7, 7, 64] \n-   [fully connected layer 3] -> [1x1024]\n-   [ReLU 3]  -> [1x1024]\n-   [Drop out]  -> [1x1024]\n-   [fully connected layer 4] -> [1x10]\n\nThe next cells will explore this new architecture.\n"
        },
        {
            "cell_type": "markdown",
            "metadata": {},
            "source": "<h3>The MNIST data</h3>\n"
        },
        {
            "cell_type": "markdown",
            "metadata": {
                "jupyter": {
                    "outputs_hidden": true
                }
            },
            "source": "The MNIST Dataset will be used from the above example.\n"
        },
        {
            "cell_type": "markdown",
            "metadata": {},
            "source": "<h3>Initial parameters</h3>\n"
        },
        {
            "cell_type": "markdown",
            "metadata": {},
            "source": "Create general parameters for the model\n"
        },
        {
            "cell_type": "code",
            "execution_count": 22,
            "metadata": {},
            "outputs": [],
            "source": "width = 28 # width of the image in pixels \nheight = 28 # height of the image in pixels\nflat = width * height # number of pixels in one image \nclass_output = 10 # number of possible classifications for the problem"
        },
        {
            "cell_type": "markdown",
            "metadata": {},
            "source": "<h4>Converting images of the data set to tensors</h4>\n"
        },
        {
            "cell_type": "markdown",
            "metadata": {},
            "source": "The input image is 28 pixels by 28 pixels, 1 channel (grayscale). In this case, the first dimension is the <b>batch number</b> of the image, and can be of any size (so we set it to -1). The second and third dimensions are width and height, and the last one is the image channels.\n"
        },
        {
            "cell_type": "code",
            "execution_count": 23,
            "metadata": {},
            "outputs": [],
            "source": "x_image_train = tf.reshape(x_train, [-1,28,28,1])  \nx_image_train = tf.cast(x_image_train, 'float32') \n\nx_image_test = tf.reshape(x_test, [-1,28,28,1]) \nx_image_test = tf.cast(x_image_test, 'float32') \n\n#creating new dataset with reshaped inputs\ntrain_ds2 = tf.data.Dataset.from_tensor_slices((x_image_train, y_train)).batch(50)\ntest_ds2 = tf.data.Dataset.from_tensor_slices((x_image_test, y_test)).batch(50)"
        },
        {
            "cell_type": "markdown",
            "metadata": {},
            "source": "Reducing data set size from this point on because the Skills Netowrk Labs only provides 4 GB of main memory but 8 are needed otherwise. If you want to run faster (in multiple CPU or GPU) and on the whole data set consider using IBM Watson Studio. You get 100 hours of free usage every month. <https://github.com/IBM/skillsnetwork/wiki/Watson-Studio-Setup>\n"
        },
        {
            "cell_type": "code",
            "execution_count": 24,
            "metadata": {},
            "outputs": [],
            "source": "x_image_train = tf.slice(x_image_train,[0,0,0,0],[10000, 28, 28, 1])\ny_train = tf.slice(y_train,[0,0],[10000, 10])"
        },
        {
            "cell_type": "markdown",
            "metadata": {},
            "source": "<h3>Convolutional Layer 1</h3>\n"
        },
        {
            "cell_type": "markdown",
            "metadata": {},
            "source": "<h4>Defining kernel weight and bias</h4>\nWe define a kernel here. The Size of the filter/kernel is 5x5;  Input channels is 1 (grayscale);  and we need 32 different feature maps (here, 32 feature maps means 32 different filters are applied on each image. So, the output of convolution layer would be 28x28x32). In this step, we create a filter / kernel tensor of shape <code>[filter_height, filter_width, in_channels, out_channels]</code>\n"
        },
        {
            "cell_type": "code",
            "execution_count": 25,
            "metadata": {},
            "outputs": [],
            "source": "W_conv1 = tf.Variable(tf.random.truncated_normal([5, 5, 1, 32], stddev=0.1, seed=0))\nb_conv1 = tf.Variable(tf.constant(0.1, shape=[32])) # need 32 biases for 32 outputs"
        },
        {
            "cell_type": "markdown",
            "metadata": {},
            "source": "<img src=\"https://ibm.box.com/shared/static/vn26neef1nnv2oxn5cb3uueowcawhkgb.png\" style=\"width: 800px; height: 400px;\" alt=\"HTML5 Icon\" >\n\n</h4>Convolve with weight tensor and add biases.</h4>\n\nTo create convolutional layer, we use <b>tf.nn.conv2d</b>. It computes a 2-D convolution given 4-D input and filter tensors.\n\nInputs:\n\n-   tensor of shape [batch, in_height, in_width, in_channels]. x of shape [batch_size,28 ,28, 1]\n-   a filter / kernel tensor of shape [filter_height, filter_width, in_channels, out_channels]. W is of size [5, 5, 1, 32]\n-   stride which is  [1, 1, 1, 1]. The convolutional layer, slides the \"kernel window\" across the input tensor. As the input tensor has 4 dimensions:  [batch, height, width, channels], then the convolution operates on a 2D window on the height and width dimensions. **strides** determines how much the window shifts by in each of the dimensions. As the first and last dimensions are related to batch and channels, we set the stride to 1. But for second and third dimension, we could set other values, e.g. [1, 2, 2, 1]\n\nProcess:\n\n-   Change the filter to a 2-D matrix with shape [5\\*5\\*1,32]\n-   Extracts image patches from the input tensor to form a _virtual_ tensor of shape `[batch, 28, 28, 5*5*1]`.\n-   For each batch, right-multiplies the filter matrix and the image vector.\n\nOutput:\n\n-   A `Tensor` (a 2-D convolution) of size tf.Tensor 'add_7:0' shape=(?, 28, 28, 32)- Notice: the output of the first convolution layer is 32 [28x28] images. Here 32 is considered as volume/depth of the output image.\n"
        },
        {
            "cell_type": "code",
            "execution_count": 26,
            "metadata": {},
            "outputs": [],
            "source": "def convolve1(x):\n    return(\n        tf.nn.conv2d(x, W_conv1, strides=[1, 1, 1, 1], padding='SAME') + b_conv1)"
        },
        {
            "cell_type": "markdown",
            "metadata": {},
            "source": "<img src=\"https://ibm.box.com/shared/static/iizf4ui4b2hh9wn86pplqxu27ykpqci9.png\" style=\"width: 800px; height: 400px;\" alt=\"HTML5 Icon\" >\n"
        },
        {
            "cell_type": "markdown",
            "metadata": {},
            "source": "<h4>Apply the ReLU activation Function</h4>\n"
        },
        {
            "cell_type": "markdown",
            "metadata": {},
            "source": "In this step, we just go through all outputs convolution layer, <b>convolve1</b>, and wherever a negative number occurs, we swap it out for a 0. It is called ReLU activation Function.<br> Let f(x) is a ReLU activation function $f(x) = max(0,x)$.\n"
        },
        {
            "cell_type": "code",
            "execution_count": 27,
            "metadata": {},
            "outputs": [],
            "source": "def h_conv1(x): return(tf.nn.relu(convolve1(x)))"
        },
        {
            "cell_type": "markdown",
            "metadata": {},
            "source": "<h4>Apply the max pooling</h4>\n"
        },
        {
            "cell_type": "markdown",
            "metadata": {},
            "source": "<b>max pooling</b> is a form of non-linear down-sampling. It partitions the input image into a set of rectangles and, and then find the maximum value for that region. \n\nLets use <b>tf.nn.max_pool</b> function to perform max pooling. \n<b>Kernel size:</b> 2x2 (if the window is a 2x2 matrix, it would result in one output pixel)  \n<b>Strides:</b> dictates the sliding behaviour of the kernel. In this case it will move 2 pixels everytime, thus not overlapping. The input is a matrix of size 28x28x32, and the output would be a matrix of size 14x14x32.\n\n<img src=\"https://ibm.box.com/shared/static/kmaja90mn3aud9mro9cn8pbbg1h5pejy.png\" alt=\"HTML5 Icon\" style=\"width: 800px; height: 400px;\"> \n"
        },
        {
            "cell_type": "code",
            "execution_count": 28,
            "metadata": {},
            "outputs": [],
            "source": "def conv1(x):\n    return tf.nn.max_pool(h_conv1(x), ksize=[1, 2, 2, 1], \n                          strides=[1, 2, 2, 1], padding='SAME')"
        },
        {
            "cell_type": "markdown",
            "metadata": {},
            "source": "First layer completed\n"
        },
        {
            "cell_type": "markdown",
            "metadata": {},
            "source": "<h3>Convolutional Layer 2</h3>\n<h4>Weights and Biases of kernels</h4>\n"
        },
        {
            "cell_type": "markdown",
            "metadata": {},
            "source": "We apply the convolution again in this layer. Lets look at the second layer kernel:  \n\n-   Filter/kernel: 5x5 (25 pixels) \n-   Input channels: 32 (from the 1st Conv layer, we had 32 feature maps) \n-   64 output feature maps  \n\n<b>Notice:</b> here, the input image is [14x14x32], the filter is [5x5x32], we use 64 filters of size [5x5x32], and the output of the convolutional layer would be 64 convolved image, [14x14x64].\n\n<b>Notice:</b> the convolution result of applying a filter of size [5x5x32] on image of size [14x14x32] is an image of size [14x14x1], that is, the convolution is functioning on volume.\n"
        },
        {
            "cell_type": "code",
            "execution_count": 29,
            "metadata": {},
            "outputs": [],
            "source": "W_conv2 = tf.Variable(tf.random.truncated_normal([5, 5, 32, 64], stddev=0.1, seed=1))\nb_conv2 = tf.Variable(tf.constant(0.1, shape=[64])) #need 64 biases for 64 outputs"
        },
        {
            "cell_type": "markdown",
            "metadata": {},
            "source": "<h4>Convolve image with weight tensor and add biases.</h4>\n"
        },
        {
            "cell_type": "code",
            "execution_count": 30,
            "metadata": {},
            "outputs": [],
            "source": "def convolve2(x): \n    return( \n    tf.nn.conv2d(conv1(x), W_conv2, strides=[1, 1, 1, 1], padding='SAME') + b_conv2)"
        },
        {
            "cell_type": "markdown",
            "metadata": {},
            "source": "<h4>Apply the ReLU activation Function</h4>\n"
        },
        {
            "cell_type": "code",
            "execution_count": 31,
            "metadata": {},
            "outputs": [],
            "source": "def h_conv2(x):  return tf.nn.relu(convolve2(x))"
        },
        {
            "cell_type": "markdown",
            "metadata": {},
            "source": "<h4>Apply the max pooling</h4>\n"
        },
        {
            "cell_type": "code",
            "execution_count": 32,
            "metadata": {},
            "outputs": [],
            "source": "def conv2(x):  \n    return(\n    tf.nn.max_pool(h_conv2(x), ksize=[1, 2, 2, 1], strides=[1, 2, 2, 1], padding='SAME'))"
        },
        {
            "cell_type": "markdown",
            "metadata": {},
            "source": "Second layer completed. So, what is the output of the second layer, layer2?\n\n-   it is 64 matrix of [7x7]\n"
        },
        {
            "cell_type": "markdown",
            "metadata": {},
            "source": "<h3>Fully Connected Layer</h3>\n"
        },
        {
            "cell_type": "markdown",
            "metadata": {},
            "source": "You need a fully connected layer to use the Softmax and create the probabilities in the end. Fully connected layers take the high-level filtered images from previous layer, that is all 64 matrices, and convert them to a flat array.\n\nSo, each matrix [7x7] will be converted to a matrix of [49x1], and then all of the 64 matrix will be connected, which make an array of size [3136x1]. We will connect it into another layer of size [1024x1]. So, the weight between these 2 layers will be [3136x1024]\n\n<img src=\"https://ibm.box.com/shared/static/pr9mnirmlrzm2bitf1d4jj389hyvv7ey.png\" alt=\"HTML5 Icon\" style=\"width: 800px; height: 400px;\"> \n"
        },
        {
            "cell_type": "markdown",
            "metadata": {},
            "source": "<h4>Flattening Second Layer</h4>\n"
        },
        {
            "cell_type": "code",
            "execution_count": 33,
            "metadata": {},
            "outputs": [],
            "source": "def layer2_matrix(x): return tf.reshape(conv2(x), [-1, 7 * 7 * 64])"
        },
        {
            "cell_type": "markdown",
            "metadata": {},
            "source": "<h4>Weights and Biases between layer 2 and 3</h4>\n"
        },
        {
            "cell_type": "markdown",
            "metadata": {},
            "source": "Composition of the feature map from the last layer (7x7) multiplied by the number of feature maps (64); 1027 outputs to Softmax layer\n"
        },
        {
            "cell_type": "code",
            "execution_count": 34,
            "metadata": {},
            "outputs": [],
            "source": "W_fc1 = tf.Variable(tf.random.truncated_normal([7 * 7 * 64, 1024], stddev=0.1, seed = 2))\nb_fc1 = tf.Variable(tf.constant(0.1, shape=[1024])) # need 1024 biases for 1024 outputs"
        },
        {
            "cell_type": "markdown",
            "metadata": {},
            "source": "<h4>Matrix Multiplication (applying weights and biases)</h4>\n"
        },
        {
            "cell_type": "code",
            "execution_count": 35,
            "metadata": {},
            "outputs": [],
            "source": "def fcl(x): return tf.matmul(layer2_matrix(x), W_fc1) + b_fc1"
        },
        {
            "cell_type": "markdown",
            "metadata": {},
            "source": "<h4>Apply the ReLU activation Function</h4>\n"
        },
        {
            "cell_type": "code",
            "execution_count": 36,
            "metadata": {},
            "outputs": [],
            "source": "def h_fc1(x): return tf.nn.relu(fcl(x))"
        },
        {
            "cell_type": "markdown",
            "metadata": {},
            "source": "Third layer completed\n"
        },
        {
            "cell_type": "markdown",
            "metadata": {},
            "source": "<h4>Dropout Layer, Optional phase for reducing overfitting</h4>\n"
        },
        {
            "cell_type": "markdown",
            "metadata": {},
            "source": "It is a phase where the network \"forget\" some features. At each training step in a mini-batch, some units get switched off randomly so that it will not interact with the network. That is, it weights cannot be updated, nor affect the learning of the other network nodes.  This can be very useful for very large neural networks to prevent overfitting.\n"
        },
        {
            "cell_type": "code",
            "execution_count": 37,
            "metadata": {},
            "outputs": [],
            "source": "keep_prob=0.5\ndef layer_drop(x): return tf.nn.dropout(h_fc1(x), keep_prob)"
        },
        {
            "cell_type": "markdown",
            "metadata": {},
            "source": "<h4>Readout Layer (Softmax Layer)</h4>\n"
        },
        {
            "cell_type": "markdown",
            "metadata": {},
            "source": "Type: Softmax, Fully Connected Layer.\n"
        },
        {
            "cell_type": "markdown",
            "metadata": {},
            "source": "<h4>Weights and Biases</h4>\n"
        },
        {
            "cell_type": "markdown",
            "metadata": {},
            "source": "In last layer, CNN takes the high-level filtered images and translate them into votes using softmax.\nInput channels: 1024 (neurons from the 3rd Layer); 10 output features\n"
        },
        {
            "cell_type": "code",
            "execution_count": 38,
            "metadata": {},
            "outputs": [],
            "source": "W_fc2 = tf.Variable(tf.random.truncated_normal([1024, 10], stddev=0.1, seed = 2)) #1024 neurons\nb_fc2 = tf.Variable(tf.constant(0.1, shape=[10])) # 10 possibilities for digits [0,1,2,3,4,5,6,7,8,9]"
        },
        {
            "cell_type": "markdown",
            "metadata": {},
            "source": "<h4>Matrix Multiplication (applying weights and biases)</h4>\n"
        },
        {
            "cell_type": "code",
            "execution_count": 39,
            "metadata": {},
            "outputs": [],
            "source": "def fc(x): return tf.matmul(layer_drop(x), W_fc2) + b_fc2"
        },
        {
            "cell_type": "markdown",
            "metadata": {},
            "source": "<h4>Apply the Softmax activation Function</h4>\n<b>softmax</b> allows us to interpret the outputs of <b>fcl4</b> as probabilities. So, <b>y_conv</b> is a tensor of probabilities.\n"
        },
        {
            "cell_type": "code",
            "execution_count": 40,
            "metadata": {},
            "outputs": [],
            "source": "def y_CNN(x): return tf.nn.softmax(fc(x))"
        },
        {
            "cell_type": "markdown",
            "metadata": {},
            "source": "* * *\n"
        },
        {
            "cell_type": "markdown",
            "metadata": {},
            "source": "<a id=\"ref7\"></a>\n\n<h2>Summary of the Deep Convolutional Neural Network</h2>\n"
        },
        {
            "cell_type": "markdown",
            "metadata": {},
            "source": "Now is time to remember the structure of  our network\n"
        },
        {
            "cell_type": "markdown",
            "metadata": {},
            "source": "#### 0) Input - MNIST dataset\n\n#### 1) Convolutional and Max-Pooling\n\n#### 2) Convolutional and Max-Pooling\n\n#### 3) Fully Connected Layer\n\n#### 4) Processing - Dropout\n\n#### 5) Readout layer - Fully Connected\n\n#### 6) Outputs - Classified digits\n"
        },
        {
            "cell_type": "markdown",
            "metadata": {},
            "source": "* * *\n"
        },
        {
            "cell_type": "markdown",
            "metadata": {},
            "source": "<a id=\"ref8\"></a>\n\n<h2>Define functions and train the model</h2>\n"
        },
        {
            "cell_type": "markdown",
            "metadata": {},
            "source": "<h4>Define the loss function</h4>\n\nWe need to compare our output, layer4 tensor, with ground truth for all mini_batch. we can use <b>cross entropy>/b> to see how bad our CNN is working - to measure the error at a softmax layer.\n\nThe following code shows an toy sample of cross-entropy for a mini-batch of size 2 which its items have been classified. You can run it (first change the cell type to <b>code</b> in the toolbar) to see how cross entropy changes.\n"
        },
        {
            "cell_type": "raw",
            "metadata": {},
            "source": "import numpy as np\nlayer4_test =[[0.9, 0.1, 0.1],[0.9, 0.1, 0.1]]\ny_test=[[1.0, 0.0, 0.0],[1.0, 0.0, 0.0]]\nnp.mean( -np.sum(y_test * np.log(layer4_test),1))"
        },
        {
            "cell_type": "markdown",
            "metadata": {},
            "source": "<b>reduce_sum</b> computes the sum of elements of <b>(y_ \\* tf.log(layer4)</b> across second dimension of the tensor, and <b>reduce_mean</b> computes the mean of all elements in the tensor..\n\n$$ CrossEntropy = \\\\sum{y_{Label}\\\\cdot \\\\log(y_{Prediction})}$$\n"
        },
        {
            "cell_type": "code",
            "execution_count": 41,
            "metadata": {},
            "outputs": [],
            "source": "def cross_entropy(y_label, y_pred):\n    return (-tf.reduce_sum(y_label * tf.math.log(y_pred + 1.e-10)))"
        },
        {
            "cell_type": "markdown",
            "metadata": {},
            "source": "<h4>Define the optimizer</h4>\n\nIt is obvious that we want minimize the error of our network which is calculated by cross_entropy metric. To solve the problem, we have to compute gradients for the loss (which is minimizing the cross-entropy) and apply gradients to variables. It will be done by an optimizer: GradientDescent or Adagrad. \n"
        },
        {
            "cell_type": "code",
            "execution_count": 42,
            "metadata": {},
            "outputs": [],
            "source": "optimizer = tf.keras.optimizers.Adam(1e-4)"
        },
        {
            "cell_type": "markdown",
            "metadata": {},
            "source": "Following the convention of our first example, we will use `GradientTape` to define a model.\n"
        },
        {
            "cell_type": "code",
            "execution_count": 43,
            "metadata": {},
            "outputs": [],
            "source": "variables = [W_conv1, b_conv1, W_conv2, b_conv2, \n             W_fc1, b_fc1, W_fc2, b_fc2, ]\n\ndef train_step(x, y):\n    with tf.GradientTape() as tape:\n        current_loss = cross_entropy( y, y_CNN( x ))\n        grads = tape.gradient( current_loss , variables )\n        optimizer.apply_gradients( zip( grads , variables ) )\n        return current_loss.numpy()\n"
        },
        {
            "cell_type": "code",
            "execution_count": 44,
            "metadata": {},
            "outputs": [
                {
                    "data": {
                        "text/plain": "'results = []\\nincrement = 1000\\nfor start in range(0,60000,increment):\\n    s = tf.slice(x_image_train,[start,0,0,0],[start+increment-1, 28, 28, 1])\\n    t = y_CNN(s)\\n    #results.append(t)\\n'"
                    },
                    "execution_count": 44,
                    "metadata": {},
                    "output_type": "execute_result"
                }
            ],
            "source": "\"\"\"results = []\nincrement = 1000\nfor start in range(0,60000,increment):\n    s = tf.slice(x_image_train,[start,0,0,0],[start+increment-1, 28, 28, 1])\n    t = y_CNN(s)\n    #results.append(t)\n\"\"\""
        },
        {
            "cell_type": "markdown",
            "metadata": {},
            "source": "<h4>Define prediction</h4>\nDo you want to know how many of the cases in a mini-batch has been classified correctly? lets count them.\n"
        },
        {
            "cell_type": "code",
            "execution_count": 45,
            "metadata": {},
            "outputs": [],
            "source": "correct_prediction = tf.equal(tf.argmax(y_CNN(x_image_train), axis=1), tf.argmax(y_train, axis=1))"
        },
        {
            "cell_type": "markdown",
            "metadata": {},
            "source": "<h4>Define accuracy</h4>\nIt makes more sense to report accuracy using average of correct cases.\n"
        },
        {
            "cell_type": "code",
            "execution_count": 46,
            "metadata": {},
            "outputs": [],
            "source": "accuracy = tf.reduce_mean(tf.cast(correct_prediction, 'float32'))"
        },
        {
            "cell_type": "markdown",
            "metadata": {},
            "source": "<h4>Run session, train</h4>\n"
        },
        {
            "cell_type": "markdown",
            "metadata": {},
            "source": "<i>If you want a fast result (<b>it might take sometime to train it</b>)</i>\n"
        },
        {
            "cell_type": "code",
            "execution_count": 47,
            "metadata": {},
            "outputs": [
                {
                    "name": "stdout",
                    "output_type": "stream",
                    "text": "epoch  0 batch 50 loss: 179.70676 accuracy 0.32\nepoch  0 batch 100 loss: 58.326904 accuracy 0.64\nepoch  0 batch 150 loss: 41.668747 accuracy 0.86\nepoch  0 batch 200 loss: 24.809912 accuracy 0.88\nepoch  0 batch 250 loss: 31.852667 accuracy 0.78\nepoch  0 batch 300 loss: 20.192785 accuracy 0.8\nepoch  0 batch 350 loss: 28.08344 accuracy 0.84\nepoch  0 batch 400 loss: 20.179388 accuracy 0.88\nepoch  0 batch 450 loss: 17.670334 accuracy 0.82\nepoch  0 batch 500 loss: 14.379136 accuracy 0.94\nepoch  0 batch 550 loss: 13.345383 accuracy 0.86\nepoch  0 batch 600 loss: 17.135666 accuracy 0.86\nepoch  0 batch 650 loss: 22.753021 accuracy 0.92\nepoch  0 batch 700 loss: 8.655214 accuracy 0.96\nepoch  0 batch 750 loss: 24.416899 accuracy 0.84\nepoch  0 batch 800 loss: 9.931772 accuracy 0.92\nepoch  0 batch 850 loss: 11.416074 accuracy 0.92\nepoch  0 batch 900 loss: 13.295601 accuracy 0.92\nepoch  0 batch 950 loss: 12.294376 accuracy 0.88\nepoch  0 batch 1000 loss: 14.711213 accuracy 0.94\nepoch  0 batch 1050 loss: 5.645081 accuracy 0.96\nepoch  0 batch 1100 loss: 14.445456 accuracy 0.88\nepoch  0 batch 1150 loss: 4.2378755 accuracy 0.94\nepoch  0 batch 1200 loss: 3.488902 accuracy 1.0\nend of epoch  0 loss 1975.1592 accuracy 0.9355\n"
                }
            ],
            "source": "loss_values=[]\naccuracies = []\nepochs = 1\n\nfor i in range(epochs):\n    j=0\n    # each batch has 50 examples\n    for x_train_batch, y_train_batch in train_ds2:\n        j+=1\n        current_loss = train_step(x_train_batch, y_train_batch)\n        if j%50==0: #reporting intermittent batch statistics\n            correct_prediction = tf.equal(tf.argmax(y_CNN(x_train_batch), axis=1),\n                                  tf.argmax(y_train_batch, axis=1))\n            #  accuracy\n            accuracy = tf.reduce_mean(tf.cast(correct_prediction, tf.float32)).numpy()\n            print(\"epoch \", str(i), \"batch\", str(j), \"loss:\", str(current_loss),\n                     \"accuracy\", str(accuracy)) \n            \n    current_loss = cross_entropy( y_train, y_CNN( x_image_train )).numpy()\n    loss_values.append(current_loss)\n    correct_prediction = tf.equal(tf.argmax(y_CNN(x_image_train), axis=1),\n                                  tf.argmax(y_train, axis=1))\n    #  accuracy\n    accuracy = tf.reduce_mean(tf.cast(correct_prediction, tf.float32)).numpy()\n    accuracies.append(accuracy)\n    print(\"end of epoch \", str(i), \"loss\", str(current_loss), \"accuracy\", str(accuracy) )  "
        },
        {
            "cell_type": "markdown",
            "metadata": {},
            "source": "<div class=\"alert alert-success alertsuccess\" style=\"margin-top: 20px\">\n<font size = 3><strong><i>Wow...95% accuracy after only 1 epoch!  You can increase the number of epochs in the previsous cell if you REALLY have time to wait, or you are running it using PowerAI (<b>change the type of the cell to code</b>)</i></strong></font>\n"
        },
        {
            "cell_type": "markdown",
            "metadata": {},
            "source": "<i>PS. If you have problems running this notebook, please shutdown all your Jupyter runnning notebooks, clear all cells outputs and run each cell only after the completion of the previous cell.</i>\n"
        },
        {
            "cell_type": "markdown",
            "metadata": {},
            "source": "<hr>\n"
        },
        {
            "cell_type": "markdown",
            "metadata": {},
            "source": "<a id=\"ref9\"></a>\n\n<h2>Evaluate the model</h2>\n"
        },
        {
            "cell_type": "markdown",
            "metadata": {},
            "source": "Print the evaluation to the user\n"
        },
        {
            "cell_type": "code",
            "execution_count": 48,
            "metadata": {},
            "outputs": [
                {
                    "name": "stdout",
                    "output_type": "stream",
                    "text": "batch 100 accuracy 0.94\nbatch 200 accuracy 0.94\nbatch 300 accuracy 0.9\nbatch 400 accuracy 0.94\nbatch 500 accuracy 0.92\nbatch 600 accuracy 0.94\nbatch 700 accuracy 0.96\nbatch 800 accuracy 0.98\nbatch 900 accuracy 0.96\nbatch 1000 accuracy 0.92\nbatch 1100 accuracy 0.9\nbatch 1200 accuracy 0.98\naccuracy of entire set 0.9355\n"
                }
            ],
            "source": "j=0\nacccuracies=[]\n# evaluate accuracy by batch and average...reporting every 100th batch\nfor x_train_batch, y_train_batch in train_ds2:\n        j+=1\n        correct_prediction = tf.equal(tf.argmax(y_CNN(x_train_batch), axis=1),\n                                  tf.argmax(y_train_batch, axis=1))\n        accuracy = tf.reduce_mean(tf.cast(correct_prediction, tf.float32)).numpy()\n        #accuracies.append(accuracy)\n        if j%100==0:\n            print(\"batch\", str(j), \"accuracy\", str(accuracy) ) \nimport numpy as np\nprint(\"accuracy of entire set\", str(np.mean(accuracies)))            "
        },
        {
            "cell_type": "markdown",
            "metadata": {},
            "source": "<h3>Visualization</h3>\n"
        },
        {
            "cell_type": "markdown",
            "metadata": {},
            "source": "Do you want to look at all the filters?\n"
        },
        {
            "cell_type": "code",
            "execution_count": 49,
            "metadata": {},
            "outputs": [],
            "source": "kernels = tf.reshape(tf.transpose(W_conv1, perm=[2, 3, 0,1]),[32, -1])"
        },
        {
            "cell_type": "code",
            "execution_count": 50,
            "metadata": {},
            "outputs": [
                {
                    "name": "stdout",
                    "output_type": "stream",
                    "text": "--2020-11-06 02:34:51--  http://deeplearning.net/tutorial/code/utils.py\nResolving deeplearning.net (deeplearning.net)... 132.204.26.28\nConnecting to deeplearning.net (deeplearning.net)|132.204.26.28|:80... connected.\nHTTP request sent, awaiting response... 200 OK\nLength: 5097 (5.0K) [text/plain]\nSaving to: \u2018utils1.py\u2019\n\nutils1.py           100%[===================>]   4.98K  --.-KB/s    in 0s      \n\n2020-11-06 02:34:52 (284 MB/s) - \u2018utils1.py\u2019 saved [5097/5097]\n\n"
                },
                {
                    "data": {
                        "image/png": "[encoded data removed]",
                        "text/plain": "<Figure size 1296x1296 with 1 Axes>"
                    },
                    "metadata": {
                        "needs_background": "light"
                    },
                    "output_type": "display_data"
                }
            ],
            "source": "!wget --output-document utils1.py http://deeplearning.net/tutorial/code/utils.py\nimport utils1\nimport imp\nimp.reload(utils1)\nfrom utils1 import tile_raster_images\nimport matplotlib.pyplot as plt\nfrom PIL import Image\n%matplotlib inline\nimage = Image.fromarray(tile_raster_images(kernels.numpy(), img_shape=(5, 5) ,tile_shape=(4, 8), tile_spacing=(1, 1)))\n### Plot image\nplt.rcParams['figure.figsize'] = (18.0, 18.0)\nimgplot = plt.imshow(image)\nimgplot.set_cmap('gray')  "
        },
        {
            "cell_type": "markdown",
            "metadata": {},
            "source": "Do you want to see the output of an image passing through first convolution layer?\n"
        },
        {
            "cell_type": "code",
            "execution_count": 51,
            "metadata": {},
            "outputs": [
                {
                    "data": {
                        "text/plain": "<matplotlib.image.AxesImage at 0x7febfe4c5110>"
                    },
                    "execution_count": 51,
                    "metadata": {},
                    "output_type": "execute_result"
                },
                {
                    "data": {
                        "image/png": "[encoded data removed]",
                        "text/plain": "<Figure size 360x360 with 1 Axes>"
                    },
                    "metadata": {
                        "needs_background": "light"
                    },
                    "output_type": "display_data"
                }
            ],
            "source": "import numpy as np\nplt.rcParams['figure.figsize'] = (5.0, 5.0)\nsampleimage = [x_image_train[0]]\nplt.imshow(np.reshape(sampleimage,[28,28]), cmap=\"gray\")"
        },
        {
            "cell_type": "code",
            "execution_count": null,
            "metadata": {},
            "outputs": [],
            "source": "#ActivatedUnits = sess.run(convolve1,feed_dict={x:np.reshape(sampleimage,[1,784],order='F'),keep_prob:1.0})\nkeep_prob=1.0\nActivatedUnits = convolve1(sampleimage)\n                           \nfilters = ActivatedUnits.shape[3]\nplt.figure(1, figsize=(20,20))\nn_columns = 6\nn_rows = np.math.ceil(filters / n_columns) + 1\nfor i in range(filters):\n    plt.subplot(n_rows, n_columns, i+1)\n    plt.title('Filter ' + str(i))\n    plt.imshow(ActivatedUnits[0,:,:,i], interpolation=\"nearest\", cmap=\"gray\")"
        },
        {
            "cell_type": "markdown",
            "metadata": {},
            "source": "What about second convolution layer?\n"
        },
        {
            "cell_type": "code",
            "execution_count": null,
            "metadata": {},
            "outputs": [],
            "source": "#ActivatedUnits = sess.run(convolve2,feed_dict={x:np.reshape(sampleimage,[1,784],order='F'),keep_prob:1.0})\nActivatedUnits = convolve2(sampleimage)\nfilters = ActivatedUnits.shape[3]\nplt.figure(1, figsize=(20,20))\nn_columns = 8\nn_rows = np.math.ceil(filters / n_columns) + 1\nfor i in range(filters):\n    plt.subplot(n_rows, n_columns, i+1)\n    plt.title('Filter ' + str(i))\n    plt.imshow(ActivatedUnits[0,:,:,i], interpolation=\"nearest\", cmap=\"gray\")"
        },
        {
            "cell_type": "markdown",
            "metadata": {},
            "source": "## Want to learn more?\n\nRunning deep learning programs usually needs a high performance platform. **PowerAI** speeds up deep learning and AI. Built on IBM\u2019s Power Systems, **PowerAI** is a scalable software platform that accelerates deep learning and AI with blazing performance for individual users or enterprises. The **PowerAI** platform supports popular machine learning libraries and dependencies including TensorFlow, Caffe, Torch, and Theano. You can use [PowerAI on IMB Cloud](https://cocl.us/ML0120EN_PAI).\n\nAlso, you can use **Watson Studio** to run these notebooks faster with bigger datasets.**Watson Studio** is IBM\u2019s leading cloud solution for data scientists, built by data scientists. With Jupyter notebooks, RStudio, Apache Spark, and NVIDIA GPU accelerated hardware environemnts, as well as and popular libraries pre-packaged in the cloud, **Watson Studio** enables data scientists to collaborate on their projects without having to install anything. Join the fast-growing community of **Watson Studio** users today with a free account at [Watson Studio](https://cocl.us/ML0120EN_DSX).This is the end of this lesson. Thank you for reading this notebook, and good luck on your studies.\n"
        },
        {
            "cell_type": "markdown",
            "metadata": {},
            "source": "### Thanks for completing this lesson!\n"
        },
        {
            "cell_type": "markdown",
            "metadata": {},
            "source": "Created by <a href=\"https://linkedin.com/in/saeedaghabozorgi\"> Saeed Aghabozorgi </a>, <a href=\"https://linkedin.com/in/luisotsm\">Luis Otavio Silveira Martins</a>, <a href=\"https://linkedin.com/in/erich-natsubori-sato\"> Erich Natsubori Sato </a></h4>\n\nUpdated to TF 2.X by  <a href=\"https://ca.linkedin.com/in/nilmeier\"> Jerome Nilmeier</a><br />\n"
        },
        {
            "cell_type": "markdown",
            "metadata": {},
            "source": "### References:\n\n[https://en.wikipedia.org/wiki/Deep_learning](https://en.wikipedia.org/wiki/Deep_learning?cm_mmc=Email_Newsletter-_-Developer_Ed%2BTech-_-WW_WW-_-SkillsNetwork-Courses-IBMDeveloperSkillsNetwork-DL0120EN-SkillsNetwork-20629446&cm_mmca1=000026UJ&cm_mmca2=10006555&cm_mmca3=M12345678&cvosrc=email.Newsletter.M12345678&cvo_campaign=000026UJ)  \n[http://ruder.io/optimizing-gradient-descent/](http://ruder.io/optimizing-gradient-descent?cm_mmc=Email_Newsletter-_-Developer_Ed%2BTech-_-WW_WW-_-SkillsNetwork-Courses-IBMDeveloperSkillsNetwork-DL0120EN-SkillsNetwork-20629446&cm_mmca1=000026UJ&cm_mmca2=10006555&cm_mmca3=M12345678&cvosrc=email.Newsletter.M12345678&cvo_campaign=000026UJ&cm_mmc=Email_Newsletter-_-Developer_Ed%2BTech-_-WW_WW-_-SkillsNetwork-Courses-IBMDeveloperSkillsNetwork-DL0120EN-SkillsNetwork-20629446&cm_mmca1=000026UJ&cm_mmca2=10006555&cm_mmca3=M12345678&cvosrc=email.Newsletter.M12345678&cvo_campaign=000026UJ)<br> \n[http://yann.lecun.com/exdb/mnist/](http://yann.lecun.com/exdb/mnist?cm_mmc=Email_Newsletter-_-Developer_Ed%2BTech-_-WW_WW-_-SkillsNetwork-Courses-IBMDeveloperSkillsNetwork-DL0120EN-SkillsNetwork-20629446&cm_mmca1=000026UJ&cm_mmca2=10006555&cm_mmca3=M12345678&cvosrc=email.Newsletter.M12345678&cvo_campaign=000026UJ&cm_mmc=Email_Newsletter-_-Developer_Ed%2BTech-_-WW_WW-_-SkillsNetwork-Courses-IBMDeveloperSkillsNetwork-DL0120EN-SkillsNetwork-20629446&cm_mmca1=000026UJ&cm_mmca2=10006555&cm_mmca3=M12345678&cvosrc=email.Newsletter.M12345678&cvo_campaign=000026UJ&cm_mmc=Email_Newsletter-_-Developer_Ed%2BTech-_-WW_WW-_-SkillsNetwork-Courses-IBMDeveloperSkillsNetwork-DL0120EN-SkillsNetwork-20629446&cm_mmca1=000026UJ&cm_mmca2=10006555&cm_mmca3=M12345678&cvosrc=email.Newsletter.M12345678&cvo_campaign=000026UJ)  \n[https://www.quora.com/Artificial-Neural-Networks-What-is-the-difference-between-activation-functions](https://www.quora.com/Artificial-Neural-Networks-What-is-the-difference-between-activation-functions?cm_mmc=Email_Newsletter-_-Developer_Ed%2BTech-_-WW_WW-_-SkillsNetwork-Courses-IBMDeveloperSkillsNetwork-DL0120EN-SkillsNetwork-20629446&cm_mmca1=000026UJ&cm_mmca2=10006555&cm_mmca3=M12345678&cvosrc=email.Newsletter.M12345678&cvo_campaign=000026UJ&cm_mmc=Email_Newsletter-_-Developer_Ed%2BTech-_-WW_WW-_-SkillsNetwork-Courses-IBMDeveloperSkillsNetwork-DL0120EN-SkillsNetwork-20629446&cm_mmca1=000026UJ&cm_mmca2=10006555&cm_mmca3=M12345678&cvosrc=email.Newsletter.M12345678&cvo_campaign=000026UJ)  \n[https://www.tensorflow.org/versions/r0.9/tutorials/mnist/pros/index.html](https://www.tensorflow.org/versions/r0.9/tutorials/mnist/pros/index.html?cm_mmc=Email_Newsletter-_-Developer_Ed%2BTech-_-WW_WW-_-SkillsNetwork-Courses-IBMDeveloperSkillsNetwork-DL0120EN-SkillsNetwork-20629446&cm_mmca1=000026UJ&cm_mmca2=10006555&cm_mmca3=M12345678&cvosrc=email.Newsletter.M12345678&cvo_campaign=000026UJ&cm_mmc=Email_Newsletter-_-Developer_Ed%2BTech-_-WW_WW-_-SkillsNetwork-Courses-IBMDeveloperSkillsNetwork-DL0120EN-SkillsNetwork-20629446&cm_mmca1=000026UJ&cm_mmca2=10006555&cm_mmca3=M12345678&cvosrc=email.Newsletter.M12345678&cvo_campaign=000026UJ)  \n"
        },
        {
            "cell_type": "markdown",
            "metadata": {},
            "source": "<hr>\n\nCopyright \u00a9 2018 [Cognitive Class](https://cocl.us/DX0108EN_CC). This notebook and its source code are released under the terms of the [MIT License](https://bigdatauniversity.com/mit-license?cm_mmc=Email_Newsletter-_-Developer_Ed%2BTech-_-WW_WW-_-SkillsNetwork-Courses-IBMDeveloperSkillsNetwork-DL0120EN-SkillsNetwork-20629446&cm_mmca1=000026UJ&cm_mmca2=10006555&cm_mmca3=M12345678&cvosrc=email.Newsletter.M12345678&cvo_campaign=000026UJ&cm_mmc=Email_Newsletter-_-Developer_Ed%2BTech-_-WW_WW-_-SkillsNetwork-Courses-IBMDeveloperSkillsNetwork-DL0120EN-SkillsNetwork-20629446&cm_mmca1=000026UJ&cm_mmca2=10006555&cm_mmca3=M12345678&cvosrc=email.Newsletter.M12345678&cvo_campaign=000026UJ).\n"
        }
    ],
    "metadata": {
        "anaconda-cloud": {},
        "kernelspec": {
            "display_name": "Python 3.7",
            "language": "python",
            "name": "python3"
        },
        "language_info": {
            "codemirror_mode": {
                "name": "ipython",
                "version": 3
            },
            "file_extension": ".py",
            "mimetype": "text/x-python",
            "name": "python",
            "nbconvert_exporter": "python",
            "pygments_lexer": "ipython3",
            "version": "3.7.9"
        }
    },
    "nbformat": 4,
    "nbformat_minor": 4
}