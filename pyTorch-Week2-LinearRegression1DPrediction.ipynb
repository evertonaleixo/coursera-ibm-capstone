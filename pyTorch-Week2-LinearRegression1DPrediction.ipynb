{
    "cells": [
        {
            "cell_type": "markdown",
            "metadata": {},
            "source": "<a href=\"http://cocl.us/pytorch_link_top\">\n    <img src=\"https://s3-api.us-geo.objectstorage.softlayer.net/cf-courses-data/CognitiveClass/DL0110EN/notebook_images%20/Pytochtop.png\" width=\"750\" alt=\"IBM Product \" />\n</a> \n"
        },
        {
            "cell_type": "markdown",
            "metadata": {},
            "source": "<img src=\"https://s3-api.us-geo.objectstorage.softlayer.net/cf-courses-data/CognitiveClass/DL0110EN/notebook_images%20/cc-logo-square.png\" width=\"200\" alt=\"cognitiveclass.ai logo\" />\n"
        },
        {
            "cell_type": "markdown",
            "metadata": {},
            "source": "<h1>Linear Regression 1D: Prediction</h1>\n"
        },
        {
            "cell_type": "markdown",
            "metadata": {},
            "source": "<h2>Objective</h2><ul><li> How to make the prediction for multiple inputs.</li><li> How to use linear class to build more complex models.</li><li> How to build a custom module.</li></ul> \n"
        },
        {
            "cell_type": "markdown",
            "metadata": {},
            "source": "<h2>Table of Contents</h2>\n<p>In this lab, we will  review how to make a prediction in several different ways by using PyTorch.</h2>\n<ul>\n    <li><a href=\"#Prediction\">Prediction</a></li>\n    <li><a href=\"#Linear\">Class Linear</a></li>\n    <li><a href=\"#Cust\">Build Custom Modules</a></li>\n</ul>\n<p>Estimated Time Needed: <strong>15 min</strong></p>\n\n<hr>\n"
        },
        {
            "cell_type": "markdown",
            "metadata": {},
            "source": "<h2>Preparation</h2>\n"
        },
        {
            "cell_type": "markdown",
            "metadata": {},
            "source": "The following are the libraries we are going to use for this lab.\n"
        },
        {
            "cell_type": "code",
            "execution_count": null,
            "metadata": {},
            "outputs": [
                {
                    "name": "stdout",
                    "output_type": "stream",
                    "text": "Solving environment: done\n\n## Package Plan ##\n\n  environment location: /opt/conda/envs/Python36\n\n  added / updated specs: \n    - pytorch\n    - torchvision\n\n\nThe following packages will be downloaded:\n\n    package                    |            build\n    ---------------------------|-----------------\n    torchvision-0.7.0          |       py36_cu102        11.0 MB  pytorch\n    ninja-1.10.1               |   py36hfd86e86_0         1.9 MB\n    openssl-1.1.1h             |       h7b6447c_0         3.8 MB\n    pytorch-1.6.0              |py3.6_cuda10.2.89_cudnn7.6.5_0       537.3 MB  pytorch\n    ------------------------------------------------------------\n                                           Total:       554.1 MB\n\nThe following NEW packages will be INSTALLED:\n\n    cudatoolkit: 10.2.89-hfd86e86_1                          \n    ninja:       1.10.1-py36hfd86e86_0                       \n    pytorch:     1.6.0-py3.6_cuda10.2.89_cudnn7.6.5_0 pytorch\n    torchvision: 0.7.0-py36_cu102                     pytorch\n\nThe following packages will be UPDATED:\n\n    openssl:     1.1.1g-h7b6447c_0                            --> 1.1.1h-h7b6447c_0\n\n\nDownloading and Extracting Packages\ntorchvision-0.7.0    | 11.0 MB   | ##################################### | 100% \nninja-1.10.1         | 1.9 MB    | ##################################### | 100% \nopenssl-1.1.1h       | 3.8 MB    | ##################################### | 100% \npytorch-1.6.0        | 537.3 MB  | ##################################### | 100% \nPreparing transaction: done\nVerifying transaction: / "
                }
            ],
            "source": "# These are the libraries will be used for this lab.\n!conda install pytorch torchvision -c pytorch\nimport torch"
        },
        {
            "cell_type": "markdown",
            "metadata": {},
            "source": "<!--Empty Space for separating topics-->\n"
        },
        {
            "cell_type": "markdown",
            "metadata": {},
            "source": "<h2 id=\"Prediction\">Prediction</h2>\n"
        },
        {
            "cell_type": "markdown",
            "metadata": {},
            "source": "Let us create the following expressions:\n"
        },
        {
            "cell_type": "markdown",
            "metadata": {},
            "source": "$b=-1,w=2$\n\n$\\\\hat{y}=-1+2x$\n"
        },
        {
            "cell_type": "markdown",
            "metadata": {},
            "source": "First, define the parameters:\n"
        },
        {
            "cell_type": "code",
            "execution_count": null,
            "metadata": {},
            "outputs": [],
            "source": "# Define w = 2 and b = -1 for y = wx + b\n\nw = torch.tensor(2.0, requires_grad = True)\nb = torch.tensor(-1.0, requires_grad = True)"
        },
        {
            "cell_type": "markdown",
            "metadata": {},
            "source": "Then, define the function <code>forward(x, w, b)</code> makes the prediction: \n"
        },
        {
            "cell_type": "code",
            "execution_count": null,
            "metadata": {},
            "outputs": [],
            "source": "# Function forward(x) for prediction\n\ndef forward(x):\n    yhat = w * x + b\n    return yhat"
        },
        {
            "cell_type": "markdown",
            "metadata": {},
            "source": "Let's make the following prediction at <i>x = 1</i>\n"
        },
        {
            "cell_type": "markdown",
            "metadata": {},
            "source": "$\\\\hat{y}=-1+2x$\n\n$\\\\hat{y}=-1+2(1)$\n"
        },
        {
            "cell_type": "code",
            "execution_count": null,
            "metadata": {},
            "outputs": [],
            "source": "# Predict y = 2x - 1 at x = 1\n\nx = torch.tensor([[1.0]])\nyhat = forward(x)\nprint(\"The prediction: \", yhat)"
        },
        {
            "cell_type": "markdown",
            "metadata": {},
            "source": "<!--Empty Space for separating topics-->\n"
        },
        {
            "cell_type": "markdown",
            "metadata": {},
            "source": "Now, let us try to make the prediction for multiple inputs:\n"
        },
        {
            "cell_type": "markdown",
            "metadata": {},
            "source": "<img src=\"https://s3-api.us-geo.objectstorage.softlayer.net/cf-courses-data/CognitiveClass/DL0110EN/notebook_images%20/chapter2/2.1.2.png\" width=\"500\" alt=\"Linear Regression Multiple Input Samples\" />\n"
        },
        {
            "cell_type": "markdown",
            "metadata": {},
            "source": "Let us construct the <code>x</code> tensor first. Check the shape of <code>x</code>.\n"
        },
        {
            "cell_type": "code",
            "execution_count": null,
            "metadata": {},
            "outputs": [],
            "source": "# Create x Tensor and check the shape of x tensor\n\nx = torch.tensor([[1.0], [2.0]])\nprint(\"The shape of x: \", x.shape)"
        },
        {
            "cell_type": "markdown",
            "metadata": {},
            "source": "Now make the prediction: \n"
        },
        {
            "cell_type": "code",
            "execution_count": null,
            "metadata": {},
            "outputs": [],
            "source": "# Make the prediction of y = 2x - 1 at x = [1, 2]\n\nyhat = forward(x)\nprint(\"The prediction: \", yhat)"
        },
        {
            "cell_type": "markdown",
            "metadata": {},
            "source": "The result is the same as what it is in the image above.\n"
        },
        {
            "cell_type": "markdown",
            "metadata": {},
            "source": "<!--Empty Space for separating topics-->\n"
        },
        {
            "cell_type": "markdown",
            "metadata": {},
            "source": "<h3>Practice</h3>\n"
        },
        {
            "cell_type": "markdown",
            "metadata": {},
            "source": "Make a prediction of the following <code>x</code> tensor using the <code>w</code> and <code>b</code> from above.\n"
        },
        {
            "cell_type": "code",
            "execution_count": null,
            "metadata": {},
            "outputs": [],
            "source": "# Practice: Make a prediction of y = 2x - 1 at x = [[1.0], [2.0], [3.0]]\n\nx = torch.tensor([[1.0], [2.0], [3.0]])"
        },
        {
            "cell_type": "markdown",
            "metadata": {},
            "source": "Double-click <b>here</b> for the solution.\n\n<!-- Your answer is below:\nyhat = forward(x)\nprint(\"The prediction: \", yhat)\n-->\n"
        },
        {
            "cell_type": "markdown",
            "metadata": {},
            "source": "<!--Empty Space for separating topics-->\n"
        },
        {
            "cell_type": "markdown",
            "metadata": {},
            "source": "<h2 id=\"Linear\">Class Linear</h2>\n"
        },
        {
            "cell_type": "markdown",
            "metadata": {},
            "source": "The linear class can be used to make a prediction. We can also use the linear class to build more complex models. Let's import the module:\n"
        },
        {
            "cell_type": "code",
            "execution_count": null,
            "metadata": {},
            "outputs": [],
            "source": "# Import Class Linear\n\nfrom torch.nn import Linear"
        },
        {
            "cell_type": "markdown",
            "metadata": {},
            "source": "Set the random seed because the parameters are randomly initialized:\n"
        },
        {
            "cell_type": "code",
            "execution_count": null,
            "metadata": {},
            "outputs": [],
            "source": "# Set random seed\n\ntorch.manual_seed(1)"
        },
        {
            "cell_type": "markdown",
            "metadata": {},
            "source": "<!--Empty Space for separating topics-->\n"
        },
        {
            "cell_type": "markdown",
            "metadata": {},
            "source": "Let us create the linear object by using the constructor. The parameters are randomly created. Let us print out to see what <i>w</i> and <i>b</i>. The parameters of an <code>torch.nn.Module</code> model are contained in the model\u2019s parameters accessed with <code>lr.parameters()</code>:\n"
        },
        {
            "cell_type": "code",
            "execution_count": null,
            "metadata": {},
            "outputs": [],
            "source": "# Create Linear Regression Model, and print out the parameters\n\nlr = Linear(in_features=1, out_features=1, bias=True)\nprint(\"Parameters w and b: \", list(lr.parameters()))\n"
        },
        {
            "cell_type": "markdown",
            "metadata": {},
            "source": "This is equivalent to the following expression:  \n"
        },
        {
            "cell_type": "markdown",
            "metadata": {},
            "source": "$b=-0.44, w=0.5153$\n\n$\\\\hat{y}=-0.44+0.5153x$\n"
        },
        {
            "cell_type": "markdown",
            "metadata": {},
            "source": "A method  <code>state_dict()</code> Returns a Python dictionary object corresponding to the layers of each parameter  tensor. \n"
        },
        {
            "cell_type": "code",
            "execution_count": null,
            "metadata": {},
            "outputs": [],
            "source": "print(\"Python dictionary: \",lr.state_dict())\nprint(\"keys: \",lr.state_dict().keys())\nprint(\"values: \",lr.state_dict().values())"
        },
        {
            "cell_type": "markdown",
            "metadata": {},
            "source": "The keys correspond to the name of the attributes and the values correspond to the parameter value.\n"
        },
        {
            "cell_type": "code",
            "execution_count": null,
            "metadata": {},
            "outputs": [],
            "source": "print(\"weight:\",lr.weight)\nprint(\"bias:\",lr.bias)"
        },
        {
            "cell_type": "markdown",
            "metadata": {},
            "source": "Now let us make a single prediction at <i>x = \\[[1.0]]</i>.\n"
        },
        {
            "cell_type": "code",
            "execution_count": null,
            "metadata": {},
            "outputs": [],
            "source": "# Make the prediction at x = [[1.0]]\n\nx = torch.tensor([[1.0]])\nyhat = lr(x)\nprint(\"The prediction: \", yhat)"
        },
        {
            "cell_type": "markdown",
            "metadata": {},
            "source": "<!--Empty Space for separating topics-->\n"
        },
        {
            "cell_type": "markdown",
            "metadata": {},
            "source": "Similarly, you can make multiple predictions:\n"
        },
        {
            "cell_type": "markdown",
            "metadata": {},
            "source": "<img src=\"https://s3-api.us-geo.objectstorage.softlayer.net/cf-courses-data/CognitiveClass/DL0110EN/notebook_images%20/chapter2/2.1.2vector_function.png\" width=\"500\" alt=\"Linear Class Sample with Multiple Inputs\" />\n"
        },
        {
            "cell_type": "markdown",
            "metadata": {},
            "source": "Use model <code>lr(x)</code> to predict the result.\n"
        },
        {
            "cell_type": "code",
            "execution_count": null,
            "metadata": {},
            "outputs": [],
            "source": "# Create the prediction using linear model\n\nx = torch.tensor([[1.0], [2.0]])\nyhat = lr(x)\nprint(\"The prediction: \", yhat)"
        },
        {
            "cell_type": "markdown",
            "metadata": {},
            "source": "<!--Empty Space for separating topics-->\n"
        },
        {
            "cell_type": "markdown",
            "metadata": {},
            "source": "<h3>Practice</h3>\n"
        },
        {
            "cell_type": "markdown",
            "metadata": {},
            "source": "Make a prediction of the following <code>x</code> tensor using the linear regression model <code>lr</code>.\n"
        },
        {
            "cell_type": "code",
            "execution_count": null,
            "metadata": {},
            "outputs": [],
            "source": "# Practice: Use the linear regression model object lr to make the prediction.\n\nx = torch.tensor([[1.0],[2.0],[3.0]])\n\nx=torch.tensor([[1.0],[2.0],[3.0]])\nyhat = lr(x)\nprint(\"The prediction: \", yhat)"
        },
        {
            "cell_type": "markdown",
            "metadata": {},
            "source": "Double-click <b>here</b> for the solution.\n\n<!-- Your answer is below:\nx=torch.tensor([[1.0],[2.0],[3.0]])\nyhat = lr(x)\nprint(\"The prediction: \", yhat)\n-->\n"
        },
        {
            "cell_type": "markdown",
            "metadata": {},
            "source": "<!--Empty Space for separating topics-->\n"
        },
        {
            "cell_type": "markdown",
            "metadata": {},
            "source": "<h2 id=\"Cust\">Build Custom Modules</h2>\n"
        },
        {
            "cell_type": "markdown",
            "metadata": {},
            "source": "Now, let's build a custom module. We can make more complex models by using this method later on. \n"
        },
        {
            "cell_type": "markdown",
            "metadata": {},
            "source": "First, import the following library.\n"
        },
        {
            "cell_type": "code",
            "execution_count": null,
            "metadata": {},
            "outputs": [],
            "source": "# Library for this section\n\nfrom torch import nn"
        },
        {
            "cell_type": "markdown",
            "metadata": {},
            "source": "Now, let us define the class: \n"
        },
        {
            "cell_type": "code",
            "execution_count": null,
            "metadata": {},
            "outputs": [],
            "source": "# Customize Linear Regression Class\n\nclass LR(nn.Module):\n    \n    # Constructor\n    def __init__(self, input_size, output_size):\n        \n        # Inherit from parent\n        super(LR, self).__init__()\n        self.linear = nn.Linear(input_size, output_size)\n    \n    # Prediction function\n    def forward(self, x):\n        out = self.linear(x)\n        return out"
        },
        {
            "cell_type": "markdown",
            "metadata": {},
            "source": "Create an object by using the constructor. Print out the parameters we get and the model.\n"
        },
        {
            "cell_type": "code",
            "execution_count": null,
            "metadata": {},
            "outputs": [],
            "source": "# Create the linear regression model. Print out the parameters.\n\nlr = LR(1, 1)\nprint(\"The parameters: \", list(lr.parameters()))\nprint(\"Linear model: \", lr.linear)"
        },
        {
            "cell_type": "markdown",
            "metadata": {},
            "source": "<!--Empty Space for separating topics-->\n"
        },
        {
            "cell_type": "markdown",
            "metadata": {},
            "source": "Let us try to make a prediction of a single input sample.\n"
        },
        {
            "cell_type": "code",
            "execution_count": null,
            "metadata": {},
            "outputs": [],
            "source": "# Try our customize linear regression model with single input\n\nx = torch.tensor([[1.0]])\nyhat = lr(x)\nprint(\"The prediction: \", yhat)"
        },
        {
            "cell_type": "markdown",
            "metadata": {},
            "source": "<!--Empty Space for separating topics-->\n"
        },
        {
            "cell_type": "markdown",
            "metadata": {},
            "source": "Now, let us try another example with multiple samples.\n"
        },
        {
            "cell_type": "code",
            "execution_count": null,
            "metadata": {},
            "outputs": [],
            "source": "# Try our customize linear regression model with multiple input\n\nx = torch.tensor([[1.0], [2.0]])\nyhat = lr(x)\nprint(\"The prediction: \", yhat)"
        },
        {
            "cell_type": "markdown",
            "metadata": {},
            "source": "the parameters are also stored in an ordered dictionary :\n"
        },
        {
            "cell_type": "code",
            "execution_count": null,
            "metadata": {},
            "outputs": [],
            "source": "print(\"Python dictionary: \", lr.state_dict())\nprint(\"keys: \",lr.state_dict().keys())\nprint(\"values: \",lr.state_dict().values())\n"
        },
        {
            "cell_type": "markdown",
            "metadata": {},
            "source": "<!--Empty Space for separating topics-->\n"
        },
        {
            "cell_type": "markdown",
            "metadata": {},
            "source": "<h3>Practice</h3>\n"
        },
        {
            "cell_type": "markdown",
            "metadata": {},
            "source": "Create an object <code>lr1</code> from the class we created before and make a prediction by using the following tensor: \n"
        },
        {
            "cell_type": "code",
            "execution_count": null,
            "metadata": {},
            "outputs": [],
            "source": "# Practice: Use the LR class to create a model and make a prediction of the following tensor.\n\nx = torch.tensor([[1.0], [2.0], [3.0]])\n\nx=torch.tensor([[1.0],[2.0],[3.0]])\nyhat = lr(x)\nprint(\"The prediction: \", yhat)"
        },
        {
            "cell_type": "markdown",
            "metadata": {},
            "source": "Double-click <b>here</b> for the solution.\n\n<!-- Your answer is below:\nx=torch.tensor([[1.0],[2.0],[3.0]])\nlr1=LR(1,1)\nyhat=lr(x)\nyhat\n-->\n"
        },
        {
            "cell_type": "markdown",
            "metadata": {},
            "source": " <!-- Your answer is below:\nx=torch.tensor([[1.0],[2.0],[3.0]])\nlr1=LR(1,1)\nyhat=lr1(x)\nyhat\n-->\n"
        },
        {
            "cell_type": "markdown",
            "metadata": {},
            "source": "<a href=\"http://cocl.us/pytorch_link_bottom\">\n    <img src=\"https://s3-api.us-geo.objectstorage.softlayer.net/cf-courses-data/CognitiveClass/DL0110EN/notebook_images%20/notebook_bottom%20.png\" width=\"750\" alt=\"PyTorch Bottom\" />\n</a>\n"
        },
        {
            "cell_type": "markdown",
            "metadata": {},
            "source": "<h2>About the Authors:</h2> \n\n<a href=\"https://www.linkedin.com/in/joseph-s-50398b136/\">Joseph Santarcangelo</a> has a PhD in Electrical Engineering, his research focused on using machine learning, signal processing, and computer vision to determine how videos impact human cognition. Joseph has been working for IBM since he completed his PhD.\n"
        },
        {
            "cell_type": "markdown",
            "metadata": {},
            "source": "Other contributors: <a href=\"https://www.linkedin.com/in/michelleccarey/\">Michelle Carey</a>, <a href=\"www.linkedin.com/in/jiahui-mavis-zhou-a4537814a\">Mavis Zhou</a> \n"
        },
        {
            "cell_type": "markdown",
            "metadata": {},
            "source": "## Change Log\n\n| Date (YYYY-MM-DD) | Version | Changed By | Change Description                                          |\n| ----------------- | ------- | ---------- | ----------------------------------------------------------- |\n| 2020-09-21        | 2.0     | Shubham    | Migrated Lab to Markdown and added to course repo in GitLab |\n"
        },
        {
            "cell_type": "markdown",
            "metadata": {},
            "source": "<hr>\n"
        },
        {
            "cell_type": "markdown",
            "metadata": {},
            "source": "Copyright \u00a9 2018 <a href=\"cognitiveclass.ai?utm_source=bducopyrightlink&utm_medium=dswb&utm_campaign=bdu\">cognitiveclass.ai</a>. This notebook and its source code are released under the terms of the <a href=\"https://bigdatauniversity.com/mit-license/\">MIT License</a>.\n"
        }
    ],
    "metadata": {
        "kernelspec": {
            "display_name": "Python 3.6",
            "language": "python",
            "name": "python3"
        },
        "language_info": {
            "codemirror_mode": {
                "name": "ipython",
                "version": 3
            },
            "file_extension": ".py",
            "mimetype": "text/x-python",
            "name": "python",
            "nbconvert_exporter": "python",
            "pygments_lexer": "ipython3",
            "version": "3.6.9"
        }
    },
    "nbformat": 4,
    "nbformat_minor": 2
}