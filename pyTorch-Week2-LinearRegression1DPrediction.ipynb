{
    "cells": [
        {
            "cell_type": "markdown",
            "metadata": {},
            "source": "<a href=\"http://cocl.us/pytorch_link_top\">\n    <img src=\"https://s3-api.us-geo.objectstorage.softlayer.net/cf-courses-data/CognitiveClass/DL0110EN/notebook_images%20/Pytochtop.png\" width=\"750\" alt=\"IBM Product \" />\n</a> \n"
        },
        {
            "cell_type": "markdown",
            "metadata": {},
            "source": "<img src=\"https://s3-api.us-geo.objectstorage.softlayer.net/cf-courses-data/CognitiveClass/DL0110EN/notebook_images%20/cc-logo-square.png\" width=\"200\" alt=\"cognitiveclass.ai logo\" />\n"
        },
        {
            "cell_type": "markdown",
            "metadata": {},
            "source": "<h1>Linear Regression 1D: Training One Parameter</h1>\n"
        },
        {
            "cell_type": "markdown",
            "metadata": {},
            "source": "<h2>Objective</h2><ul><li> How to create cost or criterion function using MSE (Mean Square Error).</li></ul> \n"
        },
        {
            "cell_type": "markdown",
            "metadata": {},
            "source": "<h2>Table of Contents</h2>\n<p>In this lab, you will train a model with PyTorch by using data that you created. The model only has one parameter: the slope.</p>\n\n<ul>\n    <li><a href=\"#Makeup_Data\">Make Some Data</a></li>\n    <li><a href=\"#Model_Cost\">Create the Model and Cost Function (Total Loss)</a></li>\n    <li><a href=\"#Train\">Train the Model</a></li>\n</ul>\n<p>Estimated Time Needed: <strong>20 min</strong></p>\n\n<hr>\n"
        },
        {
            "cell_type": "markdown",
            "metadata": {},
            "source": "<h2>Preparation</h2>\n"
        },
        {
            "cell_type": "markdown",
            "metadata": {},
            "source": "The following are the libraries we are going to use for this lab.\n"
        },
        {
            "cell_type": "code",
            "execution_count": 1,
            "metadata": {},
            "outputs": [],
            "source": "# These are the libraries will be used for this lab.\n\nimport numpy as np\nimport matplotlib.pyplot as plt"
        },
        {
            "cell_type": "markdown",
            "metadata": {},
            "source": "The class <code>plot_diagram</code> helps us to visualize the data space and the parameter space during training and has nothing to do with PyTorch.\n"
        },
        {
            "cell_type": "code",
            "execution_count": 2,
            "metadata": {},
            "outputs": [],
            "source": "# The class for plotting\n\nclass plot_diagram():\n    \n    # Constructor\n    def __init__(self, X, Y, w, stop, go = False):\n        start = w.data\n        self.error = []\n        self.parameter = []\n        self.X = X.numpy()\n        self.Y = Y.numpy()\n        self.parameter_values = torch.arange(start, stop)\n        self.Loss_function = [criterion(forward(X), Y) for w.data in self.parameter_values] \n        w.data = start\n        \n    # Executor\n    def __call__(self, Yhat, w, error, n):\n        self.error.append(error)\n        self.parameter.append(w.data)\n        plt.subplot(212)\n        plt.plot(self.X, Yhat.detach().numpy())\n        plt.plot(self.X, self.Y,'ro')\n        plt.xlabel(\"A\")\n        plt.ylim(-20, 20)\n        plt.subplot(211)\n        plt.title(\"Data Space (top) Estimated Line (bottom) Iteration \" + str(n))\n        plt.plot(self.parameter_values.numpy(), self.Loss_function)   \n        plt.plot(self.parameter, self.error, 'ro')\n        plt.xlabel(\"B\")\n        plt.figure()\n    \n    # Destructor\n    def __del__(self):\n        plt.close('all')"
        },
        {
            "cell_type": "markdown",
            "metadata": {},
            "source": "<!--Empty Space for separating topics-->\n"
        },
        {
            "cell_type": "markdown",
            "metadata": {},
            "source": "<h2 id=\"Makeup_Data\">Make Some Data</h2>\n"
        },
        {
            "cell_type": "markdown",
            "metadata": {},
            "source": "Import PyTorch library:\n"
        },
        {
            "cell_type": "code",
            "execution_count": 4,
            "metadata": {},
            "outputs": [
                {
                    "name": "stdout",
                    "output_type": "stream",
                    "text": "Collecting pytorch\n  Downloading https://files.pythonhosted.org/packages/ee/67/f403d4ae6e9cd74b546ee88cccdb29b8415a9c1b3d80aebeb20c9ea91d96/pytorch-1.0.2.tar.gz\nBuilding wheels for collected packages: pytorch\n  Building wheel for pytorch (setup.py) ... \u001b[?25lerror\n\u001b[31m  ERROR: Complete output from command /opt/conda/envs/Python36/bin/python -u -c 'import setuptools, tokenize;__file__='\"'\"'/home/dsxuser/.tmp/pip-install-a694xfrh/pytorch/setup.py'\"'\"';f=getattr(tokenize, '\"'\"'open'\"'\"', open)(__file__);code=f.read().replace('\"'\"'\\r\\n'\"'\"', '\"'\"'\\n'\"'\"');f.close();exec(compile(code, __file__, '\"'\"'exec'\"'\"'))' bdist_wheel -d /home/dsxuser/.tmp/pip-wheel-2mfgypr3 --python-tag cp36:\u001b[0m\n\u001b[31m  ERROR: Traceback (most recent call last):\n    File \"<string>\", line 1, in <module>\n    File \"/home/dsxuser/.tmp/pip-install-a694xfrh/pytorch/setup.py\", line 15, in <module>\n      raise Exception(message)\n  Exception: You tried to install \"pytorch\". The package named for PyTorch is \"torch\"\n  ----------------------------------------\u001b[0m\n\u001b[31m  ERROR: Failed building wheel for pytorch\u001b[0m\n\u001b[?25h  Running setup.py clean for pytorch\nFailed to build pytorch\nInstalling collected packages: pytorch\n  Running setup.py install for pytorch ... \u001b[?25lerror\n\u001b[31m    ERROR: Complete output from command /opt/conda/envs/Python36/bin/python -u -c 'import setuptools, tokenize;__file__='\"'\"'/home/dsxuser/.tmp/pip-install-a694xfrh/pytorch/setup.py'\"'\"';f=getattr(tokenize, '\"'\"'open'\"'\"', open)(__file__);code=f.read().replace('\"'\"'\\r\\n'\"'\"', '\"'\"'\\n'\"'\"');f.close();exec(compile(code, __file__, '\"'\"'exec'\"'\"'))' install --record /home/dsxuser/.tmp/pip-record-1am9ruk_/install-record.txt --single-version-externally-managed --compile:\u001b[0m\n\u001b[31m    ERROR: Traceback (most recent call last):\n      File \"<string>\", line 1, in <module>\n      File \"/home/dsxuser/.tmp/pip-install-a694xfrh/pytorch/setup.py\", line 11, in <module>\n        raise Exception(message)\n    Exception: You tried to install \"pytorch\". The package named for PyTorch is \"torch\"\n    ----------------------------------------\u001b[0m\n\u001b[31mERROR: Command \"/opt/conda/envs/Python36/bin/python -u -c 'import setuptools, tokenize;__file__='\"'\"'/home/dsxuser/.tmp/pip-install-a694xfrh/pytorch/setup.py'\"'\"';f=getattr(tokenize, '\"'\"'open'\"'\"', open)(__file__);code=f.read().replace('\"'\"'\\r\\n'\"'\"', '\"'\"'\\n'\"'\"');f.close();exec(compile(code, __file__, '\"'\"'exec'\"'\"'))' install --record /home/dsxuser/.tmp/pip-record-1am9ruk_/install-record.txt --single-version-externally-managed --compile\" failed with error code 1 in /home/dsxuser/.tmp/pip-install-a694xfrh/pytorch/\u001b[0m\n\u001b[?25h"
                },
                {
                    "ename": "ModuleNotFoundError",
                    "evalue": "No module named 'torch'",
                    "output_type": "error",
                    "traceback": [
                        "\u001b[0;31m---------------------------------------------------------------------------\u001b[0m",
                        "\u001b[0;31mModuleNotFoundError\u001b[0m                       Traceback (most recent call last)",
                        "\u001b[0;32m<ipython-input-4-316599ee06a8>\u001b[0m in \u001b[0;36m<module>\u001b[0;34m\u001b[0m\n\u001b[1;32m      1\u001b[0m \u001b[0;31m# Import the library PyTorch\u001b[0m\u001b[0;34m\u001b[0m\u001b[0;34m\u001b[0m\u001b[0;34m\u001b[0m\u001b[0m\n\u001b[1;32m      2\u001b[0m \u001b[0mget_ipython\u001b[0m\u001b[0;34m(\u001b[0m\u001b[0;34m)\u001b[0m\u001b[0;34m.\u001b[0m\u001b[0msystem\u001b[0m\u001b[0;34m(\u001b[0m\u001b[0;34m'pip install pytorch'\u001b[0m\u001b[0;34m)\u001b[0m\u001b[0;34m\u001b[0m\u001b[0;34m\u001b[0m\u001b[0m\n\u001b[0;32m----> 3\u001b[0;31m \u001b[0;32mimport\u001b[0m \u001b[0mtorch\u001b[0m\u001b[0;34m\u001b[0m\u001b[0;34m\u001b[0m\u001b[0m\n\u001b[0m",
                        "\u001b[0;31mModuleNotFoundError\u001b[0m: No module named 'torch'"
                    ]
                }
            ],
            "source": "# Import the library PyTorch\n!pip install pytorch\nimport torch"
        },
        {
            "cell_type": "markdown",
            "metadata": {},
            "source": "Generate values from -3 to 3 that create a line with a slope of -3. This is the line you will estimate.\n"
        },
        {
            "cell_type": "code",
            "execution_count": null,
            "metadata": {},
            "outputs": [],
            "source": "# Create the f(X) with a slope of -3\n\nX = torch.arange(-3, 3, 0.1).view(-1, 1)\nf = -3 * X"
        },
        {
            "cell_type": "markdown",
            "metadata": {},
            "source": "Let us plot the line.\n"
        },
        {
            "cell_type": "code",
            "execution_count": null,
            "metadata": {},
            "outputs": [],
            "source": "# Plot the line with blue\n\nplt.plot(X.numpy(), f.numpy(), label = 'f')\nplt.xlabel('x')\nplt.ylabel('y')\nplt.legend()\nplt.show()"
        },
        {
            "cell_type": "markdown",
            "metadata": {},
            "source": "Let us add some noise to the data in order to simulate the real data. Use <code>torch.randn(X.size())</code> to generate Gaussian noise that is the same size as <code>X</code> and has a standard deviation opf 0.1.\n"
        },
        {
            "cell_type": "code",
            "execution_count": null,
            "metadata": {},
            "outputs": [],
            "source": "# Add some noise to f(X) and save it in Y\n\nY = f + 0.1 * torch.randn(X.size())"
        },
        {
            "cell_type": "markdown",
            "metadata": {},
            "source": "Plot the <code>Y</code>: \n"
        },
        {
            "cell_type": "code",
            "execution_count": null,
            "metadata": {},
            "outputs": [],
            "source": "# Plot the data points\n\nplt.plot(X.numpy(), Y.numpy(), 'rx', label = 'Y')\n\nplt.plot(X.numpy(), f.numpy(), label = 'f')\nplt.xlabel('x')\nplt.ylabel('y')\nplt.legend()\nplt.show()"
        },
        {
            "cell_type": "markdown",
            "metadata": {},
            "source": "<!--Empty Space for separating topics-->\n"
        },
        {
            "cell_type": "markdown",
            "metadata": {},
            "source": "<h2 id=\"Model_Cost\">Create the Model and Cost Function (Total Loss)</h2>\n"
        },
        {
            "cell_type": "markdown",
            "metadata": {},
            "source": "In this section, let us create the model and the cost function (total loss) we are going to use to train the model and evaluate the result.\n"
        },
        {
            "cell_type": "markdown",
            "metadata": {},
            "source": "First, define the <code>forward</code> function $y=w\\*x$. (We will add the bias in the next lab.)\n"
        },
        {
            "cell_type": "code",
            "execution_count": null,
            "metadata": {},
            "outputs": [],
            "source": "# Create forward function for prediction\n\ndef forward(x):\n    return w * x"
        },
        {
            "cell_type": "markdown",
            "metadata": {},
            "source": "Define the cost or criterion function using MSE (Mean Square Error): \n"
        },
        {
            "cell_type": "code",
            "execution_count": null,
            "metadata": {},
            "outputs": [],
            "source": "# Create the MSE function for evaluate the result.\n\ndef criterion(yhat, y):\n    return torch.mean((yhat - y) ** 2)"
        },
        {
            "cell_type": "markdown",
            "metadata": {},
            "source": "Define the learning rate <code>lr</code> and an empty list <code>LOSS</code> to record the loss for each iteration:   \n"
        },
        {
            "cell_type": "code",
            "execution_count": null,
            "metadata": {},
            "outputs": [],
            "source": "# Create Learning Rate and an empty list to record the loss for each iteration\n\nlr = 0.1\nLOSS = []"
        },
        {
            "cell_type": "markdown",
            "metadata": {},
            "source": "Now, we create a model parameter by setting the argument <code>requires_grad</code> to <code> True</code> because the system must learn it.\n"
        },
        {
            "cell_type": "code",
            "execution_count": null,
            "metadata": {},
            "outputs": [],
            "source": "w = torch.tensor(-10.0, requires_grad = True)"
        },
        {
            "cell_type": "markdown",
            "metadata": {},
            "source": "Create a <code>plot_diagram</code> object to visualize the data space and the parameter space for each iteration during training:\n"
        },
        {
            "cell_type": "code",
            "execution_count": null,
            "metadata": {},
            "outputs": [],
            "source": "gradient_plot = plot_diagram(X, Y, w, stop = 5)"
        },
        {
            "cell_type": "markdown",
            "metadata": {},
            "source": "<!--Empty Space for separating topics-->\n"
        },
        {
            "cell_type": "markdown",
            "metadata": {},
            "source": "<h2 id=\"Train\">Train the Model</h2>\n"
        },
        {
            "cell_type": "markdown",
            "metadata": {},
            "source": "Let us define a function for training the model. The steps will be described in the comments.\n"
        },
        {
            "cell_type": "code",
            "execution_count": null,
            "metadata": {},
            "outputs": [],
            "source": "# Define a function for train the model\n\ndef train_model(iter):\n    for epoch in range (iter):\n        \n        # make the prediction as we learned in the last lab\n        Yhat = forward(X)\n        \n        # calculate the iteration\n        loss = criterion(Yhat,Y)\n        \n        # plot the diagram for us to have a better idea\n        gradient_plot(Yhat, w, loss.item(), epoch)\n        \n        # store the loss into list\n        LOSS.append(loss.item())\n        \n        # backward pass: compute gradient of the loss with respect to all the learnable parameters\n        loss.backward()\n        \n        # updata parameters\n        w.data = w.data - lr * w.grad.data\n        \n        # zero the gradients before running the backward pass\n        w.grad.data.zero_()"
        },
        {
            "cell_type": "markdown",
            "metadata": {},
            "source": "Let us try to run 4 iterations of gradient descent:  \n"
        },
        {
            "cell_type": "code",
            "execution_count": null,
            "metadata": {},
            "outputs": [],
            "source": "# Give 4 iterations for training the model here.\n\ntrain_model(4)"
        },
        {
            "cell_type": "markdown",
            "metadata": {},
            "source": "Plot the cost for each iteration: \n"
        },
        {
            "cell_type": "code",
            "execution_count": null,
            "metadata": {},
            "outputs": [],
            "source": "# Plot the loss for each iteration\n\nplt.plot(LOSS)\nplt.tight_layout()\nplt.xlabel(\"Epoch/Iterations\")\nplt.ylabel(\"Cost\")"
        },
        {
            "cell_type": "markdown",
            "metadata": {},
            "source": "<!--Empty Space for separating topics-->\n"
        },
        {
            "cell_type": "markdown",
            "metadata": {},
            "source": "<h3>Practice</h3>\n"
        },
        {
            "cell_type": "markdown",
            "metadata": {},
            "source": "Create a new learnable parameter <code>w</code> with an initial value of -15.0.\n"
        },
        {
            "cell_type": "code",
            "execution_count": null,
            "metadata": {},
            "outputs": [],
            "source": "# Practice: Create w with the inital value of -15.0\n\n# Type your code here\nw = torch.tensor(-15.0, requires_grad=True)"
        },
        {
            "cell_type": "markdown",
            "metadata": {},
            "source": "Double-click <b>here</b> for the solution.\n\n<!-- Your answer is below:\nw = torch.tensor(-15.0, requires_grad=True)\n-->\n"
        },
        {
            "cell_type": "markdown",
            "metadata": {},
            "source": "<!--Empty Space for separating topics-->\n"
        },
        {
            "cell_type": "markdown",
            "metadata": {},
            "source": "Create an empty list <code>LOSS2</code>:\n"
        },
        {
            "cell_type": "code",
            "execution_count": null,
            "metadata": {},
            "outputs": [],
            "source": "# Practice: Create LOSS2 list\n\n# Type your code here\nLOSS2 = []"
        },
        {
            "cell_type": "markdown",
            "metadata": {},
            "source": "Double-click <b>here</b> for the solution.\n\n<!-- Your answer is below:\nLOSS2 = []\n-->\n"
        },
        {
            "cell_type": "markdown",
            "metadata": {},
            "source": "<!--Empty Space for separating topics-->\n"
        },
        {
            "cell_type": "markdown",
            "metadata": {},
            "source": "Write your own <code>my_train_model</code> function with loss list <code>LOSS2</code>. And run it with 4 iterations.\n"
        },
        {
            "cell_type": "code",
            "execution_count": null,
            "metadata": {},
            "outputs": [],
            "source": "# Practice: Create your own my_train_model\n\ngradient_plot1 = plot_diagram(X, Y, w, stop = 15)\n\ndef my_train_model(iter):\n    for epoch in range (iter):\n        Yhat = forward(X)\n        loss = criterion(Yhat,Y)\n        gradient_plot1(Yhat, w, loss.item(), epoch)\n        LOSS2.append(loss)\n        loss.backward()\n        w.data = w.data - lr * w.grad.data\n        w.grad.data.zero_("
        },
        {
            "cell_type": "markdown",
            "metadata": {},
            "source": "Double-click <b>here</b> for the solution.\n\n<!-- Your answer is below:\n\ndef my_train_model(iter):\n    for epoch in range (iter):\n        Yhat = forward(X)\n        loss = criterion(Yhat,Y)\n        gradient_plot1(Yhat, w, loss.item(), epoch)\n        LOSS2.append(loss)\n        loss.backward()\n        w.data = w.data - lr * w.grad.data\n        w.grad.data.zero_()\nmy_train_model(4)\n    -->\n"
        },
        {
            "cell_type": "markdown",
            "metadata": {},
            "source": "<!--Empty Space for separating topics-->\n"
        },
        {
            "cell_type": "markdown",
            "metadata": {},
            "source": "Plot an overlay of the list <code>LOSS2</code> and <code>LOSS</code>. \n"
        },
        {
            "cell_type": "code",
            "execution_count": null,
            "metadata": {},
            "outputs": [],
            "source": "# Practice: Plot the list LOSS2 and LOSS\n\nplt.plot(LOSS, label = \"LOSS\")\nplt.plot(LOSS2, label = \"LOSS2\")\nplt.tight_layout()\nplt.xlabel(\"Epoch/Iterations\")\nplt.ylabel(\"Cost\")\nplt.legend()"
        },
        {
            "cell_type": "markdown",
            "metadata": {},
            "source": "Double-click <b>here</b> for the solution.\n\n<!-- Your answer is below:\nplt.plot(LOSS, label = \"LOSS\")\nplt.plot(LOSS2, label = \"LOSS2\")\nplt.tight_layout()\nplt.xlabel(\"Epoch/Iterations\")\nplt.ylabel(\"Cost\")\nplt.legend()\n-->\n"
        },
        {
            "cell_type": "markdown",
            "metadata": {},
            "source": "<!--Empty Space for separating topics-->\n"
        },
        {
            "cell_type": "markdown",
            "metadata": {},
            "source": "What does this tell you about the parameter value? \n"
        },
        {
            "cell_type": "markdown",
            "metadata": {},
            "source": "Double-click <b>here</b> for the solution.\n\n<!-- Your answer is below:\nthe parameter value is sensitive to initialization  \n    -->\n"
        },
        {
            "cell_type": "markdown",
            "metadata": {},
            "source": "<!--Empty Space for separating topics-->\n"
        },
        {
            "cell_type": "markdown",
            "metadata": {},
            "source": "<a href=\"http://cocl.us/pytorch_link_bottom\">\n    <img src=\"https://s3-api.us-geo.objectstorage.softlayer.net/cf-courses-data/CognitiveClass/DL0110EN/notebook_images%20/notebook_bottom%20.png\" width=\"750\" alt=\"PyTorch Bottom\" />\n</a>\n"
        },
        {
            "cell_type": "markdown",
            "metadata": {},
            "source": "<h2>About the Authors:</h2> \n\n<a href=\"https://www.linkedin.com/in/joseph-s-50398b136/\">Joseph Santarcangelo</a> has a PhD in Electrical Engineering, his research focused on using machine learning, signal processing, and computer vision to determine how videos impact human cognition. Joseph has been working for IBM since he completed his PhD.\n"
        },
        {
            "cell_type": "markdown",
            "metadata": {},
            "source": "Other contributors: <a href=\"https://www.linkedin.com/in/michelleccarey/\">Michelle Carey</a>, <a href=\"www.linkedin.com/in/jiahui-mavis-zhou-a4537814a\">Mavis Zhou</a> \n"
        },
        {
            "cell_type": "markdown",
            "metadata": {},
            "source": "## Change Log\n\n| Date (YYYY-MM-DD) | Version | Changed By | Change Description                                          |\n| ----------------- | ------- | ---------- | ----------------------------------------------------------- |\n| 2020-09-21        | 2.0     | Shubham    | Migrated Lab to Markdown and added to course repo in GitLab |\n"
        },
        {
            "cell_type": "markdown",
            "metadata": {},
            "source": "<hr>\n"
        },
        {
            "cell_type": "markdown",
            "metadata": {},
            "source": "Copyright \u00a9 2018 <a href=\"cognitiveclass.ai?utm_source=bducopyrightlink&utm_medium=dswb&utm_campaign=bdu\">cognitiveclass.ai</a>. This notebook and its source code are released under the terms of the <a href=\"https://bigdatauniversity.com/mit-license/\">MIT License</a>.\n"
        }
    ],
    "metadata": {
        "kernelspec": {
            "display_name": "Python 3.6",
            "language": "python",
            "name": "python3"
        },
        "language_info": {
            "codemirror_mode": {
                "name": "ipython",
                "version": 3
            },
            "file_extension": ".py",
            "mimetype": "text/x-python",
            "name": "python",
            "nbconvert_exporter": "python",
            "pygments_lexer": "ipython3",
            "version": "3.6.9"
        }
    },
    "nbformat": 4,
    "nbformat_minor": 2
}